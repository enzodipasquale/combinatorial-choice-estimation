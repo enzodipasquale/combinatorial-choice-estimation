{
 "cells": [
  {
   "cell_type": "code",
   "execution_count": 1,
   "metadata": {},
   "outputs": [],
   "source": [
    "import numpy as np\n",
    "from scipy.optimize import linprog\n",
    "import scipy.sparse as spr\n",
    "import itertools\n",
    "from scipy.linalg import sqrtm\n",
    "from jax.scipy.optimize import minimize\n",
    "import jax.numpy as jnp\n",
    "import jax\n",
    "from itertools import product\n",
    "import torch"
   ]
  },
  {
   "cell_type": "code",
   "execution_count": 2,
   "metadata": {},
   "outputs": [],
   "source": [
    "import numpy as np\n",
    "\n",
    "np.random.seed(1)\n",
    "J = 500\n",
    "K = 5\n",
    "lambda_k = np.ones(K)\n",
    "\n",
    "phi_j = np.random.normal(10, 300, size = [J,K])  \n",
    "\n",
    "def v(B):\n",
    "    if B.dtype == bool:\n",
    "        return phi_j[B,:].sum(0)@lambda_k -  B.sum()**2\n",
    "    elif B.dtype == int:\n",
    "        return phi_j[B,:].sum(0)@lambda_k  - len(B)**2\n",
    "    else:\n",
    "        print(\"Error: B must be a boolean or integer array\")\n",
    "\n"
   ]
  },
  {
   "cell_type": "code",
   "execution_count": 3,
   "metadata": {},
   "outputs": [
    {
     "name": "stdout",
     "output_type": "stream",
     "text": [
      "-53015.568602015424\n",
      "-53015.568602015424\n"
     ]
    }
   ],
   "source": [
    "# array of size J with 1 in the 10th position\n",
    "np.random.seed(1)\n",
    "B = np.random.randint(2, size=J, dtype=bool)\n",
    "print(v(B))\n",
    "print(v(np.where(B)[0]))"
   ]
  },
  {
   "cell_type": "code",
   "execution_count": 4,
   "metadata": {},
   "outputs": [],
   "source": [
    "def minimize_v():\n",
    "    min_value = np.inf\n",
    "    best_array = None\n",
    "\n",
    "    # Generate all binary arrays of size J\n",
    "    for binary_array in product([0, 1], repeat=J):\n",
    "        B = np.array(binary_array, dtype=bool)\n",
    "        current_value = v(B)\n",
    "        \n",
    "        # Check if the current value is less than the min_value\n",
    "        if current_value < min_value:\n",
    "            min_value = current_value\n",
    "            best_array = B\n",
    "\n",
    "    return min_value, best_array\n",
    "\n",
    "# Find the minimizer and the maximum value\n",
    "# min_val, minimizer = minimize_v()\n",
    "\n",
    "# print(\"Minimum Value:\", min_val)\n",
    "# print(\"minimizer:\", minimizer)"
   ]
  },
  {
   "cell_type": "markdown",
   "metadata": {},
   "source": [
    "The Lovatz extension of $v: [n] \\rightarrow \\mathbb{R}$ is\n",
    "$$ \\hat v (z) = \\sum_{i = 0}^n (z_{i} - z_{i+1}) f([i]) $$\n",
    "if $z_0 = 1 \\geq z_1 \\geq \\dots \\geq z_n \\geq 0 = z_{n+1}.$\n",
    "\n",
    "In other words,\n",
    "$$ \\hat v (z) = \\sum_{i = 0}^n (z_{\\sigma_i} - z_{\\sigma_{i+1}}) v([\\sigma_i ]) $$\n",
    "where $\\sigma$ is any ordering permutation of $z$ concatenated to 0 and 1. \n"
   ]
  },
  {
   "cell_type": "code",
   "execution_count": 5,
   "metadata": {},
   "outputs": [
    {
     "name": "stdout",
     "output_type": "stream",
     "text": [
      "-53015.568602015424\n",
      "-53015.568602015424\n"
     ]
    }
   ],
   "source": [
    "def v_hat(z_j):\n",
    "    sorted_z_id = np.argsort(z_j)[::-1]\n",
    "    \n",
    "    sorted_z_j = np.concatenate(([1],z_j[sorted_z_id], [0])) \n",
    "    # print(sorted_z_j)\n",
    "    val = 0\n",
    "    for j in range(J+1):\n",
    "        # print(v(sorted_z_id[np.arange(j)]))\n",
    "        val += v(sorted_z_id[np.arange(j)]) * (sorted_z_j[j] - sorted_z_j[j+1])\n",
    "\n",
    "    return val\n",
    "\n",
    "\n",
    "print(v(B))\n",
    "print(v_hat(B * 1))\n",
    "# for i in range(3):\n",
    "#     z_check = np.random.randint(2, size=J, dtype=bool)\n",
    "#     print(z_check)\n",
    "#     print(v(z_check))\n",
    "#     print( v_hat(z_check * 1) )\n"
   ]
  },
  {
   "cell_type": "markdown",
   "metadata": {},
   "source": [
    "The subgradient of $\\hat v$ coincides with the convex hull of the set of $g \\in \\mathbb{R}^n$ such that \n",
    "$$ g_{\\sigma_i} = v([\\sigma_i]) - v([\\sigma_{i-1}]) $$\n",
    "for some $\\sigma$ ordering permutation of $z$ concatenated to 0 with $\\sigma_0 = 0$.\n"
   ]
  },
  {
   "cell_type": "code",
   "execution_count": 6,
   "metadata": {},
   "outputs": [],
   "source": [
    "def grad_v_hat(z_j):\n",
    "    sorted_z_id = np.argsort(z_j)[::-1]\n",
    "\n",
    "    grad = np.zeros(J)\n",
    "    for j in range(0,J):\n",
    "        grad[sorted_z_id[j]] = v(sorted_z_id[np.arange(j+1)]) - v(sorted_z_id[np.arange(j)])\n",
    "\n",
    "    return grad"
   ]
  },
  {
   "cell_type": "code",
   "execution_count": null,
   "metadata": {},
   "outputs": [],
   "source": []
  },
  {
   "cell_type": "code",
   "execution_count": 7,
   "metadata": {},
   "outputs": [],
   "source": [
    "def mirror_descent(num_iterations, alpha):\n",
    "    # Initialize z within the hypercube [0,1]^n\n",
    "    np.random.seed(1)\n",
    "    z = np.ones(J)/2 \n",
    "\n",
    "\n",
    "    # Start Mirror Descent\n",
    "    z_list = []\n",
    "    iter = 0 \n",
    "    for _ in range(num_iterations):\n",
    "        grad = grad_v_hat(z) \n",
    "\n",
    "        # z_new = z * np.exp( - alpha * grad)\n",
    "        z_new = z - alpha * grad / np.linalg.norm(grad)\n",
    "        z_new = np.clip(z_new, 0, 1)\n",
    "\n",
    "        z = z_new\n",
    "        z_list.append(z)\n",
    "        iter += 1\n",
    "\n",
    "    z_star = np.array(z_list)[-int(np.floor(num_iterations)/30):,:].mean(0)\n",
    "    bundle_star = np.array(z_star.round(0), dtype= bool)\n",
    "    return z_star, bundle_star"
   ]
  },
  {
   "cell_type": "code",
   "execution_count": 16,
   "metadata": {},
   "outputs": [
    {
     "name": "stdout",
     "output_type": "stream",
     "text": [
      "1350\n",
      "0.6085806194501846\n"
     ]
    }
   ],
   "source": [
    "R = np.sqrt(J)\n",
    "# M = 500\n",
    "\n",
    "# eps = 5\n",
    "# precision = (M/eps)**2\n",
    "precision = .3\n",
    "num_iterations = int( 9* precision * R**2)\n",
    "print(num_iterations)\n",
    "alpha = R / np.sqrt(num_iterations)\n",
    "print(alpha)\n",
    "\n",
    "\n",
    "num_iterations  = 1000\n",
    "alpha = 1"
   ]
  },
  {
   "cell_type": "code",
   "execution_count": 17,
   "metadata": {},
   "outputs": [
    {
     "name": "stdout",
     "output_type": "stream",
     "text": [
      "False\n"
     ]
    }
   ],
   "source": [
    "z_star, bundle_star = mirror_descent(num_iterations, alpha)\n",
    "\n",
    "### create a function which checks that the entries of z_j are either close to 1 or 0\n",
    "def check_z_j(z_j):\n",
    "    return np.all(np.isclose(z_j, 0,atol=1e-01) | np.isclose(z_j, 1,atol=1e-01))\n",
    "print(check_z_j(z_star))"
   ]
  },
  {
   "cell_type": "code",
   "execution_count": 18,
   "metadata": {},
   "outputs": [
    {
     "data": {
      "text/plain": [
       "array([0.8401985 , 0.64882383])"
      ]
     },
     "execution_count": 18,
     "metadata": {},
     "output_type": "execute_result"
    }
   ],
   "source": [
    "z_star[np.logical_and(z_star > 0.1, z_star < 0.9)]"
   ]
  },
  {
   "cell_type": "code",
   "execution_count": 19,
   "metadata": {},
   "outputs": [
    {
     "data": {
      "text/plain": [
       "array([0.8401985 , 0.64882383])"
      ]
     },
     "execution_count": 19,
     "metadata": {},
     "output_type": "execute_result"
    }
   ],
   "source": [
    "z_star[(z_star > 0.05) & (z_star < 0.95)]"
   ]
  },
  {
   "cell_type": "code",
   "execution_count": 20,
   "metadata": {},
   "outputs": [
    {
     "data": {
      "text/plain": [
       "(-220140.60865027763, -220365.55600183434)"
      ]
     },
     "execution_count": 20,
     "metadata": {},
     "output_type": "execute_result"
    }
   ],
   "source": [
    "v_hat(z_star), v(bundle_star)"
   ]
  },
  {
   "cell_type": "code",
   "execution_count": 13,
   "metadata": {},
   "outputs": [
    {
     "name": "stdout",
     "output_type": "stream",
     "text": [
      "449\n",
      "500\n"
     ]
    }
   ],
   "source": [
    "print(bundle_star.sum())\n",
    "print(J)"
   ]
  },
  {
   "cell_type": "code",
   "execution_count": 14,
   "metadata": {},
   "outputs": [
    {
     "data": {
      "text/plain": [
       "-207202.9691422304"
      ]
     },
     "execution_count": 14,
     "metadata": {},
     "output_type": "execute_result"
    }
   ],
   "source": [
    "v(np.ones(J, dtype=bool))"
   ]
  },
  {
   "cell_type": "code",
   "execution_count": 15,
   "metadata": {},
   "outputs": [],
   "source": [
    "# print(v(minimizer))"
   ]
  },
  {
   "cell_type": "code",
   "execution_count": null,
   "metadata": {},
   "outputs": [],
   "source": []
  }
 ],
 "metadata": {
  "kernelspec": {
   "display_name": "Python 3",
   "language": "python",
   "name": "python3"
  },
  "language_info": {
   "codemirror_mode": {
    "name": "ipython",
    "version": 3
   },
   "file_extension": ".py",
   "mimetype": "text/x-python",
   "name": "python",
   "nbconvert_exporter": "python",
   "pygments_lexer": "ipython3",
   "version": "3.12.0"
  }
 },
 "nbformat": 4,
 "nbformat_minor": 2
}
