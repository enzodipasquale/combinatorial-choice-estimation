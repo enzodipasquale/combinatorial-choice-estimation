{
 "cells": [
  {
   "cell_type": "code",
   "execution_count": 6,
   "metadata": {},
   "outputs": [],
   "source": [
    "import numpy as np\n",
    "from scipy.optimize import linprog\n",
    "import scipy.sparse as spr\n",
    "import itertools\n",
    "from scipy.linalg import sqrtm\n",
    "from jax.scipy.optimize import minimize\n",
    "import jax.numpy as jnp\n",
    "import jax\n",
    "from itertools import product\n",
    "import torch"
   ]
  },
  {
   "cell_type": "code",
   "execution_count": 7,
   "metadata": {},
   "outputs": [],
   "source": [
    "# Set seed for reproducibility\n",
    "torch.manual_seed(1)\n",
    "\n",
    "# Define parameters\n",
    "J = 500\n",
    "K = 5\n",
    "lambda_k = torch.ones(K)\n",
    "phi_j = torch.normal(10, 300, size=(J, K))\n",
    "\n",
    "\n",
    "\n",
    "# Define the function v using PyTorch\n",
    "def v(B):\n",
    "    if B.dtype == torch.bool:\n",
    "        return phi_j[B, :].sum(0) @ lambda_k - B.sum()**2\n",
    "    elif B.dtype == torch.int64:  # PyTorch uses int64 for integer tensors\n",
    "        return phi_j[B, :].sum(0) @ lambda_k - len(B)**2\n",
    "    else:\n",
    "        print(\"Error: B must be a boolean or integer tensor\")"
   ]
  },
  {
   "cell_type": "code",
   "execution_count": 8,
   "metadata": {},
   "outputs": [],
   "source": [
    "def grad_v_hat(z_j):\n",
    "    J = z_j.shape[0]  # Number of elements in z_j\n",
    "    sorted_z_id = torch.argsort(z_j, descending=True)  # Sort indices in descending order\n",
    "    \n",
    "    grad = torch.zeros(J)  # Initialize the gradient array\n",
    "    for j in range(J):\n",
    "        # Compute the difference between v(sorted_z_id[:j+1]) and v(sorted_z_id[:j])\n",
    "        grad[sorted_z_id[j]] = v(sorted_z_id[:j+1]) - v(sorted_z_id[:j])\n",
    "\n",
    "    return grad"
   ]
  },
  {
   "cell_type": "code",
   "execution_count": 9,
   "metadata": {},
   "outputs": [],
   "source": [
    "def mirror_descent(num_iterations, alpha):\n",
    "    # Initialize z within the hypercube [0,1]^n\n",
    "    torch.manual_seed(1)\n",
    "    z = torch.ones(J) / 2  # Start with z initialized to 0.5 for all elements\n",
    "\n",
    "    # Start Mirror Descent\n",
    "    z_list = []\n",
    "    for _ in range(num_iterations):\n",
    "        grad = grad_v_hat(z)  # You need to ensure grad_v_hat is implemented using PyTorch\n",
    "\n",
    "        # Update z using mirror descent\n",
    "        z_new = z - alpha * grad / torch.norm(grad)  # Normalize the gradient\n",
    "        z_new = torch.clamp(z_new, 0, 1)  # Clip values to stay within [0, 1]\n",
    "\n",
    "        z = z_new\n",
    "        z_list.append(z.clone())  # Store a copy of z\n",
    "\n",
    "    # Calculate the final z_star by averaging over the last 1/30th of the iterations\n",
    "    z_list_tensor = torch.stack(z_list)\n",
    "    z_star = z_list_tensor[-int(torch.floor(torch.tensor(num_iterations) / 30)):].mean(0)\n",
    "    \n",
    "    # Round z_star and convert to boolean tensor\n",
    "    bundle_star = z_star.round().bool()\n",
    "\n",
    "    return z_star, bundle_star"
   ]
  },
  {
   "cell_type": "code",
   "execution_count": 14,
   "metadata": {},
   "outputs": [],
   "source": [
    "# Example usage\n",
    "num_iterations = 1000\n",
    "alpha = 1\n",
    "z_star, bundle_star = mirror_descent(num_iterations, alpha)"
   ]
  },
  {
   "cell_type": "code",
   "execution_count": 16,
   "metadata": {},
   "outputs": [
    {
     "data": {
      "text/plain": [
       "tensor([0.6278])"
      ]
     },
     "execution_count": 16,
     "metadata": {},
     "output_type": "execute_result"
    }
   ],
   "source": [
    "z_star[(z_star > 0.2) & (z_star < 0.8)]"
   ]
  },
  {
   "cell_type": "code",
   "execution_count": null,
   "metadata": {},
   "outputs": [],
   "source": []
  }
 ],
 "metadata": {
  "kernelspec": {
   "display_name": "Python 3",
   "language": "python",
   "name": "python3"
  },
  "language_info": {
   "codemirror_mode": {
    "name": "ipython",
    "version": 3
   },
   "file_extension": ".py",
   "mimetype": "text/x-python",
   "name": "python",
   "nbconvert_exporter": "python",
   "pygments_lexer": "ipython3",
   "version": "3.12.0"
  }
 },
 "nbformat": 4,
 "nbformat_minor": 2
}
