{
 "cells": [
  {
   "cell_type": "code",
   "execution_count": 31,
   "metadata": {},
   "outputs": [],
   "source": [
    "import numpy as np \n",
    "import pandas as pd \n",
    "import matplotlib.pyplot as plt"
   ]
  },
  {
   "cell_type": "markdown",
   "metadata": {},
   "source": [
    "# Load data"
   ]
  },
  {
   "cell_type": "code",
   "execution_count": 32,
   "metadata": {},
   "outputs": [],
   "source": [
    "path_to_data = '/Users/Enzo/Desktop/JMP/114402-V1/Replication-Fox-and-Bajari/data/'"
   ]
  },
  {
   "cell_type": "markdown",
   "metadata": {},
   "source": [
    "### Bta network data"
   ]
  },
  {
   "cell_type": "code",
   "execution_count": 33,
   "metadata": {},
   "outputs": [
    {
     "name": "stdout",
     "output_type": "stream",
     "text": [
      "bta_adjacency  (493, 493)\n"
     ]
    }
   ],
   "source": [
    "# ### airtravel data\n",
    "# df_air_travel = pd.read_csv(path_to_data + 'air-travel-passengers-bta-year-1994.csv')\n",
    "# print('airtravel        ', np.shape(df_air_travel))\n",
    "\n",
    "# ### travel data\n",
    "# df_travel_survery = pd.read_csv(path_to_data + 'american-travel-survey-1995-zero.csv')\n",
    "# print('travel survey    ', np.shape(df_travel_survery))\n",
    "\n",
    "# ### adjacency matrix\n",
    "bta_adjacency = pd.read_csv(path_to_data + 'btamatrix_merged.csv',  header=None)\n",
    "bta_adjacency = bta_adjacency.drop(bta_adjacency.columns[0], axis=1)\n",
    "print('bta_adjacency ', np.shape(bta_adjacency))\n",
    "\n",
    "# # compute fraction of 1s over number of entries\n",
    "# bta_adjacency = bta_adjacency.drop(bta_adjacency.columns[0], axis=1)\n",
    "# print('fraction of 1s: ', np.sum(bta_adjacency.values)/np.size(bta_adjacency.values))\n",
    "\n",
    "# ### pop_wighted_centroid\n",
    "# pop_wighted_centroid = pd.read_csv(path_to_data + 'geographic-distance-population-weighted-centroid.csv')\n",
    "# print('pop_wighted_centroid     ', np.shape(pop_wighted_centroid))\n",
    "\n",
    "# geographical distance\n",
    "# geo_distance = pd.read_csv(path_to_data + 'distancesmat_dio_perl_fixed.dat', delimiter=' ', header=None)\n",
    "# geo_distance = geo_distance.drop(geo_distance.columns[-1], axis=1)\n",
    "# print('geo_distance  ', np.shape(geo_distance))"
   ]
  },
  {
   "cell_type": "markdown",
   "metadata": {},
   "source": [
    "### Bidder and bta data"
   ]
  },
  {
   "cell_type": "code",
   "execution_count": 34,
   "metadata": {},
   "outputs": [
    {
     "name": "stdout",
     "output_type": "stream",
     "text": [
      "bta_data          (493, 10)\n",
      "bidder_data       (256, 4)\n"
     ]
    }
   ],
   "source": [
    "### bta data\n",
    "bta_data = pd.read_csv(path_to_data + 'btadata_2004_03_12_1.csv')\n",
    "print('bta_data         ', np.shape(bta_data))\n",
    "\n",
    "bidder_data = pd.read_csv(path_to_data + 'biddercblk_03_28_2004_pln.csv')\n",
    "print('bidder_data      ', np.shape(bidder_data))"
   ]
  },
  {
   "cell_type": "code",
   "execution_count": 35,
   "metadata": {},
   "outputs": [
    {
     "name": "stdout",
     "output_type": "stream",
     "text": [
      "Bidders with null eligibility:  ['South Central Utah Telephone Association' 'FCC'] [ 67 256]\n",
      "#########\n",
      "Eligibility statistics: \n",
      "Mean:  6688920.545336393\n",
      "Median:  888888.9\n",
      "Min:  0.0\n",
      "Max:  180611430.0\n"
     ]
    }
   ],
   "source": [
    "def clean_bidder_data():\n",
    "            # take column pops_eligible to np array\n",
    "            pop_elig_i_all = np.array(bidder_data['pops_eligible'])\n",
    "\n",
    "            # take rows where pops_eligible is nan\n",
    "            bidder_data_nan = bidder_data[bidder_data['pops_eligible'].isnull()]\n",
    "            print('Bidders with null eligibility: ', bidder_data_nan['co_name'].values, bidder_data_nan['bidder_num_fox'].values)\n",
    "\n",
    "\n",
    "            # remove FCC\n",
    "            pop_eligible_i = pop_elig_i_all[:-1]\n",
    "    \n",
    "            # give 0 eligibility to the bidder with nan eligibility\n",
    "            pop_eligible_i[ bidder_data_nan['bidder_num_fox'].values[0] -1] = 0\n",
    "\n",
    "            print('#########')\n",
    "            print('Eligibility statistics: ')\n",
    "            print('Mean: ', np.mean(pop_eligible_i))\n",
    "            print('Median: ', np.median(pop_eligible_i))\n",
    "            print('Min: ', np.min(pop_eligible_i))\n",
    "            print('Max: ', np.max(pop_eligible_i))\n",
    "\n",
    "            return pop_eligible_i\n",
    "\n",
    "pop_eligible_i = clean_bidder_data()\n",
    "\n",
    "\n",
    "\n",
    "# def clean_bidder_data():\n",
    "#             # take column pops_eligible to np array\n",
    "#             pop_elig_i_all = np.array(bidder_data['pops_eligible'])\n",
    "\n",
    "#             # take rows where pops_eligible is nan\n",
    "#             bidder_data_nan = bidder_data[bidder_data['pops_eligible'].isnull()]\n",
    "#             print('Bidders with null eligibility: ', bidder_data_nan['co_name'].values, bidder_data_nan['bidder_num_fox'].values)\n",
    "\n",
    "#             pop_eligible_i = pop_elig_i_all[~np.isnan(pop_elig_i_all)]\n",
    "\n",
    "#             # print(\"Unique eligibility values: \", len(np.unique(pop_eligible_i)), \n",
    "#             #       ' over ', len(pop_eligible_i) , ' bidders')\n",
    "\n",
    "#             print('#########')\n",
    "#             print('Eligibility statistics: ')\n",
    "#             print('Mean: ', np.mean(pop_eligible_i))\n",
    "#             print('Median: ', np.median(pop_eligible_i))\n",
    "#             print('Min: ', np.min(pop_eligible_i))\n",
    "#             print('Max: ', np.max(pop_eligible_i))\n",
    "\n",
    "#             return pop_eligible_i\n",
    "\n",
    "# pop_eligible_i = clean_bidder_data()"
   ]
  },
  {
   "cell_type": "code",
   "execution_count": 36,
   "metadata": {},
   "outputs": [
    {
     "name": "stdout",
     "output_type": "stream",
     "text": [
      "Matching matrix:  (255, 493)\n"
     ]
    }
   ],
   "source": [
    "def generate_matching_matrix():\n",
    "    num_agents = len(pop_eligible_i) \n",
    "    num_objects = len(bta_data['pop90'])\n",
    "\n",
    "    matching_matrix = np.zeros((num_agents, num_objects), dtype= bool)\n",
    "\n",
    "    for j in range(num_objects):\n",
    "        \n",
    "        winner_id = bta_data['bidder_num_fox'].values[j] -1\n",
    "        matching_matrix[winner_id, j] = True\n",
    "        \n",
    "    return matching_matrix\n",
    "\n",
    "matching_matrix = generate_matching_matrix()\n",
    "print('Matching matrix: ', np.shape(matching_matrix))"
   ]
  },
  {
   "cell_type": "code",
   "execution_count": 37,
   "metadata": {},
   "outputs": [],
   "source": [
    "# print(\"Population statistics\")\n",
    "# print('Mean   ', bta_data['pop90'].mean())\n",
    "# print('Median ', bta_data['pop90'].median())\n",
    "# print('s.d.   ', bta_data['pop90'].std())\n",
    "# print('Min    ', bta_data['pop90'].min())\n",
    "# print('Max    ', bta_data['pop90'].max())\n",
    "\n",
    "\n",
    "# # plot histogram of poulation\n",
    "# plt.hist(bta_data['pop90'], bins=100)\n",
    "# plt.show()\n",
    "\n",
    "# num_bins = 1000\n",
    "# tick = bta_data['pop90'].max()/num_bins\n",
    "# print('Tick: ' , tick)\n",
    "\n",
    "# pop_bins = np.linspace(0, bta_data['pop90'].max(), num_bins +1)\n",
    "# plt.hist(bta_data['pop90'], bins=pop_bins)\n",
    "# plt.show()\n",
    "\n",
    "# add up to the num_ticks tick\n",
    "# num_ticks = 5\n",
    "# for i in range(1, num_ticks):\n",
    "#     print('licenses in tick ', i, ' : ', len(bta_data['pop90'][(bta_data['pop90'] > i*tick) & (bta_data['pop90'] <= (i+1)*tick)]))\n",
    "#     plt.hist(bta_data['pop90'][(bta_data['pop90'] > i*tick) & (bta_data['pop90'] <= (i+1)*tick)])\n",
    "# plt.show()"
   ]
  },
  {
   "cell_type": "markdown",
   "metadata": {},
   "source": [
    "### Other bta data "
   ]
  },
  {
   "cell_type": "code",
   "execution_count": 38,
   "metadata": {},
   "outputs": [
    {
     "name": "stdout",
     "output_type": "stream",
     "text": [
      "bta_data          (494, 12)\n"
     ]
    }
   ],
   "source": [
    "bta_census = pd.read_csv(path_to_data + 'cntysv2000_census-bta-may2009.csv',encoding='ISO-8859-1')\n",
    "print('bta_data         ', np.shape(bta_census))"
   ]
  },
  {
   "cell_type": "markdown",
   "metadata": {},
   "source": [
    "### Form 175 data"
   ]
  },
  {
   "cell_type": "code",
   "execution_count": 39,
   "metadata": {},
   "outputs": [],
   "source": [
    "bidder_data_form175 = pd.read_csv('/Users/Enzo/Desktop/JMP/form175_data/bidder_data_form175.csv')\n",
    "\n",
    "# drop columns which have all nan values\n",
    "bidder_data_form175 = bidder_data_form175.dropna(axis=1, how='all')\n",
    "\n",
    "relevant_columns = ['co_name', 'Address1', 'Address2', 'City', 'State','Zip_Code' ,'Applicant_Status', \n",
    "                    'Legal_Classification', 'Certifier_Middle_Initial', 'Certifier_Last_Name','Certifier_Suffix']\n",
    "\n",
    "bidder_data_form175 = bidder_data_form175[relevant_columns]"
   ]
  },
  {
   "cell_type": "code",
   "execution_count": 40,
   "metadata": {},
   "outputs": [
    {
     "data": {
      "text/html": [
       "<div>\n",
       "<style scoped>\n",
       "    .dataframe tbody tr th:only-of-type {\n",
       "        vertical-align: middle;\n",
       "    }\n",
       "\n",
       "    .dataframe tbody tr th {\n",
       "        vertical-align: top;\n",
       "    }\n",
       "\n",
       "    .dataframe thead th {\n",
       "        text-align: right;\n",
       "    }\n",
       "</style>\n",
       "<table border=\"1\" class=\"dataframe\">\n",
       "  <thead>\n",
       "    <tr style=\"text-align: right;\">\n",
       "      <th></th>\n",
       "      <th>co_name</th>\n",
       "      <th>Address1</th>\n",
       "      <th>Address2</th>\n",
       "      <th>City</th>\n",
       "      <th>State</th>\n",
       "      <th>Zip_Code</th>\n",
       "      <th>Applicant_Status</th>\n",
       "      <th>Legal_Classification</th>\n",
       "      <th>Certifier_Middle_Initial</th>\n",
       "      <th>Certifier_Last_Name</th>\n",
       "      <th>Certifier_Suffix</th>\n",
       "    </tr>\n",
       "  </thead>\n",
       "  <tbody>\n",
       "    <tr>\n",
       "      <th>0</th>\n",
       "      <td>Cable &amp; Communications Corporation</td>\n",
       "      <td>106 2nd Avenue South</td>\n",
       "      <td>NaN</td>\n",
       "      <td>Circle</td>\n",
       "      <td>MT</td>\n",
       "      <td>59215</td>\n",
       "      <td>Rural Telephone Company</td>\n",
       "      <td>Corporation</td>\n",
       "      <td>Gerry</td>\n",
       "      <td>NaN</td>\n",
       "      <td>Anderson</td>\n",
       "    </tr>\n",
       "    <tr>\n",
       "      <th>1</th>\n",
       "      <td>3 Rivers PCS, Inc</td>\n",
       "      <td>422 2nd Avenue South</td>\n",
       "      <td>NaN</td>\n",
       "      <td>Fairfield</td>\n",
       "      <td>MT</td>\n",
       "      <td>59436</td>\n",
       "      <td>Rural Telephone Company</td>\n",
       "      <td>Corporation</td>\n",
       "      <td>Keith</td>\n",
       "      <td>E</td>\n",
       "      <td>Good</td>\n",
       "    </tr>\n",
       "    <tr>\n",
       "      <th>2</th>\n",
       "      <td>Silver Star Telephone Company, Inc.</td>\n",
       "      <td>104101 Highway 89</td>\n",
       "      <td>NaN</td>\n",
       "      <td>Freedom</td>\n",
       "      <td>WY</td>\n",
       "      <td>83120</td>\n",
       "      <td>Rural Telephone Company</td>\n",
       "      <td>Corporation</td>\n",
       "      <td>Allen</td>\n",
       "      <td>R</td>\n",
       "      <td>Hoopes</td>\n",
       "    </tr>\n",
       "    <tr>\n",
       "      <th>3</th>\n",
       "      <td>Sawbucks, Incorporated</td>\n",
       "      <td>211 South Third St.</td>\n",
       "      <td>NaN</td>\n",
       "      <td>Laramie</td>\n",
       "      <td>WY</td>\n",
       "      <td>82070</td>\n",
       "      <td>Woman Owned Business</td>\n",
       "      <td>Corporation</td>\n",
       "      <td>Jean</td>\n",
       "      <td>M</td>\n",
       "      <td>Kelly</td>\n",
       "    </tr>\n",
       "    <tr>\n",
       "      <th>4</th>\n",
       "      <td>RT  Communications, Inc.</td>\n",
       "      <td>130 South 9th</td>\n",
       "      <td>NaN</td>\n",
       "      <td>Worland</td>\n",
       "      <td>WY</td>\n",
       "      <td>82401</td>\n",
       "      <td>Rural Telephone Company</td>\n",
       "      <td>Corporation</td>\n",
       "      <td>Dee</td>\n",
       "      <td>N</td>\n",
       "      <td>Monsen</td>\n",
       "    </tr>\n",
       "    <tr>\n",
       "      <th>...</th>\n",
       "      <td>...</td>\n",
       "      <td>...</td>\n",
       "      <td>...</td>\n",
       "      <td>...</td>\n",
       "      <td>...</td>\n",
       "      <td>...</td>\n",
       "      <td>...</td>\n",
       "      <td>...</td>\n",
       "      <td>...</td>\n",
       "      <td>...</td>\n",
       "      <td>...</td>\n",
       "    </tr>\n",
       "    <tr>\n",
       "      <th>250</th>\n",
       "      <td>North Coast Mobile Communications Inc.</td>\n",
       "      <td>17 Howard Drive</td>\n",
       "      <td>NaN</td>\n",
       "      <td>Huntington</td>\n",
       "      <td>NY</td>\n",
       "      <td>11743</td>\n",
       "      <td>NaN</td>\n",
       "      <td>Corporation</td>\n",
       "      <td>John</td>\n",
       "      <td>M</td>\n",
       "      <td>Dolan</td>\n",
       "    </tr>\n",
       "    <tr>\n",
       "      <th>251</th>\n",
       "      <td>Independent Seven PCS Partnership</td>\n",
       "      <td>Taconic Place</td>\n",
       "      <td>NaN</td>\n",
       "      <td>Chatham</td>\n",
       "      <td>NY</td>\n",
       "      <td>12037</td>\n",
       "      <td>NaN</td>\n",
       "      <td>General Partnership</td>\n",
       "      <td>Robert</td>\n",
       "      <td>D</td>\n",
       "      <td>Gniadek</td>\n",
       "    </tr>\n",
       "    <tr>\n",
       "      <th>252</th>\n",
       "      <td>Super Plus PCS Limited Partnership</td>\n",
       "      <td>c/o Crown Point Telephone Corp</td>\n",
       "      <td>Main Street</td>\n",
       "      <td>Crown Point</td>\n",
       "      <td>NY</td>\n",
       "      <td>12928</td>\n",
       "      <td>NaN</td>\n",
       "      <td>Limited Partnership</td>\n",
       "      <td>Patricia</td>\n",
       "      <td>L</td>\n",
       "      <td>Knapp</td>\n",
       "    </tr>\n",
       "    <tr>\n",
       "      <th>253</th>\n",
       "      <td>Sky Ranchers L.L.C.</td>\n",
       "      <td>711 N. Banff Avenue</td>\n",
       "      <td>NaN</td>\n",
       "      <td>Tucson</td>\n",
       "      <td>AZ</td>\n",
       "      <td>857482716</td>\n",
       "      <td>Woman Owned Business</td>\n",
       "      <td>Limited Liability Company</td>\n",
       "      <td>Francine</td>\n",
       "      <td>NaN</td>\n",
       "      <td>Rienstra</td>\n",
       "    </tr>\n",
       "    <tr>\n",
       "      <th>254</th>\n",
       "      <td>Virginia PCS Alliance Consortium</td>\n",
       "      <td>401 Spring Lane, Suite 300</td>\n",
       "      <td>NaN</td>\n",
       "      <td>Waynesboro</td>\n",
       "      <td>VA</td>\n",
       "      <td>22980</td>\n",
       "      <td>Rural Telephone Company</td>\n",
       "      <td>Consortium</td>\n",
       "      <td>James</td>\n",
       "      <td>S</td>\n",
       "      <td>Quarforth</td>\n",
       "    </tr>\n",
       "  </tbody>\n",
       "</table>\n",
       "<p>255 rows × 11 columns</p>\n",
       "</div>"
      ],
      "text/plain": [
       "                                    co_name                        Address1  \\\n",
       "0        Cable & Communications Corporation            106 2nd Avenue South   \n",
       "1                         3 Rivers PCS, Inc            422 2nd Avenue South   \n",
       "2       Silver Star Telephone Company, Inc.               104101 Highway 89   \n",
       "3                    Sawbucks, Incorporated             211 South Third St.   \n",
       "4                  RT  Communications, Inc.                   130 South 9th   \n",
       "..                                      ...                             ...   \n",
       "250  North Coast Mobile Communications Inc.                 17 Howard Drive   \n",
       "251       Independent Seven PCS Partnership                   Taconic Place   \n",
       "252      Super Plus PCS Limited Partnership  c/o Crown Point Telephone Corp   \n",
       "253                     Sky Ranchers L.L.C.             711 N. Banff Avenue   \n",
       "254        Virginia PCS Alliance Consortium      401 Spring Lane, Suite 300   \n",
       "\n",
       "        Address2         City State   Zip_Code         Applicant_Status  \\\n",
       "0            NaN       Circle    MT      59215  Rural Telephone Company   \n",
       "1            NaN    Fairfield    MT      59436  Rural Telephone Company   \n",
       "2            NaN      Freedom    WY      83120  Rural Telephone Company   \n",
       "3            NaN      Laramie    WY      82070     Woman Owned Business   \n",
       "4            NaN      Worland    WY      82401  Rural Telephone Company   \n",
       "..           ...          ...   ...        ...                      ...   \n",
       "250          NaN   Huntington    NY      11743                      NaN   \n",
       "251          NaN      Chatham    NY      12037                      NaN   \n",
       "252  Main Street  Crown Point    NY      12928                      NaN   \n",
       "253          NaN       Tucson    AZ  857482716     Woman Owned Business   \n",
       "254          NaN   Waynesboro    VA      22980  Rural Telephone Company   \n",
       "\n",
       "          Legal_Classification Certifier_Middle_Initial Certifier_Last_Name  \\\n",
       "0                  Corporation                    Gerry                 NaN   \n",
       "1                  Corporation                    Keith                   E   \n",
       "2                  Corporation                    Allen                   R   \n",
       "3                  Corporation                     Jean                   M   \n",
       "4                  Corporation                      Dee                   N   \n",
       "..                         ...                      ...                 ...   \n",
       "250                Corporation                     John                   M   \n",
       "251        General Partnership                   Robert                   D   \n",
       "252        Limited Partnership                 Patricia                   L   \n",
       "253  Limited Liability Company                 Francine                 NaN   \n",
       "254                 Consortium                    James                   S   \n",
       "\n",
       "    Certifier_Suffix  \n",
       "0           Anderson  \n",
       "1               Good  \n",
       "2             Hoopes  \n",
       "3              Kelly  \n",
       "4             Monsen  \n",
       "..               ...  \n",
       "250            Dolan  \n",
       "251          Gniadek  \n",
       "252            Knapp  \n",
       "253         Rienstra  \n",
       "254        Quarforth  \n",
       "\n",
       "[255 rows x 11 columns]"
      ]
     },
     "execution_count": 40,
     "metadata": {},
     "output_type": "execute_result"
    }
   ],
   "source": [
    "bidder_data_form175"
   ]
  },
  {
   "cell_type": "markdown",
   "metadata": {},
   "source": [
    "# Estimation"
   ]
  },
  {
   "cell_type": "code",
   "execution_count": 41,
   "metadata": {},
   "outputs": [
    {
     "name": "stdout",
     "output_type": "stream",
     "text": [
      "Number of agents:   255\n",
      "Number of objects:  493\n",
      "Matching matrix:  (255, 493)\n"
     ]
    }
   ],
   "source": [
    "num_agents = len(pop_eligible_i) \n",
    "num_objects = len(bta_data['pop90'])\n",
    "\n",
    "print('Number of agents:  ', num_agents)\n",
    "print('Number of objects: ', num_objects)\n",
    "\n",
    "print('Matching matrix: ', np.shape(matching_matrix))"
   ]
  },
  {
   "cell_type": "code",
   "execution_count": 54,
   "metadata": {},
   "outputs": [
    {
     "name": "stdout",
     "output_type": "stream",
     "text": [
      "max capacity:  18061\n"
     ]
    }
   ],
   "source": [
    "def round_weights(tick):\n",
    "        \n",
    "        capacity_i = pop_eligible_i\n",
    "        weight_j = bta_data['pop90'].to_numpy()\n",
    "\n",
    "        weight_j_rounded = (np.round((weight_j / tick) )).astype(int)\n",
    "        capacity_i_rounded = (np.round((capacity_i / tick)) ).astype(int)\n",
    "\n",
    "        return weight_j_rounded, capacity_i_rounded\n",
    "\n",
    "weight_j, capacity_i = round_weights(10000)\n",
    "\n",
    "\n",
    "print('max capacity: ', capacity_i.max())\n",
    "\n",
    "\n",
    "\n",
    "# Characteristics\n",
    "US_pop_90 = weight_j.sum()\n",
    "characteristic_i_j_1 = (capacity_i[:, None]/ US_pop_90 )* (weight_j[None, :]/ US_pop_90)\n",
    "characteristic_i_j_1 = characteristic_i_j_1[:,:, None]"
   ]
  },
  {
   "cell_type": "code",
   "execution_count": 43,
   "metadata": {},
   "outputs": [
    {
     "name": "stdout",
     "output_type": "stream",
     "text": [
      "mps:  True\n"
     ]
    }
   ],
   "source": [
    "%run ../Estimation_notebooks/linear_knapsack_DP.ipynb\n",
    "\n",
    "# Create instance of the FCC auction\n",
    "FCC_auction = BundledChoiceKP(num_agents, num_objects, num_simulations = 2, generate_data = False)\n",
    "\n",
    "# Load data\n",
    "FCC_auction.load_data(characteristic_i_j_1, weight_j, capacity_i, matching_matrix)\n",
    "\n",
    "# Test pricing\n",
    "# B_i_star = FCC_auction.linear_knapsack(torch.arange(FCC_auction.num_agents), FCC_auction.lambda_star)\n",
    "\n",
    "# Run estimation\n",
    "# results, dual = FCC_auction.estimate_GMM_matching()"
   ]
  },
  {
   "cell_type": "markdown",
   "metadata": {},
   "source": [
    "# Test supermodular knapsack Gurobi"
   ]
  },
  {
   "cell_type": "code",
   "execution_count": 44,
   "metadata": {},
   "outputs": [],
   "source": [
    "# Create instance of the FCC auction\n",
    "FCC_auction = BundledChoiceKP(num_agents, num_objects, [1], num_simulations = 2, generate_data = False)\n",
    "\n",
    "# Load data\n",
    "FCC_auction.load_data(characteristic_i_j_1, weight_j, capacity_i, matching_matrix)"
   ]
  },
  {
   "cell_type": "markdown",
   "metadata": {},
   "source": [
    "#### Linear KP"
   ]
  },
  {
   "cell_type": "code",
   "execution_count": 45,
   "metadata": {},
   "outputs": [
    {
     "name": "stdout",
     "output_type": "stream",
     "text": [
      "Set parameter WLSAccessID\n",
      "Set parameter WLSSecret\n",
      "Set parameter LicenseID to value 2562382\n",
      "Academic license 2562382 - for non-commercial use only - registered to ed___@nyu.edu\n",
      "Optimal value:  0.4864026664052533\n",
      "DP value:  0.4864025115966797\n"
     ]
    }
   ],
   "source": [
    "id = 76\n",
    "\n",
    "profit_j = characteristic_i_j_1[id,:,0] \n",
    "# profit_j = np.random.normal(0,10, num_objects)\n",
    "\n",
    "W_total = capacity_i[id]\n",
    "w_j = weight_j\n",
    "\n",
    "with gp.Env(params = options) as env:\n",
    "    with gp.Model(env=env) as model:\n",
    "        # Add binary decision variables\n",
    "        x = model.addVars(num_objects, vtype=GRB.BINARY, name=\"x\")\n",
    "\n",
    "        # Objective Function: Maximize total profit\n",
    "        model.setObjective(gp.quicksum(profit_j[j] * x[j] for j in range(num_objects)), GRB.MAXIMIZE)\n",
    "\n",
    "        # Constraint: Total weight must not exceed W_total\n",
    "        model.addConstr(gp.quicksum(w_j[j] * x[j] for j in range(num_objects)) <= W_total, \"WeightConstraint\")\n",
    "\n",
    "        # Optimize the model\n",
    "        model.setParam('OutputFlag', 0)\n",
    "        model.optimize()\n",
    "\n",
    "        optimal_bundle = np.array(model.x)\n",
    "        value = model.objVal\n",
    "\n",
    "\n",
    "# Dynamic programming\n",
    "B_i_star , value_dp = FCC_auction.linear_knapsack([id], FCC_auction.lambda_star, return_value = True)\n",
    "\n",
    "\n",
    "# print the values \n",
    "print('Optimal value: ', value)\n",
    "print('DP value: ', value_dp.item())"
   ]
  },
  {
   "cell_type": "markdown",
   "metadata": {},
   "source": [
    "#### Quadratic KP"
   ]
  },
  {
   "cell_type": "code",
   "execution_count": 46,
   "metadata": {},
   "outputs": [
    {
     "name": "stdout",
     "output_type": "stream",
     "text": [
      "Profit range:  0.0 35.33980198019802\n",
      "W_total:  1761\n",
      "Sum of w_j:  2525\n",
      "Density of quadratic term:  0.010977210356759337\n",
      "#######################\n",
      "Set parameter WLSAccessID\n",
      "Set parameter WLSSecret\n",
      "Set parameter LicenseID to value 2562382\n",
      "Academic license 2562382 - for non-commercial use only - registered to ed___@nyu.edu\n",
      "Gurobi Optimizer version 12.0.0 build v12.0.0rc1 (mac64[arm] - Darwin 24.1.0 24B83)\n",
      "\n",
      "CPU model: Apple M1\n",
      "Thread count: 8 physical cores, 8 logical processors, using up to 8 threads\n",
      "\n",
      "Academic license 2562382 - for non-commercial use only - registered to ed___@nyu.edu\n",
      "Optimize a model with 1 rows, 493 columns and 473 nonzeros\n",
      "Model fingerprint: 0x5adaab71\n",
      "Model has 1334 quadratic objective terms\n",
      "Variable types: 0 continuous, 493 integer (493 binary)\n",
      "Coefficient statistics:\n",
      "  Matrix range     [1e+00, 2e+02]\n",
      "  Objective range  [2e-01, 4e+01]\n",
      "  QObjective range [4e+00, 4e+00]\n",
      "  Bounds range     [1e+00, 1e+00]\n",
      "  RHS range        [2e+03, 2e+03]\n",
      "Found heuristic solution: objective -0.0000000\n",
      "Found heuristic solution: objective 10.0000000\n",
      "Presolve removed 0 rows and 24 columns\n",
      "Presolve time: 0.04s\n",
      "Presolved: 1270 rows, 1738 columns, 4276 nonzeros\n",
      "Variable types: 0 continuous, 1738 integer (1737 binary)\n",
      "\n",
      "Root relaxation: objective 2.881985e+03, 217 iterations, 0.00 seconds (0.00 work units)\n",
      "\n",
      "    Nodes    |    Current Node    |     Objective Bounds      |     Work\n",
      " Expl Unexpl |  Obj  Depth IntInf | Incumbent    BestBd   Gap | It/Node Time\n",
      "\n",
      "     0     0 2881.98474    0    6   10.00000 2881.98474      -     -    0s\n",
      "H    0     0                    2864.0736634 2881.98474  0.63%     -    0s\n",
      "H    0     0                    2865.9734653 2881.98474  0.56%     -    0s\n",
      "H    0     0                    2871.8308911 2881.98474  0.35%     -    0s\n",
      "H    0     0                    2875.4403960 2881.98474  0.23%     -    0s\n",
      "H    0     0                    2877.8308911 2881.98474  0.14%     -    0s\n",
      "H    0     0                    2879.8308911 2881.98474  0.07%     -    0s\n",
      "     0     0 2881.03089    0    5 2879.83089 2881.03089  0.04%     -    0s\n",
      "\n",
      "Cutting planes:\n",
      "  Gomory: 1\n",
      "  RLT: 1\n",
      "\n",
      "Explored 1 nodes (237 simplex iterations) in 0.22 seconds (0.03 work units)\n",
      "Thread count was 8 (of 8 available processors)\n",
      "\n",
      "Solution count 8: 2879.83 2877.83 2875.44 ... -0\n",
      "\n",
      "Optimal solution found (tolerance 1.00e-04)\n",
      "Best objective 2.879830891089e+03, best bound 2.879830891089e+03, gap 0.0000%\n"
     ]
    }
   ],
   "source": [
    "id = 76\n",
    "\n",
    "lambda_k = np.array([1, 1])\n",
    "\n",
    "# Profits\n",
    "profit_j = np.array(characteristic_i_j_1[id,:,0], dtype = float) \n",
    "profit_j /= profit_j.mean()\n",
    "print('Profit range: ', profit_j.min(), profit_j.max())\n",
    "\n",
    "# Weights\n",
    "w_j = weight_j\n",
    "W_total = capacity_i[id]\n",
    "\n",
    "print('W_total: ', W_total)\n",
    "print('Sum of w_j: ', w_j.sum())\n",
    "\n",
    "# Adjacency matrix\n",
    "P_j_j = bta_adjacency.to_numpy()\n",
    "print('Density of quadratic term: ', np.sum(P_j_j) / np.size(P_j_j))\n",
    "\n",
    "print('#######################')\n",
    "with gp.Env(params = options) as env:\n",
    "    with gp.Model(env=env) as model:\n",
    "        # Add binary decision variables\n",
    "        x = model.addVars(num_objects, vtype = GRB.BINARY, name=\"x\")\n",
    "\n",
    "        # Linear part of the objective\n",
    "        linear_obj = gp.quicksum(profit_j[j] * x[j] for j in range(num_objects))\n",
    "\n",
    "        # Quadratic part of the objective\n",
    "        quadratic_obj = gp.quicksum(P_j_j[j, k] * x[j] * x[k] for j in range(num_objects) for k in range(num_objects))\n",
    "\n",
    "        # Objective Function: Maximize total profit with quadratic term\n",
    "        model.setObjective( lambda_k[0] * linear_obj + lambda_k[1] * quadratic_obj, GRB.MAXIMIZE)\n",
    "\n",
    "        # Constraint: Total weight must not exceed W_total\n",
    "        model.addConstr(gp.quicksum(w_j[j] * x[j] for j in range(num_objects)) <= W_total, \"WeightConstraint\")\n",
    "\n",
    "        # Optimize the model\n",
    "        # model.setParam('OutputFlag', 0)  \n",
    "        model.optimize()\n",
    "\n",
    "        # Extract results\n",
    "        optimal_bundle = np.array([x[j].x for j in range(num_objects)])  # Decision variables\n",
    "        value = model.objVal  # Objective value"
   ]
  },
  {
   "cell_type": "code",
   "execution_count": 47,
   "metadata": {},
   "outputs": [],
   "source": [
    "# # Quadratic KP with random quadratic term\n",
    "\n",
    "# # profit_j = np.array(characteristic_i_j_1[id,:,0], dtype = float) \n",
    "# profit_j = np.random.normal(0, 30, num_objects)\n",
    "# W_total = 30\n",
    "# w_j = np.random.randint(1, 5, num_objects)  \n",
    "\n",
    "# # print W_total and sum of w_j\n",
    "# print('W_total: ', W_total)\n",
    "# print('Sum of w_j: ', w_j.sum())\n",
    "\n",
    "\n",
    "# # Adjacency matrix\n",
    "# density = 0.02\n",
    "# upper_triangular = np.triu((np.random.rand(num_objects, num_objects) < density).astype(int), k=1)\n",
    "# P_j_j = upper_triangular + upper_triangular.T\n",
    "# np.fill_diagonal(P_j_j, 0)\n",
    "\n",
    "\n",
    "# # P_j_j = np.random.rand(num_objects, num_objects) \n",
    "# # P_j_j = bta_adjacency.to_numpy()\n",
    "# profit_j /= profit_j.mean()\n",
    "\n",
    "\n",
    "# with gp.Env(params=options) as env:\n",
    "#     with gp.Model(env=env) as model:\n",
    "#         # Add binary decision variables\n",
    "#         x = model.addVars(num_objects, vtype=GRB.BINARY, name=\"x\")\n",
    "\n",
    "#         # Linear part of the objective\n",
    "#         linear_obj = gp.quicksum(profit_j[j] * x[j] for j in range(num_objects))\n",
    "\n",
    "#         # Quadratic part of the objective\n",
    "#         quadratic_obj = gp.quicksum(P_j_j[j, k] * x[j] * x[k] for j in range(num_objects) for k in range(num_objects))\n",
    "\n",
    "#         # Objective Function: Maximize total profit with quadratic term\n",
    "#         model.setObjective( lambda_k[0] * linear_obj + lambda_k[1] * quadratic_obj, GRB.MAXIMIZE)\n",
    "\n",
    "#         # Constraint: Total weight must not exceed W_total\n",
    "#         model.addConstr(gp.quicksum(w_j[j] * x[j] for j in range(num_objects)) <= W_total, \"WeightConstraint\")\n",
    "\n",
    "#         # Optimize the model\n",
    "#         # model.setParam('OutputFlag', 0)  \n",
    "#         model.optimize()\n",
    "\n",
    "#         # Extract results\n",
    "#         optimal_bundle = np.array([x[j].x for j in range(num_objects)])  # Decision variables\n",
    "#         value = model.objVal  # Objective value"
   ]
  },
  {
   "cell_type": "code",
   "execution_count": null,
   "metadata": {},
   "outputs": [],
   "source": []
  }
 ],
 "metadata": {
  "kernelspec": {
   "display_name": "base",
   "language": "python",
   "name": "python3"
  },
  "language_info": {
   "codemirror_mode": {
    "name": "ipython",
    "version": 3
   },
   "file_extension": ".py",
   "mimetype": "text/x-python",
   "name": "python",
   "nbconvert_exporter": "python",
   "pygments_lexer": "ipython3",
   "version": "3.12.2"
  }
 },
 "nbformat": 4,
 "nbformat_minor": 2
}
