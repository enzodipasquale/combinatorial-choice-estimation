{
 "cells": [
  {
   "cell_type": "code",
   "execution_count": 323,
   "metadata": {},
   "outputs": [],
   "source": [
    "import pandas as pd\n",
    "import os\n",
    "import pgeocode\n",
    "import numpy as np"
   ]
  },
  {
   "cell_type": "code",
   "execution_count": 347,
   "metadata": {},
   "outputs": [],
   "source": [
    "def process_app_records(file_path):\n",
    "\n",
    "    # Read the file with '|' as the delimiter\n",
    "    df = pd.read_csv(file_path, delimiter=\"|\", header=None, dtype=str)\n",
    "\n",
    "    # Filter for 'APP' records\n",
    "    app_records = df[df[0] == \"APP\"].reset_index(drop=True)\n",
    "\n",
    "    # Assign the 52 column names exactly as defined in the document\n",
    "    app_columns = [\n",
    "        \"Record_Type\", \"Applicant_FRN\", \"Auction_ID\", \"File_Number\", \"Applicant_Name\",\n",
    "        \"First_Name\", \"Middle_Name\", \"Last_Name\", \"Suffix\", \"State_Or_Citizenship\",\n",
    "        \"Applicant_Status\", \"Legal_Classification\", \"Reserved1\", \"Reserved2\", \"Reserved3\",\n",
    "        \"Noncommercial_Status\", \"Address1\", \"Address2\", \"City\", \"State\", \"Zip_Code\",\n",
    "        \"Country\", \"Bidding_Option\", \"Bidding_Credit\", \"New_Entrant_Credit\",\n",
    "        \"Gross_Revenue_Lower\", \"Gross_Revenue_Upper\", \"Closed_Bidding_Eligibility\",\n",
    "        \"Bidding_Credit_Percentage\", \"Certifier_First_Name\", \"Certifier_Middle_Initial\",\n",
    "        \"Certifier_Last_Name\", \"Certifier_Suffix\", \"Certifier_Title\", \"Prior_Defaulter\",\n",
    "        \"Financial_Statement_Type\", \"Gross_Revenue_Most_Recent\", \"Recent_Year_End\",\n",
    "        \"Gross_Revenue_One_Year_Prior\", \"One_Year_Prior_End\", \"Gross_Revenue_Two_Years_Prior\",\n",
    "        \"Two_Years_Prior_End\", \"Total_Assets\", \"Aggregate_Gross_Revenues\",\n",
    "        \"Aggregate_Gross_Revenues_1\", \"Aggregate_Gross_Revenues_2\", \"Aggregate_Total_Assets\",\n",
    "        \"Aggregate_Total_Assets_1\", \"Aggregate_Total_Assets_2\", \"Financial_Statement\",\n",
    "        \"Aggregate_Financial_Statement\", \"Aggregate_Credits\"\n",
    "    ]\n",
    "\n",
    "    # Assign the column names\n",
    "    app_records.columns = app_columns\n",
    "\n",
    "    return app_records"
   ]
  },
  {
   "cell_type": "code",
   "execution_count": 348,
   "metadata": {},
   "outputs": [],
   "source": [
    "# Folder containing the .txt files\n",
    "folder_path = \"/Users/Enzo/Desktop/JMP/form175_data\"\n",
    "\n",
    "# Process all .txt files in the folder\n",
    "all_dataframes = []\n",
    "for file_name in os.listdir(folder_path):\n",
    "    if file_name.endswith(\".txt\"):\n",
    "        file_path = os.path.join(folder_path, file_name)\n",
    "        df = process_app_records(file_path)\n",
    "        all_dataframes.append(df)\n",
    "\n",
    "# Concatenate all dataframes into one unique dataframe\n",
    "final_dataframe = pd.concat(all_dataframes, ignore_index=True)"
   ]
  },
  {
   "cell_type": "code",
   "execution_count": 349,
   "metadata": {},
   "outputs": [],
   "source": [
    "### CLEANING\n",
    "\n",
    "# Remove duplicates\n",
    "bidder_data_form175 = final_dataframe.drop_duplicates().reset_index(drop=True)\n",
    "\n",
    "path_to_data = '/Users/Enzo/Desktop/JMP/114402-V1/Replication-Fox-and-Bajari/data/'\n",
    "bidder_data = pd.read_csv(path_to_data + 'biddercblk_03_28_2004_pln.csv')\n",
    "\n",
    "\n",
    "# # Extract rows where 'co_name' is not in 'Applicant_Name'\n",
    "# missing_rows_bidder_data = bidder_data[~bidder_data['co_name'].isin(bidder_data_form175['Applicant_Name'])]\n",
    "# missing_rows_form_175 = bidder_data_form175[~bidder_data_form175['Applicant_Name'].isin(bidder_data['co_name'])]\n",
    "\n",
    "bidder_data_form175 = bidder_data_form175.copy()\n",
    "bidder_data_form175['co_name'] = bidder_data_form175['Applicant_Name']\n",
    "\n",
    "index_to_update = bidder_data_form175[~bidder_data_form175['Applicant_Name'].isin(bidder_data['co_name'])].index\n",
    "\n",
    "bidder_data_form175.loc[index_to_update[0], 'co_name'] = 'Betty A. Gleaton'\n",
    "bidder_data_form175.loc[index_to_update[1], 'co_name'] = 'HARVEY LEONG'\n",
    "bidder_data_form175.loc[index_to_update[2], 'co_name'] = 'William Ingram'\n",
    "bidder_data_form175.loc[index_to_update[3], 'co_name'] = 'ELIZABETH R. GUEST'\n",
    "bidder_data_form175.loc[index_to_update[4], 'co_name'] = 'Mark M. Guest'\n",
    "bidder_data_form175.loc[index_to_update[5], 'co_name'] = 'Vincent  D. McBride'\n",
    "bidder_data_form175.loc[index_to_update[6], 'co_name'] = 'ADILIA M. AGUILAR'\n",
    "bidder_data_form175.loc[index_to_update[7], 'co_name'] = 'Shawn Capistrano'\n",
    "bidder_data_form175.loc[index_to_update[8], 'co_name'] = 'GLENN ISHIHARA'\n",
    "bidder_data_form175.loc[index_to_update[9], 'co_name'] = 'Harold L. Sudbury, Jr.'"
   ]
  },
  {
   "cell_type": "markdown",
   "metadata": {},
   "source": [
    "Get county from zipcode of each bidder address."
   ]
  },
  {
   "cell_type": "code",
   "execution_count": 351,
   "metadata": {},
   "outputs": [
    {
     "name": "stdout",
     "output_type": "stream",
     "text": [
      "Missing data for zip code: 96910\n",
      "Missing data for zip code: 96911\n",
      "Missing data for zip code: 00715\n",
      "Missing data for zip code: 00901\n",
      "Missing data for zip code: 96910\n"
     ]
    }
   ],
   "source": [
    "# Get the county and state for each zip code\n",
    "def get_county_and_state(zip_code):\n",
    "\n",
    "    nomi = pgeocode.Nominatim('us')  \n",
    "    location = nomi.query_postal_code(str(zip_code))\n",
    "\n",
    "    if location.county_name is np.nan or location.state_code is np.nan:\n",
    "        print('Missing data for zip code:', zip_code)\n",
    "        return None, None\n",
    "    \n",
    "    return location.county_name, location.state_code\n",
    "\n",
    "# Add a column Zip_Code_cleaned with the first 5 characters of the Zip_Code column\n",
    "bidder_data_form175['Zip_Code_cleaned'] = bidder_data_form175['Zip_Code'].str[:5]\n",
    "\n",
    "# Apply the function to the Zip_Code_cleaned column\n",
    "bidder_data_form175['County'], bidder_data_form175['State_from_zipcode'] = zip(*bidder_data_form175['Zip_Code_cleaned'].apply(get_county_and_state))"
   ]
  },
  {
   "cell_type": "markdown",
   "metadata": {},
   "source": [
    "Obtain bta for each bidder address."
   ]
  },
  {
   "cell_type": "code",
   "execution_count": 353,
   "metadata": {},
   "outputs": [],
   "source": [
    "# Drop columns which have all nan values\n",
    "bidder_data_form175 = bidder_data_form175.dropna(axis=1, how='all')\n",
    "\n",
    "relevant_columns = ['co_name', 'Address1', 'Address2', 'City', 'State','County' ,'Zip_Code_cleaned' , 'Zip_Code','Applicant_Status', \n",
    "                    'Legal_Classification', 'Certifier_Middle_Initial', 'Certifier_Last_Name','Certifier_Suffix']\n",
    "\n",
    "bidder_data_form175 = bidder_data_form175[relevant_columns]\n",
    "\n",
    "\n",
    "# Add a column to bidder_data_form175 with the corresponding BTA from county_bta_mapping_data\n",
    "county_bta_mapping_data = pd.read_csv('/Users/Enzo/Desktop/JMP/FCC_bta_data/btacnty1990.txt', encoding='latin1')"
   ]
  },
  {
   "cell_type": "code",
   "execution_count": 355,
   "metadata": {},
   "outputs": [
    {
     "data": {
      "text/html": [
       "<div>\n",
       "<style scoped>\n",
       "    .dataframe tbody tr th:only-of-type {\n",
       "        vertical-align: middle;\n",
       "    }\n",
       "\n",
       "    .dataframe tbody tr th {\n",
       "        vertical-align: top;\n",
       "    }\n",
       "\n",
       "    .dataframe thead th {\n",
       "        text-align: right;\n",
       "    }\n",
       "</style>\n",
       "<table border=\"1\" class=\"dataframe\">\n",
       "  <thead>\n",
       "    <tr style=\"text-align: right;\">\n",
       "      <th></th>\n",
       "      <th>co_name</th>\n",
       "      <th>Address1</th>\n",
       "      <th>Address2</th>\n",
       "      <th>City</th>\n",
       "      <th>State</th>\n",
       "      <th>County</th>\n",
       "      <th>Zip_Code_cleaned</th>\n",
       "      <th>Zip_Code</th>\n",
       "      <th>Applicant_Status</th>\n",
       "      <th>Legal_Classification</th>\n",
       "      <th>Certifier_Middle_Initial</th>\n",
       "      <th>Certifier_Last_Name</th>\n",
       "      <th>Certifier_Suffix</th>\n",
       "    </tr>\n",
       "  </thead>\n",
       "  <tbody>\n",
       "    <tr>\n",
       "      <th>30</th>\n",
       "      <td>Western Systems, Inc.</td>\n",
       "      <td>530 W. O'Brien Drive</td>\n",
       "      <td>NaN</td>\n",
       "      <td>Agana</td>\n",
       "      <td>GU</td>\n",
       "      <td>None</td>\n",
       "      <td>96910</td>\n",
       "      <td>96910</td>\n",
       "      <td>NaN</td>\n",
       "      <td>Corporation</td>\n",
       "      <td>Lee</td>\n",
       "      <td>NaN</td>\n",
       "      <td>Holmes</td>\n",
       "    </tr>\n",
       "    <tr>\n",
       "      <th>31</th>\n",
       "      <td>IT&amp;E Overseas,  Inc.</td>\n",
       "      <td>1010 South Marine Drive</td>\n",
       "      <td>NaN</td>\n",
       "      <td>Tamuning</td>\n",
       "      <td>GU</td>\n",
       "      <td>None</td>\n",
       "      <td>96911</td>\n",
       "      <td>96911</td>\n",
       "      <td>Minority Owned Business</td>\n",
       "      <td>Corporation</td>\n",
       "      <td>John</td>\n",
       "      <td>M</td>\n",
       "      <td>Borlas</td>\n",
       "    </tr>\n",
       "    <tr>\n",
       "      <th>232</th>\n",
       "      <td>Telecell Systems, Inc.</td>\n",
       "      <td>X-1 Vayas Torres</td>\n",
       "      <td>NaN</td>\n",
       "      <td>Mercedita</td>\n",
       "      <td>PR</td>\n",
       "      <td>None</td>\n",
       "      <td>00715</td>\n",
       "      <td>00715</td>\n",
       "      <td>Minority Owned Business</td>\n",
       "      <td>Corporation</td>\n",
       "      <td>Hector</td>\n",
       "      <td>R</td>\n",
       "      <td>Gonzalez</td>\n",
       "    </tr>\n",
       "    <tr>\n",
       "      <th>233</th>\n",
       "      <td>PCS 2000, L.P.</td>\n",
       "      <td>361 SAN FRANCISCO STREET</td>\n",
       "      <td>FIRST FLOOR</td>\n",
       "      <td>SAN JUAN</td>\n",
       "      <td>PR</td>\n",
       "      <td>None</td>\n",
       "      <td>00901</td>\n",
       "      <td>00901</td>\n",
       "      <td>Minority Owned Business</td>\n",
       "      <td>Limited Partnership</td>\n",
       "      <td>JAVIER</td>\n",
       "      <td>O</td>\n",
       "      <td>LAMOSO</td>\n",
       "    </tr>\n",
       "    <tr>\n",
       "      <th>234</th>\n",
       "      <td>TELEPACIFIC  NETWORK,  INC.</td>\n",
       "      <td>259 Martyr St.</td>\n",
       "      <td>Ste. 101</td>\n",
       "      <td>Agana</td>\n",
       "      <td>GU</td>\n",
       "      <td>None</td>\n",
       "      <td>96910</td>\n",
       "      <td>96910</td>\n",
       "      <td>Minority Owned Business</td>\n",
       "      <td>Corporation</td>\n",
       "      <td>Jose</td>\n",
       "      <td>S</td>\n",
       "      <td>Perez</td>\n",
       "    </tr>\n",
       "  </tbody>\n",
       "</table>\n",
       "</div>"
      ],
      "text/plain": [
       "                         co_name                  Address1     Address2  \\\n",
       "30         Western Systems, Inc.      530 W. O'Brien Drive          NaN   \n",
       "31          IT&E Overseas,  Inc.   1010 South Marine Drive          NaN   \n",
       "232       Telecell Systems, Inc.          X-1 Vayas Torres          NaN   \n",
       "233               PCS 2000, L.P.  361 SAN FRANCISCO STREET  FIRST FLOOR   \n",
       "234  TELEPACIFIC  NETWORK,  INC.            259 Martyr St.     Ste. 101   \n",
       "\n",
       "          City State County Zip_Code_cleaned Zip_Code  \\\n",
       "30       Agana    GU   None            96910    96910   \n",
       "31    Tamuning    GU   None            96911    96911   \n",
       "232  Mercedita    PR   None            00715    00715   \n",
       "233   SAN JUAN    PR   None            00901    00901   \n",
       "234      Agana    GU   None            96910    96910   \n",
       "\n",
       "            Applicant_Status Legal_Classification Certifier_Middle_Initial  \\\n",
       "30                       NaN          Corporation                      Lee   \n",
       "31   Minority Owned Business          Corporation                     John   \n",
       "232  Minority Owned Business          Corporation                   Hector   \n",
       "233  Minority Owned Business  Limited Partnership                   JAVIER   \n",
       "234  Minority Owned Business          Corporation                     Jose   \n",
       "\n",
       "    Certifier_Last_Name Certifier_Suffix  \n",
       "30                  NaN           Holmes  \n",
       "31                    M           Borlas  \n",
       "232                   R         Gonzalez  \n",
       "233                   O           LAMOSO  \n",
       "234                   S            Perez  "
      ]
     },
     "execution_count": 355,
     "metadata": {},
     "output_type": "execute_result"
    }
   ],
   "source": [
    "bidder_data_form175.loc[bidder_data_form175['County'].isnull()] "
   ]
  },
  {
   "cell_type": "code",
   "execution_count": 364,
   "metadata": {},
   "outputs": [
    {
     "name": "stdout",
     "output_type": "stream",
     "text": [
      "BTAs in PR: [489 488]\n",
      "BTAs in GU: [490]\n"
     ]
    }
   ],
   "source": [
    "# # Edit counties by hand to match the names in county_bta_mapping_data\n",
    "bidder_data_form175.loc[bidder_data_form175['County'] == 'City and County of San Francisco', 'County'] = 'San Francisco'\n",
    "bidder_data_form175.loc[bidder_data_form175['County'] == 'Anchorage Municipality', 'County'] = 'Anchorage'\n",
    "bidder_data_form175.loc[bidder_data_form175['County'] == 'St. Louis (city)', 'County'] = 'St. Louis'\n",
    "bidder_data_form175.loc[bidder_data_form175['County'] == 'City of Alexandria', 'County'] = 'Alexandria City'\n",
    "bidder_data_form175.loc[bidder_data_form175['County'] == 'East Baton Rouge Parish', 'County'] = 'East Baton Rouge'\n",
    "bidder_data_form175.loc[bidder_data_form175['County'] == 'Waynesboro (city)', 'County'] = 'Waynesboro City'\n",
    "bidder_data_form175.loc[bidder_data_form175['County'] == 'Jefferson Parish', 'County'] = 'Jefferson'\n",
    "bidder_data_form175.loc[bidder_data_form175['County'] == 'Western Connecticut', 'County'] = 'Fairfield'\n",
    "bidder_data_form175.loc[bidder_data_form175['County'] == 'Capitol Region', 'County'] = 'Hartford'\n",
    "\n",
    "\n",
    "# Merge bidder_data_form175 with county_bta_mapping_data on 'County' and 'State'\n",
    "merged_data = bidder_data_form175.merge(county_bta_mapping_data[['County', 'State', 'BTA']], \n",
    "                                         on=['County', 'State'], \n",
    "                                         how='left')\n",
    "\n",
    "# If no match is found, the 'BTA' column will be NaN, and we can assign it directly\n",
    "bidder_data_form175['bta'] = merged_data['BTA']\n",
    "\n",
    "\n",
    "# # Add PR and GU by hand\n",
    "print('BTAs in PR:', county_bta_mapping_data[county_bta_mapping_data['State'] == 'PR']['BTA'].unique())\n",
    "print('BTAs in GU:', county_bta_mapping_data[county_bta_mapping_data['State'] == 'GU']['BTA'].unique())\n",
    "\n",
    "bidder_data_form175.loc[bidder_data_form175['State'] == 'GU', 'bta'] = 490\n",
    "bidder_data_form175.loc[bidder_data_form175['City'] == 'Mercedita', 'bta'] = 489\n",
    "bidder_data_form175.loc[bidder_data_form175['City'] == 'SAN JUAN', 'bta'] = 488\n",
    "\n",
    "# Make column bta integer\n",
    "bidder_data_form175['bta'] = bidder_data_form175['bta'].astype(int)"
   ]
  },
  {
   "cell_type": "code",
   "execution_count": 372,
   "metadata": {},
   "outputs": [
    {
     "data": {
      "text/html": [
       "<div>\n",
       "<style scoped>\n",
       "    .dataframe tbody tr th:only-of-type {\n",
       "        vertical-align: middle;\n",
       "    }\n",
       "\n",
       "    .dataframe tbody tr th {\n",
       "        vertical-align: top;\n",
       "    }\n",
       "\n",
       "    .dataframe thead th {\n",
       "        text-align: right;\n",
       "    }\n",
       "</style>\n",
       "<table border=\"1\" class=\"dataframe\">\n",
       "  <thead>\n",
       "    <tr style=\"text-align: right;\">\n",
       "      <th></th>\n",
       "      <th>co_name</th>\n",
       "      <th>Address1</th>\n",
       "      <th>Address2</th>\n",
       "      <th>City</th>\n",
       "      <th>State</th>\n",
       "      <th>County</th>\n",
       "      <th>Zip_Code_cleaned</th>\n",
       "      <th>Zip_Code</th>\n",
       "      <th>Applicant_Status</th>\n",
       "      <th>Legal_Classification</th>\n",
       "      <th>Certifier_Middle_Initial</th>\n",
       "      <th>Certifier_Last_Name</th>\n",
       "      <th>Certifier_Suffix</th>\n",
       "      <th>bta</th>\n",
       "    </tr>\n",
       "  </thead>\n",
       "  <tbody>\n",
       "  </tbody>\n",
       "</table>\n",
       "</div>"
      ],
      "text/plain": [
       "Empty DataFrame\n",
       "Columns: [co_name, Address1, Address2, City, State, County, Zip_Code_cleaned, Zip_Code, Applicant_Status, Legal_Classification, Certifier_Middle_Initial, Certifier_Last_Name, Certifier_Suffix, bta]\n",
       "Index: []"
      ]
     },
     "execution_count": 372,
     "metadata": {},
     "output_type": "execute_result"
    }
   ],
   "source": [
    "bidder_data_form175.loc[bidder_data_form175['bta'].isnull()]"
   ]
  },
  {
   "cell_type": "code",
   "execution_count": 371,
   "metadata": {},
   "outputs": [
    {
     "data": {
      "text/plain": [
       "0       41\n",
       "1      171\n",
       "2      381\n",
       "3       77\n",
       "4      375\n",
       "      ... \n",
       "250    321\n",
       "251      7\n",
       "252    352\n",
       "253    447\n",
       "254    430\n",
       "Name: bta, Length: 255, dtype: int64"
      ]
     },
     "execution_count": 371,
     "metadata": {},
     "output_type": "execute_result"
    }
   ],
   "source": [
    "bidder_data_form175['bta']"
   ]
  },
  {
   "cell_type": "code",
   "execution_count": null,
   "metadata": {},
   "outputs": [],
   "source": []
  },
  {
   "cell_type": "code",
   "execution_count": 373,
   "metadata": {},
   "outputs": [
    {
     "name": "stdout",
     "output_type": "stream",
     "text": [
      "File saved at: /Users/Enzo/Desktop/JMP/form175_data/bidder_data_form175.csv\n"
     ]
    }
   ],
   "source": [
    "# Define the file path\n",
    "output_file = os.path.join(folder_path, \"bidder_data_form175.csv\")\n",
    "\n",
    "# Check if the file exists\n",
    "if not os.path.exists(output_file):\n",
    "    # Save the DataFrame to a .csv file\n",
    "    bidder_data_form175.to_csv(output_file, index=False)\n",
    "    print(f\"File saved at: {output_file}\")\n",
    "else:\n",
    "    print(f\"File already exists: {output_file}\")\n"
   ]
  },
  {
   "cell_type": "code",
   "execution_count": null,
   "metadata": {},
   "outputs": [],
   "source": []
  }
 ],
 "metadata": {
  "kernelspec": {
   "display_name": "base",
   "language": "python",
   "name": "python3"
  },
  "language_info": {
   "codemirror_mode": {
    "name": "ipython",
    "version": 3
   },
   "file_extension": ".py",
   "mimetype": "text/x-python",
   "name": "python",
   "nbconvert_exporter": "python",
   "pygments_lexer": "ipython3",
   "version": "3.12.2"
  }
 },
 "nbformat": 4,
 "nbformat_minor": 2
}
