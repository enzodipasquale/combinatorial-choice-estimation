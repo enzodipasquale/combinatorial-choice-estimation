{
 "cells": [
  {
   "cell_type": "code",
   "execution_count": 99,
   "metadata": {},
   "outputs": [],
   "source": [
    "import pandas as pd\n",
    "import os"
   ]
  },
  {
   "cell_type": "code",
   "execution_count": 100,
   "metadata": {},
   "outputs": [],
   "source": [
    "def process_app_records(file_path):\n",
    "\n",
    "    # Read the file with '|' as the delimiter\n",
    "    df = pd.read_csv(file_path, delimiter=\"|\", header=None, dtype=str)\n",
    "\n",
    "    # Filter for 'APP' records\n",
    "    app_records = df[df[0] == \"APP\"].reset_index(drop=True)\n",
    "\n",
    "    # Assign the 52 column names exactly as defined in the document\n",
    "    app_columns = [\n",
    "        \"Record_Type\", \"Applicant_FRN\", \"Auction_ID\", \"File_Number\", \"Applicant_Name\",\n",
    "        \"First_Name\", \"Middle_Name\", \"Last_Name\", \"Suffix\", \"State_Or_Citizenship\",\n",
    "        \"Applicant_Status\", \"Legal_Classification\", \"Reserved1\", \"Reserved2\", \"Reserved3\",\n",
    "        \"Noncommercial_Status\", \"Address1\", \"Address2\", \"City\", \"State\", \"Zip_Code\",\n",
    "        \"Country\", \"Bidding_Option\", \"Bidding_Credit\", \"New_Entrant_Credit\",\n",
    "        \"Gross_Revenue_Lower\", \"Gross_Revenue_Upper\", \"Closed_Bidding_Eligibility\",\n",
    "        \"Bidding_Credit_Percentage\", \"Certifier_First_Name\", \"Certifier_Middle_Initial\",\n",
    "        \"Certifier_Last_Name\", \"Certifier_Suffix\", \"Certifier_Title\", \"Prior_Defaulter\",\n",
    "        \"Financial_Statement_Type\", \"Gross_Revenue_Most_Recent\", \"Recent_Year_End\",\n",
    "        \"Gross_Revenue_One_Year_Prior\", \"One_Year_Prior_End\", \"Gross_Revenue_Two_Years_Prior\",\n",
    "        \"Two_Years_Prior_End\", \"Total_Assets\", \"Aggregate_Gross_Revenues\",\n",
    "        \"Aggregate_Gross_Revenues_1\", \"Aggregate_Gross_Revenues_2\", \"Aggregate_Total_Assets\",\n",
    "        \"Aggregate_Total_Assets_1\", \"Aggregate_Total_Assets_2\", \"Financial_Statement\",\n",
    "        \"Aggregate_Financial_Statement\", \"Aggregate_Credits\"\n",
    "    ]\n",
    "\n",
    "    # Assign the column names\n",
    "    app_records.columns = app_columns\n",
    "\n",
    "    return app_records"
   ]
  },
  {
   "cell_type": "code",
   "execution_count": 101,
   "metadata": {},
   "outputs": [],
   "source": [
    "# Folder containing the .txt files\n",
    "folder_path = \"/Users/Enzo/Desktop/JMP/form175_data\"\n",
    "\n",
    "# Process all .txt files in the folder\n",
    "all_dataframes = []\n",
    "for file_name in os.listdir(folder_path):\n",
    "    if file_name.endswith(\".txt\"):\n",
    "        file_path = os.path.join(folder_path, file_name)\n",
    "        df = process_app_records(file_path)\n",
    "        all_dataframes.append(df)\n",
    "\n",
    "# Concatenate all dataframes into one unique dataframe\n",
    "final_dataframe = pd.concat(all_dataframes, ignore_index=True)"
   ]
  },
  {
   "cell_type": "code",
   "execution_count": 102,
   "metadata": {},
   "outputs": [],
   "source": [
    "### CLEANING\n",
    "\n",
    "# Remove duplicates\n",
    "bidder_data_form175 = final_dataframe.drop_duplicates()\n",
    "\n",
    "path_to_data = '/Users/Enzo/Desktop/JMP/114402-V1/Replication-Fox-and-Bajari/data/'\n",
    "bidder_data = pd.read_csv(path_to_data + 'biddercblk_03_28_2004_pln.csv')\n",
    "\n",
    "\n",
    "# Extract rows where 'co_name' is not in 'Applicant_Name'\n",
    "missing_rows_bidder_data = bidder_data[~bidder_data['co_name'].isin(bidder_data_form175['Applicant_Name'])]\n",
    "\n",
    "missing_rows_form_175 = bidder_data_form175[~bidder_data_form175['Applicant_Name'].isin(bidder_data['co_name'])]\n",
    "\n",
    "\n",
    "\n",
    "bidder_data_form175 = bidder_data_form175.copy()\n",
    "bidder_data_form175['co_name'] = bidder_data_form175['Applicant_Name']\n",
    "bidder_data_form175[~bidder_data_form175['Applicant_Name'].isin(bidder_data['co_name'])]['co_name']\n",
    "\n",
    "\n",
    "# Identify the index of the first row where the condition is met\n",
    "index_to_update = bidder_data_form175[~bidder_data_form175['Applicant_Name'].isin(bidder_data['co_name'])].index\n",
    "\n",
    "\n",
    "bidder_data_form175.loc[index_to_update[0], 'co_name'] = 'Betty A. Gleaton'\n",
    "bidder_data_form175.loc[index_to_update[1], 'co_name'] = 'HARVEY LEONG'\n",
    "bidder_data_form175.loc[index_to_update[2], 'co_name'] = 'William Ingram'\n",
    "bidder_data_form175.loc[index_to_update[3], 'co_name'] = 'ELIZABETH R. GUEST'\n",
    "bidder_data_form175.loc[index_to_update[4], 'co_name'] = 'Mark M. Guest'\n",
    "bidder_data_form175.loc[index_to_update[5], 'co_name'] = 'Vincent  D. McBride'\n",
    "bidder_data_form175.loc[index_to_update[6], 'co_name'] = 'ADILIA M. AGUILAR'\n",
    "bidder_data_form175.loc[index_to_update[7], 'co_name'] = 'Shawn Capistrano'\n",
    "bidder_data_form175.loc[index_to_update[8], 'co_name'] = 'GLENN ISHIHARA'\n",
    "bidder_data_form175.loc[index_to_update[9], 'co_name'] = 'Harold L. Sudbury, Jr.'\n"
   ]
  },
  {
   "cell_type": "code",
   "execution_count": 103,
   "metadata": {},
   "outputs": [
    {
     "name": "stdout",
     "output_type": "stream",
     "text": [
      "File already exists: /Users/Enzo/Desktop/JMP/form175_data/bidder_data_form175.csv\n"
     ]
    }
   ],
   "source": [
    "import os\n",
    "\n",
    "# Define the file path\n",
    "output_file = os.path.join(folder_path, \"bidder_data_form175.csv\")\n",
    "\n",
    "# Check if the file exists\n",
    "if not os.path.exists(output_file):\n",
    "    # Save the DataFrame to a .csv file\n",
    "    bidder_data_form175.to_csv(output_file, index=False)\n",
    "    print(f\"File saved at: {output_file}\")\n",
    "else:\n",
    "    print(f\"File already exists: {output_file}\")\n"
   ]
  },
  {
   "cell_type": "code",
   "execution_count": null,
   "metadata": {},
   "outputs": [],
   "source": []
  }
 ],
 "metadata": {
  "kernelspec": {
   "display_name": "base",
   "language": "python",
   "name": "python3"
  },
  "language_info": {
   "codemirror_mode": {
    "name": "ipython",
    "version": 3
   },
   "file_extension": ".py",
   "mimetype": "text/x-python",
   "name": "python",
   "nbconvert_exporter": "python",
   "pygments_lexer": "ipython3",
   "version": "3.12.2"
  }
 },
 "nbformat": 4,
 "nbformat_minor": 2
}
