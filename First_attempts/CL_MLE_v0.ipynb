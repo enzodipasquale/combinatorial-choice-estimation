{
 "cells": [
  {
   "cell_type": "code",
   "execution_count": 161,
   "metadata": {},
   "outputs": [],
   "source": [
    "import numpy as np\n",
    "from scipy.optimize import linprog\n",
    "import scipy.sparse as spr\n",
    "import itertools\n",
    "from scipy.linalg import sqrtm\n",
    "from jax.scipy.optimize import minimize\n",
    "import jax.numpy as jnp\n",
    "import jax\n",
    "import sys\n"
   ]
  },
  {
   "cell_type": "markdown",
   "metadata": {},
   "source": [
    "# Discrete Choice"
   ]
  },
  {
   "cell_type": "code",
   "execution_count": null,
   "metadata": {},
   "outputs": [],
   "source": []
  },
  {
   "cell_type": "code",
   "execution_count": 162,
   "metadata": {},
   "outputs": [],
   "source": [
    "K = 2\n",
    "I = 40\n",
    "Y = 3\n",
    "sigma = np.sqrt(1 * 1e-0) * 1\n",
    "\n",
    "\n",
    "lambda_k = np.array([0,1])\n",
    "# lambda_k = np.ones(K)\n",
    "\n",
    "\n",
    "\n",
    "np.random.seed(3987)\n",
    "φ_i_y_0 =  np.random.normal(0,1, size=[I,Y])\n",
    "# φ_i_y_0 = np.kron( np.ones((I,1)) , np.random.normal(0,1, size= [1,Y]))\n",
    "\n",
    "φ_i_y_k = np.random.normal(0,1, size=[I,Y,K])\n",
    "\n",
    "# φ_i_y_k[:,:,0] = np.ones(I)[:,None]  * np.random.normal(0,1,size= Y)[None,:]\n",
    "\n",
    "\n",
    "# # add correlation\n",
    "# A = np.random.rand(K, K)\n",
    "# A_symmetric = (A + A.T) / 2\n",
    "# A_pd = A_symmetric + K * np.eye(K)\n",
    "# A_pd_root = sqrtm(A_pd)\n",
    "\n",
    "# φ_i_y_k = φ_i_y_k @ A_pd_root\n",
    "\n",
    "\n",
    "eps_iy = sigma * np.random.gumbel(0,1, size=[I,Y])\n",
    "\n",
    "y_i_hat = np.argmax(φ_i_y_0 + φ_i_y_k @ lambda_k + eps_iy, axis =1)"
   ]
  },
  {
   "cell_type": "markdown",
   "metadata": {},
   "source": [
    "### Minimax regret"
   ]
  },
  {
   "cell_type": "code",
   "execution_count": 163,
   "metadata": {},
   "outputs": [
    {
     "name": "stdout",
     "output_type": "stream",
     "text": [
      "34.08165155092372\n"
     ]
    }
   ],
   "source": [
    "c = np.concatenate((- φ_i_y_k[range(I),y_i_hat,:].sum(0),np.ones(I)))\n",
    "A =  np.concatenate(( - φ_i_y_k.reshape([I*Y,K]),  np.kron(np.eye(I), np.ones((Y,1)) ) ), axis =1)\n",
    "b =  φ_i_y_0.flatten()\n",
    "\n",
    "\n",
    "res = linprog(c, A_ub = - A, b_ub = - b, bounds=(None, None) , method='highs') \n",
    "print(res.fun)"
   ]
  },
  {
   "cell_type": "code",
   "execution_count": 164,
   "metadata": {},
   "outputs": [
    {
     "name": "stdout",
     "output_type": "stream",
     "text": [
      "[-0.28185308  0.56028957]\n",
      "[0 1]\n"
     ]
    }
   ],
   "source": [
    "print(res.x[:K])\n",
    "print(lambda_k)"
   ]
  },
  {
   "cell_type": "code",
   "execution_count": 165,
   "metadata": {},
   "outputs": [
    {
     "name": "stdout",
     "output_type": "stream",
     "text": [
      "24\n",
      "40\n",
      "36.861965598975026\n"
     ]
    }
   ],
   "source": [
    "y_i_estimate = np.argmax(φ_i_y_0 + φ_i_y_k @ res.x[:K] , axis =1)\n",
    "val_i = np.max( φ_i_y_0 + φ_i_y_k @ lambda_k, 1 )\n",
    "\n",
    "print(np.sum(y_i_estimate == y_i_hat))\n",
    "print(I)\n",
    "\n",
    "print( np.inner(c, np.concatenate( (lambda_k, val_i)) ))"
   ]
  },
  {
   "cell_type": "markdown",
   "metadata": {},
   "source": [
    "### MLE by simulation"
   ]
  },
  {
   "cell_type": "markdown",
   "metadata": {},
   "source": [
    "We solve\n",
    "\n",
    "$$ \\begin{align*}\n",
    "    \\min_{\\lambda, u} &  \\frac{1}{S} \\sum_{is} u_{is}  - \\sum_{ik} \\phi_{i\\hat{B}_i,k} \\lambda_k \\\\\n",
    "    s.t. & \\quad u_{is} \\geq  \\phi_{iy0} + \\sum_k \\phi_{iy,k} \\lambda_k + \\sigma \\epsilon_{isy}  \\quad \\text{for all } isy \\in I \\times S \\times Y\n",
    "\\end{align*}$$\n"
   ]
  },
  {
   "cell_type": "code",
   "execution_count": 166,
   "metadata": {},
   "outputs": [
    {
     "name": "stdout",
     "output_type": "stream",
     "text": [
      "[-0.07339495  1.02579245]\n"
     ]
    }
   ],
   "source": [
    "def compute_MLE_simulation(data, S, seed):\n",
    "    y_i_hat , φ_i_y_0, φ_i_y_k   = data\n",
    "    np.random.seed(seed)\n",
    "    eps_i_s_y = sigma * np.random.gumbel(0,1, size=[I,S,Y])\n",
    "\n",
    "    φ_is_y_0 = ( φ_i_y_0[:,None,:] +  eps_i_s_y).reshape([I * S, Y])\n",
    "    φ_is_y_k =( np.ones(S)[None,:,None, None] *  φ_i_y_k[:,None,:,:] ).reshape([I * S, Y , K])\n",
    "\n",
    "\n",
    "    # Objective function coefficients\n",
    "    c = np.concatenate((-  φ_i_y_k[range(I),y_i_hat,:].sum(0),  np.ones(I*S)/S  ))\n",
    "\n",
    "    A =  np.concatenate(( - φ_is_y_k.reshape([I*S*Y,K]),  np.kron(np.eye(I * S), np.ones((Y,1)) ) ), axis =1)\n",
    "    b =  φ_is_y_0.flatten()\n",
    "\n",
    "    # Solve the problem\n",
    "    res = linprog(c, A_ub = - A, b_ub = - b, bounds=(None, None) , method='highs') \n",
    "    if res.status != 0:\n",
    "        print('problem failed')\n",
    "        \n",
    "    # print(res.status)\n",
    "    return res.x[:K]\n",
    "    \n",
    "    # print(res.fun / S)\n",
    "\n",
    "\n",
    "\n",
    "S = 80\n",
    "seed = 0\n",
    "\n",
    "data = (y_i_hat , φ_i_y_0, φ_i_y_k)\n",
    "lambda_S = compute_MLE_simulation(data,S, seed)\n",
    "print(lambda_S)"
   ]
  },
  {
   "cell_type": "code",
   "execution_count": 167,
   "metadata": {},
   "outputs": [
    {
     "name": "stdout",
     "output_type": "stream",
     "text": [
      "Iterations= 287\n",
      "lambda_k= [-0.05198963  0.99444237]\n",
      "gradient= [-7.74762938e-08  9.54807727e-07]\n"
     ]
    }
   ],
   "source": [
    "### MLE by Gradient Descent\n",
    "φ_iy_k = φ_i_y_k.reshape([I * Y , K])\n",
    "φ_iy_0 = φ_i_y_0.reshape([I * Y ])\n",
    "\n",
    "phi_iy_k = np.concatenate( (φ_iy_k ,φ_iy_0[:,None] ), axis = 1)\n",
    "muhat_iy = np.array([ np.eye(1,Y, y_i_hat[i])[0] for i in range(I)]).flatten()\n",
    "\n",
    "# Computing MLE:\n",
    "alpha = 1 / np.linalg.norm(phi_iy_k @ phi_iy_k.T) \n",
    "lambda_t = np.zeros(K)\n",
    "tol,iter = 1e-6, 20000\n",
    "for i in range(iter):\n",
    "    expPhi_i_y = np.exp((φ_iy_0 + φ_iy_k @ lambda_t)/sigma).reshape( (I,Y)) \n",
    "\n",
    "    mu_iy = (expPhi_i_y / expPhi_i_y.sum(axis =1)[:,None]).flatten()\n",
    "\n",
    "    grad_k = ((muhat_iy - mu_iy) @ φ_iy_k).flatten() \n",
    "\n",
    "    if np.linalg.norm(grad_k) < tol:\n",
    "        break\n",
    "    lambda_t = lambda_t + alpha * grad_k\n",
    "\n",
    "print('Iterations=', i)\n",
    "print( 'lambda_k=',lambda_t)\n",
    "print( 'gradient=', grad_k )"
   ]
  },
  {
   "cell_type": "markdown",
   "metadata": {},
   "source": [
    "### Standard errors"
   ]
  },
  {
   "cell_type": "code",
   "execution_count": 168,
   "metadata": {},
   "outputs": [
    {
     "name": "stdout",
     "output_type": "stream",
     "text": [
      "[[ 0.05617428 -0.00288433]\n",
      " [-0.00288433  0.09148735]]\n"
     ]
    }
   ],
   "source": [
    "def compute_asymptotic_variance(lambda_t):\n",
    "    π_i_y_lambda =( np.exp((φ_i_y_0 + φ_i_y_k @ lambda_t)/sigma)/\n",
    "                     np.exp((φ_i_y_0 + φ_i_y_k @ lambda_t)/sigma).sum(1)[:,None])\n",
    "    Delta = np.diag(( π_i_y_lambda ).reshape(I*Y))\n",
    "    \n",
    "\n",
    "    H_ll = - φ_iy_k.T @ (Delta - Delta @ np.kron(np.eye(I), np.ones([Y,Y]))  @ Delta  )@ φ_iy_k \n",
    "\n",
    "    return -np.linalg.inv(H_ll)\n",
    "\n",
    "Avar_MLE = compute_asymptotic_variance(lambda_t)\n",
    "print(Avar_MLE)"
   ]
  },
  {
   "cell_type": "code",
   "execution_count": 169,
   "metadata": {},
   "outputs": [
    {
     "name": "stdout",
     "output_type": "stream",
     "text": [
      "[[ 0.05617428 -0.00288433]\n",
      " [-0.00288433  0.09148735]]\n"
     ]
    }
   ],
   "source": [
    "π_i_y_lambda =( np.exp((φ_i_y_0 + φ_i_y_k @ lambda_t)/sigma)/\n",
    "                     np.exp((φ_i_y_0 + φ_i_y_k @ lambda_t)/sigma).sum(1)[:,None])\n",
    "B_hat = ((π_i_y_lambda[:,:,None,None] *  φ_i_y_k[:,:,:,None]  * φ_i_y_k[:,:,None,:] ).sum((0,1)) \n",
    "        - (π_i_y_lambda[:,:,None,None,None] * π_i_y_lambda[:,None,:,None,None] \n",
    "            *  φ_i_y_k[:,:,None,:,None]  * φ_i_y_k[:,None,:,None,:] ).sum((0,1,2)))\n",
    "\n",
    "Avar_MLE2 = np.linalg.inv(B_hat)\n",
    "\n",
    "print(Avar_MLE2)"
   ]
  },
  {
   "cell_type": "code",
   "execution_count": 170,
   "metadata": {},
   "outputs": [
    {
     "name": "stdout",
     "output_type": "stream",
     "text": [
      "[[0.0849942  0.00115362]\n",
      " [0.00115362 0.10103281]]\n"
     ]
    }
   ],
   "source": [
    "### Bootstrap\n",
    "iter = 0\n",
    "R = 100\n",
    "S = 80\n",
    "lambda_b_k = []\n",
    "random_seed = 0\n",
    "for iter in range(R):\n",
    "    # print(iter)\n",
    "    np.random.seed(iter)\n",
    "    bootstrap_sample = np.random.choice(np.arange(I), size = I, replace=True)\n",
    "\n",
    "    data = y_i_hat[bootstrap_sample] , φ_i_y_0[bootstrap_sample], φ_i_y_k[bootstrap_sample]\n",
    "    \n",
    "    lambda_S = compute_MLE_simulation(data,S, random_seed)\n",
    "    # print(lambda_S)\n",
    "    lambda_b_k.append(lambda_S)\n",
    "\n",
    "lambda_b_k = np.array(lambda_b_k)\n",
    "Avar_bootstrap = np.cov(lambda_b_k.T)\n",
    "print(Avar_bootstrap)   "
   ]
  },
  {
   "cell_type": "code",
   "execution_count": 171,
   "metadata": {},
   "outputs": [
    {
     "name": "stdout",
     "output_type": "stream",
     "text": [
      "MLE: [-0.05198963  0.99444237]  s.e.: [0.23701115 0.30246876]\n",
      "Simulated: [-0.01118097  1.0057336 ]  s.e.: [0.29153765 0.31785659]\n",
      "MLE2: [-0.05198963  0.99444237]  s.e.: [0.23701115 0.30246876]\n",
      "[0.01322962 0.90008261]\n"
     ]
    }
   ],
   "source": [
    "print('MLE:',lambda_t,' s.e.:',Avar_MLE[np.arange(K), np.arange(K)] **(1/2))\n",
    "print('Simulated:',lambda_b_k.mean(0),' s.e.:',Avar_bootstrap[np.arange(K), np.arange(K)] **(1/2))\n",
    "print('MLE2:',lambda_t,' s.e.:',Avar_MLE2[np.arange(K), np.arange(K)] **(1/2))\n",
    "print(lambda_S)"
   ]
  },
  {
   "cell_type": "code",
   "execution_count": 172,
   "metadata": {},
   "outputs": [
    {
     "data": {
      "text/plain": [
       "array([[ 0.05617428, -0.00288433],\n",
       "       [-0.00288433,  0.09148735]])"
      ]
     },
     "execution_count": 172,
     "metadata": {},
     "output_type": "execute_result"
    }
   ],
   "source": [
    "Avar_MLE2"
   ]
  },
  {
   "cell_type": "code",
   "execution_count": 173,
   "metadata": {},
   "outputs": [
    {
     "data": {
      "text/plain": [
       "array([0.05617428, 0.09148735])"
      ]
     },
     "execution_count": 173,
     "metadata": {},
     "output_type": "execute_result"
    }
   ],
   "source": [
    "Avar_MLE2[np.arange(K), np.arange(K)]"
   ]
  },
  {
   "cell_type": "code",
   "execution_count": 174,
   "metadata": {},
   "outputs": [
    {
     "ename": "SystemExit",
     "evalue": "Stopping execution here.",
     "output_type": "error",
     "traceback": [
      "An exception has occurred, use %tb to see the full traceback.\n",
      "\u001b[0;31mSystemExit\u001b[0m\u001b[0;31m:\u001b[0m Stopping execution here.\n"
     ]
    }
   ],
   "source": [
    "sys.exit(\"Stopping execution here.\") "
   ]
  },
  {
   "cell_type": "markdown",
   "metadata": {},
   "source": [
    "# One-to-one Matching"
   ]
  },
  {
   "cell_type": "code",
   "execution_count": 75,
   "metadata": {},
   "outputs": [
    {
     "name": "stdout",
     "output_type": "stream",
     "text": [
      "497.6279905331009\n"
     ]
    }
   ],
   "source": [
    "K = 5\n",
    "# lambda_k = np.array([-1,2,1,-1,2,3,0])\n",
    "lambda_k = np.ones(K)*10\n",
    "\n",
    "X = 100\n",
    "Y = 100\n",
    "\n",
    "n_x = np.ones(X)\n",
    "m_y = np.ones(Y)\n",
    "\n",
    "np.random.seed(0)\n",
    "# φ_x_y_0 =  np.random.normal(0,1, size=[X,Y])\n",
    "φ_x_y_0 =  np.random.normal(1,10, size = [X,1]) * np.random.normal(0,1, size = [1,Y])\n",
    "φ_x_y_k = np.random.normal(1,10, size=[X,Y,K])\n",
    "print((φ_x_y_k.sum(2).std())**2)\n",
    "\n",
    "\n",
    "sigma = np.sqrt(5)\n",
    "eps_x_y = np.random.normal(0,1, size=[X,Y])"
   ]
  },
  {
   "cell_type": "code",
   "execution_count": 76,
   "metadata": {},
   "outputs": [],
   "source": [
    "φ_x_y = φ_x_y_0 + φ_x_y_k @ lambda_k + sigma * eps_x_y\n",
    "n_x = np.ones(X)\n",
    "m_y = np.ones(Y)"
   ]
  },
  {
   "cell_type": "code",
   "execution_count": 77,
   "metadata": {},
   "outputs": [
    {
     "data": {
      "text/plain": [
       "(100, 100)"
      ]
     },
     "execution_count": 77,
     "metadata": {},
     "output_type": "execute_result"
    }
   ],
   "source": [
    "np.shape(φ_x_y_0 + φ_x_y_k @ lambda_k + sigma * eps_x_y)"
   ]
  },
  {
   "cell_type": "code",
   "execution_count": 78,
   "metadata": {},
   "outputs": [],
   "source": [
    "c = - (φ_x_y).flatten()\n",
    "A = np.concatenate((np.kron(np.eye(X), np.ones(Y)),\n",
    "                    np.kron(np.ones((1,X)), np.eye(Y))), axis =0 ) \n",
    "\n",
    "b = np.concatenate((n_x,m_y))\n",
    "res = linprog(c, A_eq = A, b_eq = b, bounds=(0,None), method='highs')"
   ]
  },
  {
   "cell_type": "code",
   "execution_count": 79,
   "metadata": {},
   "outputs": [],
   "source": [
    "p_hat = - res['eqlin']['marginals'].sum()\n",
    "mu_xy_hat = res.x"
   ]
  },
  {
   "cell_type": "code",
   "execution_count": 80,
   "metadata": {},
   "outputs": [
    {
     "data": {
      "text/plain": [
       "True"
      ]
     },
     "execution_count": 80,
     "metadata": {},
     "output_type": "execute_result"
    }
   ],
   "source": [
    "np.all((mu_xy_hat == 0 )  + ( mu_xy_hat == 1))"
   ]
  },
  {
   "cell_type": "markdown",
   "metadata": {},
   "source": [
    "Estimation"
   ]
  },
  {
   "cell_type": "code",
   "execution_count": 81,
   "metadata": {},
   "outputs": [],
   "source": [
    "φ_xy_k = φ_x_y_k.reshape([X*Y,K])"
   ]
  },
  {
   "cell_type": "code",
   "execution_count": 82,
   "metadata": {},
   "outputs": [],
   "source": [
    "c = np.concatenate( (- (φ_xy_k * mu_xy_hat[:,None]).sum(0) , np.ones(X+Y) ))\n",
    "A =  np.block( [φ_xy_k ,- np.kron(np.eye(X), np.ones((Y,1))), - np.kron(np.ones((X,1)), np.eye(Y)) ])\n",
    "b =  - φ_x_y_0.flatten()\n",
    "res = linprog(c, A_ub = A, b_ub = b, bounds=(None,None), method='highs')"
   ]
  },
  {
   "cell_type": "code",
   "execution_count": 83,
   "metadata": {},
   "outputs": [
    {
     "data": {
      "text/plain": [
       "array([10.98941262, 10.42288968, 10.52654521, 10.01121293,  9.8012695 ])"
      ]
     },
     "execution_count": 83,
     "metadata": {},
     "output_type": "execute_result"
    }
   ],
   "source": [
    "res.x[:K]"
   ]
  },
  {
   "cell_type": "code",
   "execution_count": 84,
   "metadata": {},
   "outputs": [
    {
     "data": {
      "text/plain": [
       "array([10., 10., 10., 10., 10.])"
      ]
     },
     "execution_count": 84,
     "metadata": {},
     "output_type": "execute_result"
    }
   ],
   "source": [
    "lambda_k"
   ]
  },
  {
   "cell_type": "markdown",
   "metadata": {},
   "source": [
    "# Bundled choice "
   ]
  },
  {
   "cell_type": "markdown",
   "metadata": {},
   "source": [
    "$$ \\begin{align*}\n",
    "    \\min_{\\lambda, u} & \\sum_i u_i  - \\sum_{ik} \\phi_{i\\hat{B}_i,k} \\lambda_k \\\\\n",
    "    s.t. & \\quad u_i \\geq  \\phi_{iB0} + \\sum_k \\phi_{iB,k} \\lambda_k \\quad \\text{for all } iB \\in I \\times 2^Y\n",
    "\\end{align*}$$\n",
    "Since typically $ \\phi_{i\\emptyset k}=0 $ for each $k \\in [0,K]$ (i.e. the outside option is normilized to zero) we have $u_i \\geq 0.$ We also **assume** that $\\lambda \\geq 0 .$"
   ]
  },
  {
   "cell_type": "markdown",
   "metadata": {},
   "source": [
    "Since \n",
    "\n",
    "$$ \\begin{align*}\n",
    "    \\min_{(\\lambda, u)\\geq 0} & \\sum_i u_i  - \\sum_k \\phi_{i\\hat{B}_i,k} \\lambda_k \\\\\n",
    "    s.t. & \\quad u_i - \\phi_{iB0} - \\sum_k \\phi_{iB,k} \\lambda_k - s_{iB} = 0  \\quad \\text{for all } iB \\in \\mathcal{C} \n",
    "\\end{align*}$$\n",
    "\n",
    "In standard form we have the problem\n",
    "$$ \\begin{align*}\n",
    "    \\min_{x \\geq 0} & \\quad c ^\\top x\\\\\n",
    "    s.t. & \\quad  A x = b \n",
    "\\end{align*}$$\n",
    "where\n",
    "*  $b = \\phi^{\\mathcal{C}}_{0},$\n",
    "* $c = ( -\\hat{\\phi}, \\bm{1}_{I}, \\bm{0}_{|\\mathcal{C}|} ) $ with $ \\hat{\\phi}_k = \\phi_{i\\hat{B}_i,k}$ \n",
    "* $A = \\begin{pmatrix} \\Phi^{\\mathcal{C}} & \\delta^{\\mathcal{C}+} & \\bm{I}_{|\\mathcal{C}|} \\end{pmatrix}$ where $\\delta^{\\mathcal{C}+}_{iB, \\ell}  = \\bm{1}_{i = \\ell}$  is the out-incidence matrix of $\\mathcal{C}.$\n",
    "\n",
    "\n",
    "This problem has $K +I+ |\\mathcal{C}| $ variables and $ |\\mathcal{C}|$ equality constraints."
   ]
  },
  {
   "cell_type": "markdown",
   "metadata": {},
   "source": [
    "### Gross-Substitutes"
   ]
  },
  {
   "cell_type": "code",
   "execution_count": 85,
   "metadata": {},
   "outputs": [],
   "source": [
    "K = 3\n",
    "lambda_k = np.array([1,1,1])\n",
    "# lambda_k = np.array([5]*(K-1) + [1])\n",
    "\n",
    "I = 10\n",
    "Y = 3\n",
    "sigma = np.sqrt(1e-0) * 0\n",
    "\n",
    "\n",
    "### generate exogenous data\n",
    "\n",
    "np.random.seed(1)\n",
    "# φ_i_y_0 =  np.random.normal(0,1, size = [I,Y]) \n",
    "φ_i_y_0 =  np.random.normal(1,1, size = [I])[:,None] * np.random.normal(0,1, size = [Y])[None, :]\n",
    "# φ_i_y_k = np.random.normal(1,1, size=[I,Y,K-1])\n",
    "φ_i_y_k = np.ones(I)[:,None,None] * np.random.normal(1,1, size=[Y,K-1])[None,:,:]\n",
    "φ_i_y_k[:,:,0] = np.random.normal(1,1, size=[I])[:,None] * np.ones(Y)[None,:]\n",
    "\n",
    "eps_iy = np.random.normal(0,1, size = [I,Y])\n",
    "\n",
    "\n",
    "def φ_k(i,B):\n",
    "    return np.concatenate( (φ_i_y_k[i,B,:].sum(0), [ - np.sum(B)**(2)]))\n",
    "\n",
    "def Φ_scalar(i,B, lambda_k):\n",
    "    \n",
    "    φ_k = np.concatenate( (φ_i_y_k[i,B,:].sum(0), [ - np.sum(B)**(2)]))\n",
    "\n",
    "    return φ_i_y_0[i,B].sum() + np.dot(φ_k, lambda_k)"
   ]
  },
  {
   "cell_type": "code",
   "execution_count": 86,
   "metadata": {},
   "outputs": [],
   "source": [
    "### greedy\n",
    "def greedy(i,lambda_k, p_y = np.zeros(Y)):\n",
    "\n",
    "    B_k =  np.zeros(Y, dtype=bool)\n",
    "    val = Φ_scalar(i,B_k, lambda_k)\n",
    "    k = 0 \n",
    "\n",
    "    while k < Y:\n",
    "        y_k = None\n",
    "        for y in np.where(1-B_k)[0]:\n",
    "            val_add_y = Φ_scalar(i,B_k+ np.eye(1,Y,y,dtype=bool)[0] , lambda_k)   - p_y[y]\n",
    "            if val_add_y > val:\n",
    "                y_k = y\n",
    "                val = val_add_y\n",
    "\n",
    "        if y_k is None:\n",
    "            break\n",
    "        else:\n",
    "            B_k[y_k] = 1\n",
    "        k += 1\n",
    "    \n",
    "    return B_k , val\n",
    "\n",
    "B_hat_i = np.zeros([I,Y], dtype= bool)\n",
    "\n",
    "φ_i_y_k += sigma * eps_iy[:,:,None]\n",
    "for i in range(I):\n",
    "    B_hat_i[i]= greedy(i, lambda_k)[0]\n",
    "φ_i_y_k -= sigma * eps_iy[:,:,None]"
   ]
  },
  {
   "cell_type": "code",
   "execution_count": 87,
   "metadata": {},
   "outputs": [
    {
     "name": "stdout",
     "output_type": "stream",
     "text": [
      "1.2\n",
      "0.4\n",
      "2\n",
      "1\n"
     ]
    }
   ],
   "source": [
    "print(np.mean(B_hat_i.sum(1)))\n",
    "print(np.std(B_hat_i.sum(1)))\n",
    "print(np.max(np.sum(B_hat_i,1)))\n",
    "print(np.min(np.sum(B_hat_i,1)))"
   ]
  },
  {
   "cell_type": "markdown",
   "metadata": {},
   "source": [
    "Estimation"
   ]
  },
  {
   "cell_type": "markdown",
   "metadata": {},
   "source": [
    "$$ \\begin{align*}\n",
    "    \\min_{x \\geq 0} & \\quad c ^\\top x\\\\\n",
    "    s.t. & \\quad  A x \\geq b \n",
    "\\end{align*}$$\n",
    "* $c = \\begin{pmatrix} -  \\phi_{i\\hat{B}_i 0}  \\\\ \\bm{1}_I \\end{pmatrix}$\n",
    "* $A = \\begin{pmatrix} -\\phi & \\bm{I}_I \\otimes \\bm{1}_{2^Y}  \\end{pmatrix}$ \n",
    "* $ b =  \\phi_0$\n"
   ]
  },
  {
   "cell_type": "code",
   "execution_count": 88,
   "metadata": {},
   "outputs": [],
   "source": [
    "# ### brute force\n",
    "\n",
    "# ### Cost\n",
    "\n",
    "# c = np.ones([K+I])\n",
    "\n",
    "\n",
    "# phi_hat = 0\n",
    "\n",
    "# φ_hat_k = np.zeros([I,K])\n",
    "# for i in range(I):\n",
    "#     φ_hat_k[i] = φ_k(i,B_hat_i[i])\n",
    "\n",
    "# phi_hat =  φ_hat_k.sum(0) \n",
    "\n",
    "# c[:K] =  - phi_hat\n",
    "\n",
    "# ### Constraints\n",
    "# all_bundles = np.array([np.array(seq) for seq in itertools.product([0, 1], repeat= Y)], dtype = bool)\n",
    "\n",
    "# phi = np.zeros([I,2 ** Y , K])\n",
    "# for i in range(I):\n",
    "#     for id , B in enumerate(all_bundles[1:]):\n",
    "#         phi[i, id , :] = φ_k(i, B)\n",
    "\n",
    "\n",
    "# A_all = np.block([- phi.reshape( I * (2**Y ), K) ,  np.kron(np.eye(I), np.ones((2**Y ,1)) ) ])\n",
    "\n",
    "\n",
    "# phi_0 = np.zeros([I,2 ** Y ] )\n",
    "# for i in range(I):\n",
    "#     for id, B in enumerate(all_bundles[1:]):\n",
    "#         phi_0[i, id] = φ_i_y_0[i,B].sum()\n",
    "\n",
    "# b_all = phi_0.reshape([I * (2 ** Y )])\n",
    "\n",
    "# print(\"starting estimation...\")\n",
    "\n",
    "# res = linprog(c, A_ub = - A_all, b_ub =  - b_all, bounds=(None,None), method='highs')\n",
    "# # print(res)\n",
    "# print(res.status)\n",
    "# print(res.x[:K])\n",
    "# print(res.fun)"
   ]
  },
  {
   "cell_type": "markdown",
   "metadata": {},
   "source": [
    "### Column generation:"
   ]
  },
  {
   "cell_type": "markdown",
   "metadata": {},
   "source": [
    "I start with columns $\\mathcal{C} = \\{i \\hat{B}_i\\}_i$"
   ]
  },
  {
   "cell_type": "code",
   "execution_count": 89,
   "metadata": {},
   "outputs": [
    {
     "name": "stdout",
     "output_type": "stream",
     "text": [
      "(10, 13)\n"
     ]
    }
   ],
   "source": [
    "φ_hat_k = np.array([φ_k(i,B_hat_i[i]) for i in range(I)])\n",
    "\n",
    "### Cost\n",
    "c = np.ones([K+I])\n",
    "c[:K] =  - φ_hat_k.sum(0)\n",
    "\n",
    "### Constant\n",
    "b_t = np.array([φ_i_y_0[i,B_hat_i[i]].sum() for i in range(I)])\n",
    "\n",
    "### Matrix\n",
    "A_t =  np.block([- φ_hat_k,np.eye(I)])\n",
    "\n",
    "print(np.shape(A_t))"
   ]
  },
  {
   "cell_type": "markdown",
   "metadata": {},
   "source": [
    "Algorithm:"
   ]
  },
  {
   "cell_type": "code",
   "execution_count": 90,
   "metadata": {},
   "outputs": [
    {
     "name": "stdout",
     "output_type": "stream",
     "text": [
      "[-1.21414566  0.55723908 -0.72512343]\n",
      "[-0.12237793  0.35401964 -0.01520942]\n",
      "[0.15930463 0.30158782 0.16795262]\n",
      "[1.13866083 0.11929244 0.80477185]\n",
      "[1.07026697 0.19676473 0.78279077]\n",
      "solution found! Iterations: 5\n",
      "18.052630532520713\n"
     ]
    }
   ],
   "source": [
    "iters = 30\n",
    "\n",
    "res = linprog(c, A_ub = -A_t, b_ub = -b_t, bounds=(None,None), method='highs')\n",
    "\n",
    "iter = 0\n",
    "for _ in range(iters):\n",
    "    B_star_i = []\n",
    "    val_i = []\n",
    "    for i in range(I):\n",
    "        B_star, val = greedy(i,lambda_k= res.x[:K])\n",
    "        B_star_i.append(B_star)\n",
    "        val_i.append(val - res.x[  K+ i] ) \n",
    "\n",
    "    # print(\"greedy: done\")\n",
    "    # print(np.max(val_i))\n",
    "    if np.max(val_i ) < 1e-12:\n",
    "        print(f\"solution found! Iterations: {iter}\")\n",
    "        print(res.fun)\n",
    "        break\n",
    "    rows_to_add = np.block([ - np.array([φ_k(i,B_star_i[i]) for i in range(I)]),\n",
    "                              np.eye(I) ])\n",
    "    A_t = np.block([[A_t],\n",
    "                    [ rows_to_add] ])\n",
    "    b_t = np.concatenate((b_t, np.array([φ_i_y_0[i,B_star_i[i]].sum() for i in range(I)])))\n",
    "    res = linprog(c, A_ub = - A_t, b_ub = - b_t, bounds=(None,None), method='highs')\n",
    "    # print(\"master problem: done\")\n",
    "    # print(\"##########\")\n",
    "    print(res.x[:K] )\n",
    "    iter += 1\n",
    "# print(res.x[:K] )\n",
    "# print(res.x[:K] / res.x[K-1])"
   ]
  },
  {
   "cell_type": "code",
   "execution_count": 91,
   "metadata": {},
   "outputs": [
    {
     "name": "stdout",
     "output_type": "stream",
     "text": [
      "[1.07027 0.19676 0.78279]\n",
      "[1 1 1]\n",
      "#############\n",
      "[1.37 0.25 1.  ]\n",
      "[1. 1. 1.]\n"
     ]
    }
   ],
   "source": [
    "print((res.x[:K] ).round(5) )\n",
    "print(lambda_k)\n",
    "print(\"#############\")\n",
    "print((res.x[:K] / res.x[K-1]).round(2) )\n",
    "print(lambda_k / lambda_k[K-1])"
   ]
  },
  {
   "cell_type": "markdown",
   "metadata": {},
   "source": [
    "### MLE by simulation"
   ]
  },
  {
   "cell_type": "code",
   "execution_count": 92,
   "metadata": {},
   "outputs": [
    {
     "name": "stdout",
     "output_type": "stream",
     "text": [
      "(23,)\n",
      "(20, 23)\n",
      "(20,)\n"
     ]
    }
   ],
   "source": [
    "S = 2\n",
    "sigma = 0\n",
    "eps_i_s_y = sigma * np.random.normal(0,1, size = [I,S,Y]) \n",
    "eps_is_y = eps_i_s_y.reshape([I * S, Y])\n",
    "φ_is_y_0 = ( φ_i_y_0[:,None,:] * np.ones(S)[None,:,None]).reshape([I * S, Y])\n",
    "\n",
    "\n",
    "### Cost\n",
    "\n",
    "c = np.ones([K + (I * S)]) / S\n",
    " \n",
    "\n",
    "φ_hat_k = np.array( [φ_k(i,B_hat_i[i]) for i in range(I)] )\n",
    "\n",
    "c[:K] =  - φ_hat_k.sum(0)\n",
    "\n",
    "### Constant\n",
    "b_t =  np.array([ φ_is_y_0[i_s, B_hat_i[i_s // I , :]].sum() \n",
    "                        + (eps_is_y[i_s,  B_hat_i[i_s // I,:]]).sum()  \n",
    "                         for i_s in range(I * S)])\n",
    "\n",
    "# columns_i = (np.ones(S)[None,:,None]  *  columns_i[:,None,: ]).reshape([I * S , Y])\n",
    "\n",
    "### Matrix\n",
    "φ_is_B_hat_k = np.kron( φ_hat_k, np.ones((S,1)) )\n",
    "\n",
    "A_t =  np.block([- φ_is_B_hat_k, np.eye(I * S)])\n",
    "\n",
    "print(np.shape(c))\n",
    "print(np.shape(A_t))\n",
    "print(np.shape(b_t))"
   ]
  },
  {
   "cell_type": "code",
   "execution_count": 93,
   "metadata": {},
   "outputs": [
    {
     "data": {
      "text/plain": [
       "array([ 0.        ,  0.        ,  0.        ,  3.83707619,  3.83707619,\n",
       "        0.56765403,  0.56765403,  0.68986383,  0.68986383, -0.106688  ,\n",
       "       -0.106688  ,  2.7274273 ,  2.7274273 , -1.90299006, -1.90299006,\n",
       "        4.01321107,  4.01321107,  0.34914129,  0.34914129,  1.92857753,\n",
       "        1.92857753,  1.09750153,  1.09750153])"
      ]
     },
     "execution_count": 93,
     "metadata": {},
     "output_type": "execute_result"
    }
   ],
   "source": [
    "res = linprog(c, A_ub = - A_t, b_ub = - b_t, bounds=(None,None), method='highs')\n",
    "res.x"
   ]
  },
  {
   "cell_type": "code",
   "execution_count": 94,
   "metadata": {},
   "outputs": [
    {
     "name": "stdout",
     "output_type": "stream",
     "text": [
      "5.7400662448390385\n",
      "[-0. -0. -0.]\n"
     ]
    }
   ],
   "source": [
    "iters = 1\n",
    "\n",
    "res = linprog(c, A_ub = - A_t, b_ub = - b_t, bounds=(None,None), method='highs')\n",
    "\n",
    "iter = 0\n",
    "for _ in range(iters):\n",
    "    B_star_is = []\n",
    "    val_is = []\n",
    "    for i_s in range(I * S):\n",
    "        B_star, val = greedy(i_s % I, lambda_k= res.x[:K], p_y = - eps_is_y[i_s])\n",
    "        B_star_is.append(B_star)\n",
    "        val_is.append(val - res.x[K + i_s] ) \n",
    "\n",
    "    # print(\"greedy: done\")\n",
    "    print(np.max(val_is))\n",
    "    if np.max( val_is ) < 1e-12:\n",
    "        print(f\"solution found! Iterations: {iter}\")\n",
    "        print(res.fun)\n",
    "        break\n",
    "\n",
    "    rows_to_add = np.block([ -  np.array([φ_k(i_s // I ,B_star_is[i_s]) for i_s in range(I * S)]) ,\n",
    "                              np.eye(I * S) ])\n",
    "    A_t = np.block([[A_t],\n",
    "                    [rows_to_add] ])\n",
    "\n",
    "    b_t = np.concatenate((b_t, np.array([ (φ_is_y_0[i_s, B_star_is[i_s]] \n",
    "                                           + eps_is_y[i_s, B_star_is[i_s]]).sum(0) \n",
    "                                           for i_s in range(I * S)])) )\n",
    "\n",
    "    res = linprog(c, A_ub = - A_t, b_ub = - b_t, bounds=(None,None), method='highs')\n",
    "    # print(\"master problem: done\")\n",
    "    # print(\"##########\")\n",
    "    # print(res.x[:K] )\n",
    "    iter += 1\n",
    "print(res.x[:K] )\n",
    "# print(res.x[:K] / res.x[K-1] )"
   ]
  },
  {
   "cell_type": "code",
   "execution_count": 95,
   "metadata": {},
   "outputs": [
    {
     "data": {
      "text/plain": [
       "(40, 23)"
      ]
     },
     "execution_count": 95,
     "metadata": {},
     "output_type": "execute_result"
    }
   ],
   "source": [
    "np.shape(A_t)"
   ]
  },
  {
   "cell_type": "code",
   "execution_count": null,
   "metadata": {},
   "outputs": [],
   "source": []
  },
  {
   "cell_type": "code",
   "execution_count": null,
   "metadata": {},
   "outputs": [],
   "source": []
  },
  {
   "cell_type": "code",
   "execution_count": null,
   "metadata": {},
   "outputs": [],
   "source": []
  },
  {
   "cell_type": "code",
   "execution_count": null,
   "metadata": {},
   "outputs": [],
   "source": []
  },
  {
   "cell_type": "code",
   "execution_count": null,
   "metadata": {},
   "outputs": [],
   "source": []
  },
  {
   "cell_type": "code",
   "execution_count": null,
   "metadata": {},
   "outputs": [],
   "source": []
  },
  {
   "cell_type": "code",
   "execution_count": null,
   "metadata": {},
   "outputs": [],
   "source": []
  },
  {
   "cell_type": "markdown",
   "metadata": {},
   "source": [
    "# One-to-many Matching"
   ]
  },
  {
   "cell_type": "code",
   "execution_count": 96,
   "metadata": {},
   "outputs": [],
   "source": [
    "# K = 5\n",
    "# # lambda_k = np.array([-1,2,1,-1,2,3,0])\n",
    "# lambda_k = np.ones(K)\n",
    "\n",
    "# X = 100\n",
    "# Y = 100\n",
    "\n",
    "# n_x = np.ones(X)\n",
    "# m_y = np.ones(Y)\n",
    "\n",
    "# np.random.seed(0)\n",
    "# # φ_x_y_0 =  np.random.normal(0,1, size=[X,Y])\n",
    "# φ_x_y_0 =  np.random.normal(0,1, size = [X,1]) * np.random.normal(0,1, size = [1,Y])\n",
    "# φ_x_y_k = np.random.normal(0,1, size=[X,Y,K])\n",
    "# print((φ_x_y_k.sum(2).std())**2)\n",
    "\n",
    "\n",
    "# sigma = np.sqrt(1 * 1e-1)\n",
    "# eps_x_y = np.random.normal(0,1, size=[X,Y])"
   ]
  },
  {
   "cell_type": "code",
   "execution_count": null,
   "metadata": {},
   "outputs": [],
   "source": []
  },
  {
   "cell_type": "code",
   "execution_count": null,
   "metadata": {},
   "outputs": [],
   "source": []
  },
  {
   "cell_type": "code",
   "execution_count": null,
   "metadata": {},
   "outputs": [],
   "source": []
  }
 ],
 "metadata": {
  "kernelspec": {
   "display_name": "Python 3",
   "language": "python",
   "name": "python3"
  },
  "language_info": {
   "codemirror_mode": {
    "name": "ipython",
    "version": 3
   },
   "file_extension": ".py",
   "mimetype": "text/x-python",
   "name": "python",
   "nbconvert_exporter": "python",
   "pygments_lexer": "ipython3",
   "version": "3.12.0"
  }
 },
 "nbformat": 4,
 "nbformat_minor": 2
}
