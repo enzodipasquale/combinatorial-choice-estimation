{
 "cells": [
  {
   "cell_type": "code",
   "execution_count": 84,
   "metadata": {},
   "outputs": [],
   "source": [
    "import numpy as np \n",
    "import pandas as pd \n",
    "import matplotlib.pyplot as plt"
   ]
  },
  {
   "cell_type": "code",
   "execution_count": 85,
   "metadata": {},
   "outputs": [],
   "source": [
    "### Load the data\n",
    "\n",
    "bidder_data = pd.read_csv('datasets/bidder_data.csv')\n",
    "\n",
    "bta_data = pd.read_csv('datasets/bta_data.csv')\n",
    "\n",
    "bta_adjacency = pd.read_csv('datasets/btamatrix_merged.csv',  header=None)\n",
    "bta_adjacency = bta_adjacency.drop(bta_adjacency.columns[0], axis=1)\n",
    "bta_adjacency_j_j = bta_adjacency.values\n",
    "\n",
    "geo_distance = pd.read_csv('datasets/distancesmat_dio_perl_fixed.dat', delimiter=' ', header=None)\n",
    "geo_distance = geo_distance.drop(geo_distance.columns[-1], axis=1)\n",
    "geo_distance_j_j = geo_distance.values\n",
    "\n",
    "travel_survey = pd.read_csv('datasets/american-travel-survey-1995-zero.csv')\n",
    "travel_survey_j_j_0 = travel_survey.values\n",
    "travel_survey_j_j = np.zeros_like(geo_distance_j_j)\n",
    "travel_survey_j_j[1:,:] = travel_survey_j_j_0\n",
    "travel_survey_j_j[0,1:] = travel_survey_j_j_0[:,0]\n",
    "\n",
    "air_travel = pd.read_csv('datasets/air-travel-passengers-bta-year-1994.csv')\n",
    "air_travel_j_j_0 = air_travel.values\n",
    "air_travel_j_j = np.zeros_like(geo_distance_j_j)\n",
    "air_travel_j_j[1:,:] = air_travel_j_j_0\n",
    "air_travel_j_j[0,1:] = air_travel_j_j_0[:,0]"
   ]
  },
  {
   "cell_type": "code",
   "execution_count": 86,
   "metadata": {},
   "outputs": [],
   "source": [
    "\n",
    "# # Flatten the matrix and get the indices of the top 10 largest values\n",
    "# flat_indices = np.argsort(air_travel_j_j.ravel())[-10:][::-1]\n",
    "\n",
    "# # Convert flat indices back to row and column indices\n",
    "# rows, cols = np.unravel_index(flat_indices, air_travel_j_j.shape)\n",
    "\n",
    "# # Get the corresponding values\n",
    "# top_10_values = air_travel_j_j[rows, cols]\n",
    "\n",
    "# # Combine row, column indices and their values\n",
    "# top_10_entries = list(zip(rows, cols, top_10_values))\n",
    "\n",
    "# # Display the top 10 entries\n",
    "# top_10_entries"
   ]
  },
  {
   "cell_type": "code",
   "execution_count": 87,
   "metadata": {},
   "outputs": [],
   "source": [
    "# # Flatten the matrix and get the indices of the top 10 largest values\n",
    "# flat_indices = np.argsort(travel_survey_j_j.ravel())[-10:][::-1]\n",
    "\n",
    "# # Convert flat indices back to row and column indices\n",
    "# rows, cols = np.unravel_index(flat_indices, travel_survey_j_j.shape)\n",
    "\n",
    "# # Get the corresponding values\n",
    "# top_10_values = travel_survey_j_j[rows, cols]\n",
    "\n",
    "# # Combine row, column indices and their values\n",
    "# top_10_entries = list(zip(rows, cols, top_10_values))\n",
    "\n",
    "# # Display the top 10 entries\n",
    "# top_10_entries"
   ]
  },
  {
   "cell_type": "markdown",
   "metadata": {},
   "source": [
    "ALBQ: 7, Albany: 5,6, NY: 320, LA: 261, SD: 401, SF: 403, Miami: 292, Chicago: 77"
   ]
  },
  {
   "cell_type": "code",
   "execution_count": 88,
   "metadata": {},
   "outputs": [],
   "source": [
    "### Weights and Capacities\n",
    "\n",
    "# Reduce encoding lenght of weights and capacities\n",
    "def round_weights(tick):\n",
    "\n",
    "        capacity_i = bidder_data['pops_eligible'].to_numpy()\n",
    "        weight_j = bta_data['pop90'].to_numpy()\n",
    "\n",
    "        weight_j_rounded = (np.round((weight_j / tick) )).astype(int)\n",
    "        capacity_i_rounded = (np.round((capacity_i / tick)) ).astype(int)\n",
    "\n",
    "        return weight_j_rounded, capacity_i_rounded\n",
    "\n",
    "weight_j, capacity_i = round_weights(1000)\n",
    "\n",
    "### Matching matrix\n",
    "def generate_matching_matrix():\n",
    "    num_agents = len(capacity_i)\n",
    "    num_objects = len(weight_j)\n",
    "    matching_i_j = np.zeros((num_agents, num_objects), dtype=bool)\n",
    "\n",
    "    for j in range(num_objects):\n",
    "        winner_id = bta_data['bidder_num_fox'].values[j] - 1\n",
    "        matching_i_j[winner_id, j] = True\n",
    "        \n",
    "    return matching_i_j\n",
    "\n",
    "matching_i_j = generate_matching_matrix()"
   ]
  },
  {
   "cell_type": "code",
   "execution_count": 89,
   "metadata": {},
   "outputs": [
    {
     "name": "stdout",
     "output_type": "stream",
     "text": [
      "0.9999999999999999\n",
      "mean  0.003804038349459109\n",
      "std  0.019735584204681727\n",
      "max  0.17758247506449798\n"
     ]
    }
   ],
   "source": [
    "delta = 2\n",
    "E_j_j =  (weight_j[:, None] * weight_j[None,:]).astype(float)\n",
    "np.fill_diagonal(E_j_j,0)\n",
    "E_j_j[geo_distance_j_j> 0] /= (geo_distance_j_j[geo_distance_j_j> 0])**delta\n",
    "pop_centroid_j_j = (weight_j[:, None] / weight_j.sum()) * (E_j_j / E_j_j.sum(1)[:,None])\n",
    "\n",
    "print(pop_centroid_j_j.sum())\n",
    "\n",
    "winning = np.unique(np.where(matching_i_j)[0])\n",
    "pop_centroid_hat_i = (pop_centroid_j_j[None,:,:] * matching_i_j[:, :, None] * matching_i_j[:, None, :]).sum((1,2))\n",
    "print('mean ', pop_centroid_hat_i[winning].mean())\n",
    "print('std ', pop_centroid_hat_i[winning].std())\n",
    "print('max ', pop_centroid_hat_i[winning].max())"
   ]
  },
  {
   "cell_type": "code",
   "execution_count": 90,
   "metadata": {},
   "outputs": [
    {
     "name": "stdout",
     "output_type": "stream",
     "text": [
      "percentile: 0.0\n",
      "0.9999999999999999\n",
      "mean  0.003804038349459109\n",
      "std  0.019735584204681727\n",
      "max  0.17758247506449798\n",
      "density: 0.9979716024340771\n"
     ]
    }
   ],
   "source": [
    "percentile = np.percentile(pop_centroid_j_j, 0)\n",
    "print('percentile:', percentile)\n",
    "truncated_pop_centroid_j_j= np.where(pop_centroid_j_j > percentile, pop_centroid_j_j, 0)\n",
    "print(truncated_pop_centroid_j_j.sum())\n",
    "winning = np.unique(np.where(matching_i_j)[0])\n",
    "truncated_pop_centroid_hat_i = (truncated_pop_centroid_j_j[None,:,:] * matching_i_j[:, :, None] * matching_i_j[:, None, :]).sum((1,2))\n",
    "print('mean ',truncated_pop_centroid_hat_i[winning].mean())\n",
    "print('std ',truncated_pop_centroid_hat_i[winning].std())\n",
    "print('max ',truncated_pop_centroid_hat_i[winning].max())\n",
    "print('density:', np.count_nonzero(truncated_pop_centroid_j_j) / truncated_pop_centroid_j_j.size)"
   ]
  },
  {
   "cell_type": "markdown",
   "metadata": {},
   "source": [
    "### Build characteristics matrices"
   ]
  },
  {
   "cell_type": "code",
   "execution_count": 91,
   "metadata": {},
   "outputs": [
    {
     "name": "stdout",
     "output_type": "stream",
     "text": [
      "Density of quadratic term:  0.9979716024340771\n",
      "Sum of quadratic term:  [1. 1. 1.]\n",
      "phi_hat:  [0.34392993 0.33475537 0.25142282 0.19437477]\n",
      "std:      [0.01636621 0.01173388 0.01078501 0.00934324]\n"
     ]
    }
   ],
   "source": [
    "### Modular Characteristics\n",
    "modular_list = []\n",
    "\n",
    "# eligibility_i * pop_j  \n",
    "modular_list.append((capacity_i[:, None]/ weight_j.sum() )* (weight_j[None, :]/ weight_j.sum()))\n",
    "\n",
    "# 2. geo_distance_i_j\n",
    "bidder_bta = bidder_data['bta'].to_numpy() - 1\n",
    "# modular_list.append( - geo_distance_j_j[bidder_bta] /geo_distance_j_j[bidder_bta].sum(1)[:,None])\n",
    "\n",
    "# 3. Rural status_i * density_j\n",
    "# rural_i = bidder_data['Applicant_Status'].str.contains('Rural Telephone Company', na=False).to_numpy()\n",
    "# density_j = bta_data['density'].to_numpy()\n",
    "# modular_list.append(rural_i[:, None] * density_j[None, :])\n",
    "\n",
    "# Stack \n",
    "modular_characteristics_i_j_k = np.stack(modular_list, axis=2)\n",
    "\n",
    "### Quadratic Characteristics\n",
    "\n",
    "quadratic_list = []\n",
    "\n",
    "# bta_adjacency_j_j\n",
    "# quadratic_list.append(bta_adjacency_j_j / bta_adjacency_j_j.sum())\n",
    "\n",
    "# pop_centroid_j_j\n",
    "quadratic_list.append(truncated_pop_centroid_j_j)\n",
    "\n",
    "# travel_survey_j_j\n",
    "quadratic_travel_j_j = travel_survey_j_j.copy() + 1e-15\n",
    "np.fill_diagonal(quadratic_travel_j_j, 0)\n",
    "outflow_j = quadratic_travel_j_j.sum(1)\n",
    "quadratic_travel_j_j[outflow_j > 0] /= outflow_j[outflow_j > 0][:, None]\n",
    "quadratic_travel_j_j *= weight_j[:, None] / weight_j[outflow_j > 0].sum()\n",
    "\n",
    "quadratic_list.append(quadratic_travel_j_j)\n",
    "\n",
    "# air_travel_j_j\n",
    "quadratic_air_j_j = air_travel_j_j.copy() + 1e-15\n",
    "np.fill_diagonal(quadratic_air_j_j, 0)\n",
    "outflow_j = quadratic_air_j_j.sum(1)\n",
    "quadratic_air_j_j[outflow_j > 0] /= outflow_j[outflow_j > 0][:, None]\n",
    "quadratic_air_j_j *= weight_j[:, None] / weight_j[outflow_j > 0].sum()\n",
    "\n",
    "quadratic_list.append(quadratic_air_j_j)\n",
    "\n",
    "# Stack\n",
    "quadratic_characteristic_j_j_k = np.stack(quadratic_list, axis=2)\n",
    "\n",
    "print('Density of quadratic term: ',(quadratic_characteristic_j_j_k.sum(2) > 0).sum() / quadratic_characteristic_j_j_k.sum(2).size)\n",
    "print('Sum of quadratic term: ',quadratic_characteristic_j_j_k.sum((0,1)))\n",
    "\n",
    "# Compute characteristics at observed matching\n",
    "phi_hat_i_k = np.concatenate(((modular_characteristics_i_j_k * matching_i_j[:, :, None]).sum(1),\n",
    "                np.einsum('jlk,ij,il->ik', quadratic_characteristic_j_j_k, matching_i_j, matching_i_j)), \n",
    "                axis = 1)\n",
    "phi_hat = phi_hat_i_k.sum(0)\n",
    "\n",
    "print('phi_hat: ', phi_hat)\n",
    "print('std:     ', phi_hat_i_k.std(0))"
   ]
  },
  {
   "cell_type": "code",
   "execution_count": 92,
   "metadata": {},
   "outputs": [
    {
     "name": "stdout",
     "output_type": "stream",
     "text": [
      "Statistics at winning bids\n"
     ]
    },
    {
     "data": {
      "application/vnd.microsoft.datawrangler.viewer.v0+json": {
       "columns": [
        {
         "name": "index",
         "rawType": "object",
         "type": "string"
        },
        {
         "name": "Mean",
         "rawType": "float64",
         "type": "float"
        },
        {
         "name": "Std",
         "rawType": "float64",
         "type": "float"
        },
        {
         "name": "Max",
         "rawType": "float64",
         "type": "float"
        }
       ],
       "conversionMethod": "pd.DataFrame",
       "ref": "1226d1a1-4c52-4f42-818e-4a6f5323feec",
       "rows": [
        [
         "eligibility_i * pop_j",
         "0.0039",
         "0.0277",
         "0.2589"
        ],
        [
         "pop_centroid_j_j",
         "0.0038",
         "0.0197",
         "0.1776"
        ],
        [
         "travel_survey_j_j",
         "0.0029",
         "0.0182",
         "0.1686"
        ],
        [
         "air_travel_j_j",
         "0.0022",
         "0.0158",
         "0.1462"
        ]
       ],
       "shape": {
        "columns": 3,
        "rows": 4
       }
      },
      "text/html": [
       "<div>\n",
       "<style scoped>\n",
       "    .dataframe tbody tr th:only-of-type {\n",
       "        vertical-align: middle;\n",
       "    }\n",
       "\n",
       "    .dataframe tbody tr th {\n",
       "        vertical-align: top;\n",
       "    }\n",
       "\n",
       "    .dataframe thead th {\n",
       "        text-align: right;\n",
       "    }\n",
       "</style>\n",
       "<table border=\"1\" class=\"dataframe\">\n",
       "  <thead>\n",
       "    <tr style=\"text-align: right;\">\n",
       "      <th></th>\n",
       "      <th>Mean</th>\n",
       "      <th>Std</th>\n",
       "      <th>Max</th>\n",
       "    </tr>\n",
       "  </thead>\n",
       "  <tbody>\n",
       "    <tr>\n",
       "      <th>eligibility_i * pop_j</th>\n",
       "      <td>0.0039</td>\n",
       "      <td>0.0277</td>\n",
       "      <td>0.2589</td>\n",
       "    </tr>\n",
       "    <tr>\n",
       "      <th>pop_centroid_j_j</th>\n",
       "      <td>0.0038</td>\n",
       "      <td>0.0197</td>\n",
       "      <td>0.1776</td>\n",
       "    </tr>\n",
       "    <tr>\n",
       "      <th>travel_survey_j_j</th>\n",
       "      <td>0.0029</td>\n",
       "      <td>0.0182</td>\n",
       "      <td>0.1686</td>\n",
       "    </tr>\n",
       "    <tr>\n",
       "      <th>air_travel_j_j</th>\n",
       "      <td>0.0022</td>\n",
       "      <td>0.0158</td>\n",
       "      <td>0.1462</td>\n",
       "    </tr>\n",
       "  </tbody>\n",
       "</table>\n",
       "</div>"
      ],
      "text/plain": [
       "                         Mean     Std     Max\n",
       "eligibility_i * pop_j  0.0039  0.0277  0.2589\n",
       "pop_centroid_j_j       0.0038  0.0197  0.1776\n",
       "travel_survey_j_j      0.0029  0.0182  0.1686\n",
       "air_travel_j_j         0.0022  0.0158  0.1462"
      ]
     },
     "execution_count": 92,
     "metadata": {},
     "output_type": "execute_result"
    }
   ],
   "source": [
    "winning = np.unique(np.where(matching_i_j)[0])\n",
    "pop_hat = (matching_i_j * weight_j[None, :] ).sum(1)/ weight_j.sum()\n",
    "# columns = ['eligibility_i * pop_j', 'geo_distance_i_j', 'bta_adjacency_j_j', 'pop_centroid_j_j', 'travel_survey_j_j', 'air_travel_j_j']\n",
    "columns = ['eligibility_i * pop_j',  'pop_centroid_j_j', 'travel_survey_j_j', 'air_travel_j_j']\n",
    "\n",
    "means = phi_hat_i_k[winning,:].mean(0)\n",
    "stds = phi_hat_i_k[winning,:].std(0)\n",
    "maxs = phi_hat_i_k[winning,:].max(0)\n",
    "\n",
    "print('Statistics at winning bids')\n",
    "data = np.array([means, stds, maxs]).T\n",
    "df = pd.DataFrame(data, columns=['Mean', 'Std', 'Max'], index=columns)\n",
    "df.round(4)"
   ]
  },
  {
   "cell_type": "markdown",
   "metadata": {},
   "source": [
    "### Errors"
   ]
  },
  {
   "cell_type": "code",
   "execution_count": 93,
   "metadata": {},
   "outputs": [],
   "source": [
    "num_simulations = 200\n",
    "num_agents = len(capacity_i)\n",
    "num_objects = len(weight_j)\n",
    "\n",
    "np.random.seed(42)\n",
    "epsilon_si_j = np.random.normal(0, 1, (num_simulations * num_agents, num_objects ))"
   ]
  },
  {
   "cell_type": "markdown",
   "metadata": {},
   "source": [
    "# Save"
   ]
  },
  {
   "cell_type": "code",
   "execution_count": 94,
   "metadata": {},
   "outputs": [
    {
     "name": "stdout",
     "output_type": "stream",
     "text": [
      "(493, 493, 3)\n",
      "(255, 493, 1)\n"
     ]
    }
   ],
   "source": [
    "def save_instance_data(destination_path):\n",
    "    np.save(destination_path + 'matching_i_j.npy', matching_i_j)\n",
    "    np.save(destination_path + 'weight_j.npy', weight_j)\n",
    "    np.save(destination_path + 'capacity_i.npy', capacity_i)\n",
    "\n",
    "    np.save(destination_path + 'quadratic_characteristic_j_j_k.npy', quadratic_characteristic_j_j_k)\n",
    "    np.save(destination_path + 'modular_characteristics_i_j_k.npy', modular_characteristics_i_j_k)\n",
    "    np.save(destination_path + 'epsilon_si_j.npy', epsilon_si_j)\n",
    "\n",
    "\n",
    "destination_path = 'GMM_quad_delta_2'\n",
    "\n",
    "save_instance_data(destination_path+'/data/')\n",
    "print(np.load(destination_path + '/data/quadratic_characteristic_j_j_k.npy').shape)\n",
    "print(np.load(destination_path + '/data/modular_characteristics_i_j_k.npy').shape)"
   ]
  },
  {
   "cell_type": "markdown",
   "metadata": {},
   "source": [
    "# Pricing"
   ]
  },
  {
   "cell_type": "code",
   "execution_count": 95,
   "metadata": {},
   "outputs": [
    {
     "data": {
      "text/plain": [
       "np.int64(176056)"
      ]
     },
     "execution_count": 95,
     "metadata": {},
     "output_type": "execute_result"
    }
   ],
   "source": [
    "capacity_i[76]"
   ]
  },
  {
   "cell_type": "code",
   "execution_count": 96,
   "metadata": {},
   "outputs": [
    {
     "name": "stdout",
     "output_type": "stream",
     "text": [
      "(493, 493, 3)\n",
      "(255, 493, 1)\n"
     ]
    }
   ],
   "source": [
    "print(quadratic_characteristic_j_j_k.shape)\n",
    "print(modular_characteristics_i_j_k.shape)\n"
   ]
  },
  {
   "cell_type": "code",
   "execution_count": 97,
   "metadata": {},
   "outputs": [],
   "source": [
    "from pricing_notebook import pricing\n",
    "\n",
    "id = 76\n",
    "\n",
    "lambda_k = np.array([1,1,1,1])\n",
    "\n",
    "p_j = np.random.randint(0, 10, num_objects).astype(float)\n",
    "\n",
    "solution = np.concatenate((p_j, np.zeros( num_agents),lambda_k))\n",
    "\n",
    "\n"
   ]
  },
  {
   "cell_type": "code",
   "execution_count": 98,
   "metadata": {},
   "outputs": [
    {
     "data": {
      "text/plain": [
       "array([3.96660115, 0.43232669, 0.40297487, 0.40671763, 0.37214175,\n",
       "       0.        , 0.        , 0.        , 0.        , 0.        ,\n",
       "       0.        , 0.        , 0.        , 0.        , 0.        ,\n",
       "       0.        , 0.        , 0.        , 0.        , 0.        ,\n",
       "       0.        , 0.        , 0.        , 0.        , 0.        ,\n",
       "       0.        , 0.        , 0.        , 0.        , 1.        ,\n",
       "       0.        , 0.        , 0.        , 0.        , 0.        ,\n",
       "       0.        , 0.        , 0.        , 0.        , 0.        ,\n",
       "       0.        , 0.        , 0.        , 0.        , 0.        ,\n",
       "       1.        , 0.        , 1.        , 0.        , 0.        ,\n",
       "       0.        , 0.        , 0.        , 0.        , 0.        ,\n",
       "       0.        , 0.        , 0.        , 0.        , 0.        ,\n",
       "       0.        , 0.        , 0.        , 0.        , 0.        ,\n",
       "       0.        , 0.        , 0.        , 0.        , 0.        ,\n",
       "       0.        , 1.        , 0.        , 0.        , 0.        ,\n",
       "       0.        , 0.        , 0.        , 0.        , 0.        ,\n",
       "       0.        , 0.        , 0.        , 0.        , 0.        ,\n",
       "       0.        , 0.        , 0.        , 0.        , 1.        ,\n",
       "       0.        , 0.        , 0.        , 0.        , 0.        ,\n",
       "       0.        , 0.        , 1.        , 0.        , 1.        ,\n",
       "       0.        , 0.        , 0.        , 1.        , 0.        ,\n",
       "       0.        , 0.        , 0.        , 0.        , 1.        ,\n",
       "       0.        , 1.        , 0.        , 0.        , 0.        ,\n",
       "       0.        , 0.        , 0.        , 0.        , 0.        ,\n",
       "       0.        , 1.        , 0.        , 0.        , 0.        ,\n",
       "       0.        , 0.        , 1.        , 0.        , 0.        ,\n",
       "       1.        , 0.        , 0.        , 0.        , 0.        ,\n",
       "       0.        , 0.        , 0.        , 0.        , 1.        ,\n",
       "       0.        , 0.        , 0.        , 0.        , 0.        ,\n",
       "       0.        , 0.        , 0.        , 0.        , 0.        ,\n",
       "       0.        , 0.        , 0.        , 0.        , 0.        ,\n",
       "       0.        , 0.        , 0.        , 0.        , 0.        ,\n",
       "       0.        , 0.        , 0.        , 0.        , 0.        ,\n",
       "       1.        , 1.        , 0.        , 0.        , 0.        ,\n",
       "       0.        , 0.        , 0.        , 0.        , 0.        ,\n",
       "       0.        , 0.        , 0.        , 0.        , 0.        ,\n",
       "       0.        , 0.        , 0.        , 0.        , 0.        ,\n",
       "       0.        , 0.        , 0.        , 0.        , 0.        ,\n",
       "       1.        , 0.        , 0.        , 0.        , 0.        ,\n",
       "       0.        , 0.        , 0.        , 0.        , 1.        ,\n",
       "       0.        , 0.        , 0.        , 0.        , 0.        ,\n",
       "       0.        , 0.        , 1.        , 0.        , 0.        ,\n",
       "       0.        , 0.        , 0.        , 0.        , 0.        ,\n",
       "       0.        , 0.        , 0.        , 0.        , 0.        ,\n",
       "       1.        , 0.        , 0.        , 0.        , 1.        ,\n",
       "       0.        , 0.        , 0.        , 0.        , 0.        ,\n",
       "       0.        , 0.        , 1.        , 0.        , 0.        ,\n",
       "       0.        , 0.        , 0.        , 0.        , 1.        ,\n",
       "       1.        , 1.        , 1.        , 1.        , 1.        ,\n",
       "       1.        , 1.        , 1.        , 1.        , 1.        ,\n",
       "       1.        , 1.        , 1.        , 1.        , 1.        ,\n",
       "       1.        , 1.        , 1.        , 1.        , 1.        ,\n",
       "       1.        , 1.        , 1.        , 1.        , 1.        ,\n",
       "       1.        , 1.        , 1.        , 1.        , 1.        ,\n",
       "       1.        , 1.        , 1.        , 1.        , 1.        ,\n",
       "       1.        , 1.        , 1.        , 1.        , 1.        ,\n",
       "       1.        , 1.        , 1.        , 1.        , 1.        ,\n",
       "       1.        , 1.        , 1.        , 1.        , 1.        ,\n",
       "       1.        , 1.        , 1.        , 1.        , 1.        ,\n",
       "       1.        , 1.        , 1.        , 1.        , 1.        ,\n",
       "       1.        , 1.        , 1.        , 1.        , 1.        ,\n",
       "       1.        , 1.        , 1.        , 1.        , 1.        ,\n",
       "       1.        , 1.        , 1.        , 1.        , 1.        ,\n",
       "       1.        , 1.        , 1.        , 1.        , 1.        ,\n",
       "       1.        , 1.        , 1.        , 1.        , 1.        ,\n",
       "       1.        , 1.        , 1.        , 1.        , 1.        ,\n",
       "       1.        , 1.        , 1.        , 1.        , 1.        ,\n",
       "       1.        , 1.        , 1.        , 1.        , 1.        ,\n",
       "       1.        , 1.        , 1.        , 1.        , 1.        ,\n",
       "       1.        , 1.        , 1.        , 1.        , 1.        ,\n",
       "       1.        , 1.        , 1.        , 1.        , 1.        ,\n",
       "       1.        , 1.        , 1.        , 1.        , 1.        ,\n",
       "       1.        , 1.        , 1.        , 1.        , 1.        ,\n",
       "       1.        , 1.        , 1.        , 1.        , 1.        ,\n",
       "       1.        , 1.        , 1.        , 1.        , 1.        ,\n",
       "       1.        , 1.        , 1.        , 1.        , 1.        ,\n",
       "       1.        , 1.        , 1.        , 1.        , 1.        ,\n",
       "       1.        , 1.        , 1.        , 1.        , 1.        ,\n",
       "       1.        , 1.        , 1.        , 1.        , 1.        ,\n",
       "       1.        , 1.        , 1.        , 1.        , 1.        ,\n",
       "       1.        , 1.        , 1.        , 1.        , 1.        ,\n",
       "       1.        , 1.        , 1.        , 1.        , 1.        ,\n",
       "       1.        , 1.        , 1.        , 1.        , 1.        ,\n",
       "       1.        , 1.        , 1.        , 1.        , 1.        ,\n",
       "       1.        , 1.        , 1.        , 1.        , 1.        ,\n",
       "       1.        , 1.        , 1.        , 1.        , 1.        ,\n",
       "       1.        , 1.        , 1.        , 1.        , 1.        ,\n",
       "       1.        , 1.        , 1.        , 1.        , 1.        ,\n",
       "       1.        , 1.        , 1.        , 1.        , 1.        ,\n",
       "       1.        , 1.        , 1.        , 1.        , 1.        ,\n",
       "       1.        , 1.        , 1.        , 1.        , 1.        ,\n",
       "       1.        , 1.        , 1.        , 1.        , 1.        ,\n",
       "       1.        , 1.        , 1.        , 1.        , 1.        ,\n",
       "       1.        , 1.        , 1.        , 1.        , 1.        ,\n",
       "       1.        , 1.        , 1.        , 1.        , 1.        ,\n",
       "       1.        , 1.        , 1.        , 1.        , 1.        ,\n",
       "       1.        , 1.        , 1.        , 1.        , 1.        ,\n",
       "       1.        , 1.        , 1.        , 1.        , 1.        ,\n",
       "       1.        , 1.        , 1.        , 1.        , 0.        ,\n",
       "       0.        , 0.        , 0.        ])"
      ]
     },
     "execution_count": 98,
     "metadata": {},
     "output_type": "execute_result"
    }
   ],
   "source": [
    "pricing(modular_characteristics_i_j_k[id], quadratic_characteristic_j_j_k, weight_j,capacity_i[id],solution)\n"
   ]
  },
  {
   "cell_type": "code",
   "execution_count": null,
   "metadata": {},
   "outputs": [],
   "source": []
  }
 ],
 "metadata": {
  "kernelspec": {
   "display_name": "Python 3 (ipykernel)",
   "language": "python",
   "name": "python3"
  },
  "language_info": {
   "codemirror_mode": {
    "name": "ipython",
    "version": 3
   },
   "file_extension": ".py",
   "mimetype": "text/x-python",
   "name": "python",
   "nbconvert_exporter": "python",
   "pygments_lexer": "ipython3",
   "version": "3.12.8"
  }
 },
 "nbformat": 4,
 "nbformat_minor": 2
}
