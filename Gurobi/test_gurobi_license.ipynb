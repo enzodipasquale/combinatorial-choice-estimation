{
 "cells": [
  {
   "cell_type": "code",
   "execution_count": 2,
   "metadata": {},
   "outputs": [],
   "source": [
    "import gurobipy as gp\n",
    "from gurobipy import GRB\n",
    "import numpy as np"
   ]
  },
  {
   "cell_type": "code",
   "execution_count": 3,
   "metadata": {},
   "outputs": [],
   "source": [
    "options = {\n",
    " \"WLSACCESSID\":\"a4353fb7-f95b-4075-b288-ca3f60983b36\",\n",
    "\"WLSSECRET\":\"d894d460-2dac-4210-8c40-c91c68ecfb13\",\n",
    "\"LICENSEID\":2562382\n",
    "}"
   ]
  },
  {
   "cell_type": "code",
   "execution_count": 72,
   "metadata": {},
   "outputs": [
    {
     "name": "stdout",
     "output_type": "stream",
     "text": [
      "Set parameter WLSAccessID\n",
      "Set parameter WLSSecret\n",
      "Set parameter LicenseID to value 2562382\n",
      "Academic license 2562382 - for non-commercial use only - registered to ed___@nyu.edu\n",
      "Gurobi Optimizer version 11.0.0 build v11.0.0rc2 (mac64[arm] - Darwin 24.0.0 24A335)\n",
      "\n",
      "CPU model: Apple M2\n",
      "Thread count: 8 physical cores, 8 logical processors, using up to 8 threads\n",
      "\n",
      "Academic license 2562382 - for non-commercial use only - registered to ed___@nyu.edu\n",
      "Optimize a model with 400 rows, 40000 columns and 80000 nonzeros\n",
      "Model fingerprint: 0xb7aa134b\n",
      "Coefficient statistics:\n",
      "  Matrix range     [1e+00, 1e+00]\n",
      "  Objective range  [1e+00, 9e+00]\n",
      "  Bounds range     [0e+00, 0e+00]\n",
      "  RHS range        [1e+00, 1e+00]\n",
      "Presolve time: 0.01s\n",
      "Presolved: 400 rows, 40000 columns, 80000 nonzeros\n",
      "\n",
      "Concurrent LP optimizer: primal simplex, dual simplex, and barrier\n",
      "Showing barrier log only...\n",
      "\n",
      "Ordering time: 0.00s\n",
      "\n",
      "Barrier statistics:\n",
      " AA' NZ     : 4.000e+04\n",
      " Factor NZ  : 8.020e+04 (roughly 17 MB of memory)\n",
      " Factor Ops : 2.141e+07 (less than 1 second per iteration)\n",
      " Threads    : 6\n",
      "\n",
      "Barrier performed 0 iterations in 0.03 seconds (0.03 work units)\n",
      "Barrier solve interrupted - model solved by another algorithm\n",
      "\n",
      "\n",
      "Solved with primal simplex\n",
      "Iteration    Objective       Primal Inf.    Dual Inf.      Time\n",
      "    1793   -1.8000000e+03   0.000000e+00   0.000000e+00      0s\n",
      "\n",
      "Solved in 1793 iterations and 0.03 seconds (0.04 work units)\n",
      "Optimal objective -1.800000000e+03\n"
     ]
    }
   ],
   "source": [
    "# Number of tasks and workers\n",
    "num_tasks = 200\n",
    "num_workers = 200\n",
    "\n",
    "# Random cost matrix\n",
    "np.random.seed(1)\n",
    "costs = - np.random.randint(1, 10, (num_tasks, num_workers))\n",
    "\n",
    "# Create the environment with license parameters\n",
    "with gp.Env(params=options) as env:\n",
    "    # Create a Gurobi model within the environment\n",
    "    with gp.Model(env=env) as model:\n",
    "        \n",
    "        # Create variables: match[i, j] = 1 if task i is assigned to worker j, otherwise 0\n",
    "        match = model.addVars(num_tasks, num_workers, name=\"x\")\n",
    "        match.start = np.zeros((num_tasks, num_workers), dtype=object)\n",
    "        # match.start = solution.reshape((num_tasks, num_workers))\n",
    "        # Set objective: minimize total assignment cost\n",
    "        model.setObjective(gp.quicksum(costs[i][j] * match[i, j] for i in range(num_tasks) for j in range(num_workers)), GRB.MINIMIZE)\n",
    "        \n",
    "        # Constraints: each task is assigned to exactly one worker\n",
    "        for i in range(num_tasks):\n",
    "            model.addConstr(gp.quicksum(match[i, j] for j in range(num_workers)) <= 1, f\"task_{i}\")\n",
    "        \n",
    "        # Constraints: each worker is assigned to exactly one task\n",
    "        for j in range(num_workers):\n",
    "            model.addConstr(gp.quicksum(match[i, j] for i in range(num_tasks)) <= 1, f\"worker_{j}\")\n",
    "        \n",
    "        # Optimize the model\n",
    "        model.optimize()\n",
    "        solution = np.array(model.x)\n"
   ]
  },
  {
   "cell_type": "code",
   "execution_count": 73,
   "metadata": {},
   "outputs": [
    {
     "data": {
      "text/plain": [
       "(40000,)"
      ]
     },
     "execution_count": 73,
     "metadata": {},
     "output_type": "execute_result"
    }
   ],
   "source": [
    "np.shape(solution)"
   ]
  },
  {
   "cell_type": "code",
   "execution_count": 74,
   "metadata": {},
   "outputs": [
    {
     "data": {
      "text/plain": [
       "200.0"
      ]
     },
     "execution_count": 74,
     "metadata": {},
     "output_type": "execute_result"
    }
   ],
   "source": [
    "solution.sum()"
   ]
  },
  {
   "cell_type": "code",
   "execution_count": 75,
   "metadata": {},
   "outputs": [
    {
     "data": {
      "text/plain": [
       "1800.0"
      ]
     },
     "execution_count": 75,
     "metadata": {},
     "output_type": "execute_result"
    }
   ],
   "source": [
    "-(costs.flatten() * solution).sum()"
   ]
  },
  {
   "cell_type": "code",
   "execution_count": null,
   "metadata": {},
   "outputs": [],
   "source": []
  },
  {
   "cell_type": "code",
   "execution_count": null,
   "metadata": {},
   "outputs": [],
   "source": []
  }
 ],
 "metadata": {
  "kernelspec": {
   "display_name": "Python 3",
   "language": "python",
   "name": "python3"
  },
  "language_info": {
   "codemirror_mode": {
    "name": "ipython",
    "version": 3
   },
   "file_extension": ".py",
   "mimetype": "text/x-python",
   "name": "python",
   "nbconvert_exporter": "python",
   "pygments_lexer": "ipython3",
   "version": "3.12.0"
  }
 },
 "nbformat": 4,
 "nbformat_minor": 2
}
