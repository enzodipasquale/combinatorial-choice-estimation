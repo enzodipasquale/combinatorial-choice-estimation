{
 "cells": [
  {
   "cell_type": "code",
   "execution_count": 44,
   "metadata": {},
   "outputs": [
    {
     "name": "stdout",
     "output_type": "stream",
     "text": [
      "mps:  True\n"
     ]
    }
   ],
   "source": [
    "import numpy as np\n",
    "import gurobipy as gp\n",
    "from gurobipy import GRB\n",
    "import time\n",
    "import itertools\n",
    "from itertools import product\n",
    "import torch\n",
    "\n",
    "print('mps: ', torch.backends.mps.is_available())\n",
    "\n",
    "options = {\n",
    " \"WLSACCESSID\":\"a4353fb7-f95b-4075-b288-ca3f60983b36\",\n",
    "\"WLSSECRET\":\"d894d460-2dac-4210-8c40-c91c68ecfb13\",\n",
    "\"LICENSEID\":2562382\n",
    "}\n",
    "\n",
    "# Check if MPS is available\n",
    "if torch.backends.mps.is_available():\n",
    "    device = torch.device(\"mps\")  # Use the Metal backend\n",
    "else:\n",
    "    device = torch.device(\"cpu\")  # Fallback to CPU"
   ]
  },
  {
   "cell_type": "code",
   "execution_count": 45,
   "metadata": {},
   "outputs": [],
   "source": [
    "class BundledChoice_KP:\n",
    "    def __init__(self,  num_agents , num_objects , lambda_star , random_seed=4,  sigma = 1, max_capacity = 100):\n",
    "\n",
    "        self.K_MOD = len(lambda_star)\n",
    "        self.num_agents = num_agents\n",
    "        self.num_objects = num_objects\n",
    "        self.random_seed = random_seed\n",
    "\n",
    "        # Initialize stuff\n",
    "   \n",
    "\n",
    "        # True parameters\n",
    "        self.lambda_star_np = lambda_star\n",
    "        self.lambda_star = torch.tensor(lambda_star, device=device, dtype=torch.float)\n",
    "\n",
    "        # Set manual seed\n",
    "        torch.manual_seed(self.random_seed)\n",
    "\n",
    "        ### Modular characteristics\n",
    "        self.φ_i_j_k = torch.normal(0, 1, size=(self.num_agents, self.num_objects, self.K_MOD), device=device, dtype=torch.float)\n",
    "\n",
    "\n",
    "        ### Knapsack Constraints\n",
    "        self.weight_j = torch.randint(1, 100, (self.num_objects,), device=device, dtype=torch.float)\n",
    "        self.capacity_i = torch.randint(1, max_capacity, (self.num_agents,), device=device, dtype=torch.float)\n",
    "        \n",
    "    \n",
    "\n",
    "        ### estimation\n",
    "        self.φ_hat_k = None\n",
    "        self.φ_hat_i_k = None\n",
    "        self.value_LP = None\n",
    "\n",
    "        self.eps_i_j = sigma * torch.normal(0, 1, size=(self.num_agents, self.num_objects), device=device, dtype=torch.float)"
   ]
  },
  {
   "cell_type": "code",
   "execution_count": null,
   "metadata": {},
   "outputs": [],
   "source": [
    "def linear_knapsack(self, idx, lambda_k , max_weight = None):\n",
    "    \n",
    "    if max_weight is None:\n",
    "        max_weight = int(self.capacity_i[idx].cpu().numpy()[0])\n",
    "\n",
    "    values_i_j = torch.einsum('i,jk->ijk', self.φ_i_j_k[idx], lambda_k)\n",
    "    \n"
   ]
  },
  {
   "cell_type": "code",
   "execution_count": 79,
   "metadata": {},
   "outputs": [
    {
     "name": "stdout",
     "output_type": "stream",
     "text": [
      "[161. 105.]\n",
      "max_weight:  161\n"
     ]
    }
   ],
   "source": [
    "example_pb = BundledChoice_KP( 5, 10, [1, 2, 3, 4, 5], max_capacity= 200)\n",
    "idx = [1, 2]\n",
    "lambda_k = example_pb.lambda_star\n",
    "print(example_pb.capacity_i[idx].cpu().numpy())\n",
    "max_weight = int(example_pb.capacity_i[idx].cpu().numpy()[0])\n",
    "print('max_weight: ', max_weight)\n",
    "values_i_j = example_pb.φ_i_j_k[idx]  @  lambda_k\n",
    "\n",
    "weight_states = torch.arange(max_weight + 1, device= device).unsqueeze(0)"
   ]
  },
  {
   "cell_type": "code",
   "execution_count": 74,
   "metadata": {},
   "outputs": [
    {
     "data": {
      "text/plain": [
       "tensor([[  5.0901,  16.9645,  13.3604, -12.2743,   5.1205,  -9.1279,   5.7840,\n",
       "          19.2348,   4.4172,   6.8700],\n",
       "        [ -4.4021,   4.2688,   3.8711,  -7.8447,  -6.3756,  -2.0179,  -7.3205,\n",
       "          -6.7593,   0.6237,  -1.7122]], device='mps:0')"
      ]
     },
     "execution_count": 74,
     "metadata": {},
     "output_type": "execute_result"
    }
   ],
   "source": [
    "values_i_j"
   ]
  },
  {
   "cell_type": "code",
   "execution_count": null,
   "metadata": {},
   "outputs": [],
   "source": [
    "dp_i_j_w = torch.zeros((len(idx), example_pb.num_objects, max_weight) ,device=device, dtype=torch.float)"
   ]
  },
  {
   "cell_type": "code",
   "execution_count": null,
   "metadata": {},
   "outputs": [],
   "source": [
    "for j in example_pb.num_objects:\n",
    "    \n",
    "    mask = weight_states >= example_pb.weight_j[j]\n",
    "    "
   ]
  }
 ],
 "metadata": {
  "kernelspec": {
   "display_name": "Python 3",
   "language": "python",
   "name": "python3"
  },
  "language_info": {
   "codemirror_mode": {
    "name": "ipython",
    "version": 3
   },
   "file_extension": ".py",
   "mimetype": "text/x-python",
   "name": "python",
   "nbconvert_exporter": "python",
   "pygments_lexer": "ipython3",
   "version": "3.12.0"
  }
 },
 "nbformat": 4,
 "nbformat_minor": 2
}
