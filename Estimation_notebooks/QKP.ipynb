{
 "cells": [
  {
   "cell_type": "code",
   "execution_count": 29,
   "metadata": {},
   "outputs": [],
   "source": [
    "import numpy as np\n",
    "import gurobipy as gp\n",
    "from gurobipy import GRB\n",
    "import time\n",
    "import itertools\n",
    "from itertools import product\n",
    "\n",
    "\n",
    "\n",
    "options = {\n",
    " \"WLSACCESSID\":\"a4353fb7-f95b-4075-b288-ca3f60983b36\",\n",
    "\"WLSSECRET\":\"d894d460-2dac-4210-8c40-c91c68ecfb13\",\n",
    "\"LICENSEID\":2562382\n",
    "}"
   ]
  },
  {
   "cell_type": "code",
   "execution_count": 31,
   "metadata": {},
   "outputs": [
    {
     "name": "stdout",
     "output_type": "stream",
     "text": [
      "Restricted license - for non-production use only - expires 2026-11-23\n",
      "Gurobi Optimizer version 12.0.0 build v12.0.0rc1 (mac64[arm] - Darwin 24.1.0 24B83)\n",
      "\n",
      "CPU model: Apple M1\n",
      "Thread count: 8 physical cores, 8 logical processors, using up to 8 threads\n",
      "\n",
      "Optimize a model with 1 rows, 100 columns and 100 nonzeros\n",
      "Model fingerprint: 0xeba12bf7\n",
      "Model has 4950 quadratic objective terms\n",
      "Variable types: 0 continuous, 100 integer (100 binary)\n",
      "Coefficient statistics:\n",
      "  Matrix range     [1e+00, 4e+00]\n",
      "  Objective range  [1e+00, 9e+00]\n",
      "  QObjective range [3e-02, 2e+00]\n",
      "  Bounds range     [1e+00, 1e+00]\n",
      "  RHS range        [3e+01, 3e+01]\n",
      "Found heuristic solution: objective -0.0000000\n",
      "Presolve time: 0.01s\n",
      "Presolved: 1 rows, 100 columns, 100 nonzeros\n",
      "Presolved model has 5050 quadratic objective terms\n",
      "Variable types: 0 continuous, 100 integer (100 binary)\n",
      "Found heuristic solution: objective 71.4830336\n",
      "\n",
      "Root relaxation: objective 5.069308e+02, 74 iterations, 0.00 seconds (0.00 work units)\n",
      "\n",
      "    Nodes    |    Current Node    |     Objective Bounds      |     Work\n",
      " Expl Unexpl |  Obj  Depth IntInf | Incumbent    BestBd   Gap | It/Node Time\n",
      "\n",
      "     0     0  506.93081    0   64   71.48303  506.93081   609%     -    0s\n",
      "H    0     0                     297.5452528  506.93081  70.4%     -    0s\n",
      "H    0     0                     317.4906681  506.93081  59.7%     -    0s\n",
      "H    0     0                     317.6305631  506.93081  59.6%     -    0s\n",
      "H    0     0                     320.8369265  506.93081  58.0%     -    0s\n",
      "     0     0  463.50165    0   64  320.83693  463.50165  44.5%     -    0s\n",
      "     0     2  463.50165    0   64  320.83693  463.50165  44.5%     -    0s\n",
      "\n",
      "Cutting planes:\n",
      "  Gomory: 8\n",
      "  Cover: 1\n",
      "  MIR: 29\n",
      "  Flow cover: 67\n",
      "  Relax-and-lift: 12\n",
      "\n",
      "Explored 1834 nodes (6696 simplex iterations) in 0.49 seconds (0.71 work units)\n",
      "Thread count was 8 (of 8 available processors)\n",
      "\n",
      "Solution count 6: 320.837 317.631 317.491 ... -0\n",
      "\n",
      "Optimal solution found (tolerance 1.00e-04)\n",
      "Best objective 3.208369265124e+02, best bound 3.208369265124e+02, gap 0.0000%\n"
     ]
    }
   ],
   "source": [
    "# Parameters\n",
    "num_objs = 100  # Define the size of the problem\n",
    "capacity = 30  # Define knapsack capacity\n",
    "\n",
    "# Randomly generate weights and values\n",
    "np.random.seed(0)  # Seed for reproducibility\n",
    "weights = np.random.randint(1, 5, num_objs)  \n",
    "values = np.random.randint(0, 10, num_objs) \n",
    "\n",
    "# Create a symmetric matrix for the quadratic term\n",
    "Q = np.random.rand(num_objs, num_objs) \n",
    "Q = (Q + Q.T) / 2  # Make it symmetric\n",
    "\n",
    "# Set up the environment\n",
    "options = {\"OutputFlag\": 1}  # OutputFlag to display output in console\n",
    "\n",
    "# Initialize Gurobi environment and model\n",
    "with gp.Env(params=options) as env:\n",
    "    with gp.Model(env=env) as model:\n",
    "        \n",
    "        # Define binary variables for knapsack items\n",
    "        x = model.addVars(num_objs, vtype=  GRB.BINARY, name=\"x\")\n",
    "        \n",
    "        # Set the objective function with quadratic terms\n",
    "        obj = gp.quicksum(values[i] * x[i] for i in range(num_objs))\n",
    "        obj += gp.quicksum(Q[i, j] * x[i] * x[j] for i in range(num_objs) for j in range(i+1, num_objs))\n",
    "        model.setObjective(obj, GRB.MAXIMIZE)\n",
    "        \n",
    "        # Add the capacity constraint\n",
    "        model.addConstr(gp.quicksum(weights[i] * x[i] for i in range(num_objs)) <= capacity, \"Capacity\")\n",
    "        \n",
    "        # Optimize the model\n",
    "        model.optimize()"
   ]
  },
  {
   "cell_type": "markdown",
   "metadata": {},
   "source": [
    "# Sparse quadratic term"
   ]
  },
  {
   "cell_type": "code",
   "execution_count": 42,
   "metadata": {},
   "outputs": [
    {
     "name": "stdout",
     "output_type": "stream",
     "text": [
      "Restricted license - for non-production use only - expires 2026-11-23\n",
      "Gurobi Optimizer version 12.0.0 build v12.0.0rc1 (mac64[arm] - Darwin 24.1.0 24B83)\n",
      "\n",
      "CPU model: Apple M1\n",
      "Thread count: 8 physical cores, 8 logical processors, using up to 8 threads\n",
      "\n"
     ]
    },
    {
     "ename": "GurobiError",
     "evalue": "Model too large for size-limited license; visit https://gurobi.com/unrestricted for more information",
     "output_type": "error",
     "traceback": [
      "\u001b[0;31m---------------------------------------------------------------------------\u001b[0m",
      "\u001b[0;31mGurobiError\u001b[0m                               Traceback (most recent call last)",
      "Cell \u001b[0;32mIn[42], line 35\u001b[0m\n\u001b[1;32m     32\u001b[0m model\u001b[38;5;241m.\u001b[39maddConstr(gp\u001b[38;5;241m.\u001b[39mquicksum(weights[i] \u001b[38;5;241m*\u001b[39m x[i] \u001b[38;5;28;01mfor\u001b[39;00m i \u001b[38;5;129;01min\u001b[39;00m \u001b[38;5;28mrange\u001b[39m(num_objs)) \u001b[38;5;241m<\u001b[39m\u001b[38;5;241m=\u001b[39m capacity, \u001b[38;5;124m\"\u001b[39m\u001b[38;5;124mCapacity\u001b[39m\u001b[38;5;124m\"\u001b[39m)\n\u001b[1;32m     34\u001b[0m \u001b[38;5;66;03m# Optimize the model\u001b[39;00m\n\u001b[0;32m---> 35\u001b[0m model\u001b[38;5;241m.\u001b[39moptimize()\n\u001b[1;32m     36\u001b[0m result \u001b[38;5;241m=\u001b[39m np\u001b[38;5;241m.\u001b[39marray(model\u001b[38;5;241m.\u001b[39mx)\n",
      "File \u001b[0;32msrc/gurobipy/_model.pyx:901\u001b[0m, in \u001b[0;36mgurobipy._model.Model.optimize\u001b[0;34m()\u001b[0m\n",
      "\u001b[0;31mGurobiError\u001b[0m: Model too large for size-limited license; visit https://gurobi.com/unrestricted for more information"
     ]
    }
   ],
   "source": [
    "# Parameters\n",
    "num_objs = 500  # Define the size of the problem\n",
    "capacity = 30  # Define knapsack capacity\n",
    "\n",
    "# Randomly generate weights and values\n",
    "np.random.seed(0)  # Seed for reproducibility\n",
    "weights = np.random.randint(1, 5, num_objs)  \n",
    "values = np.random.randint(0, 10, num_objs) \n",
    "\n",
    "# Create a symmetric matrix for the quadratic term\n",
    "density = 0.01\n",
    "upper_triangular = np.triu((np.random.rand(num_objs, num_objs) < density).astype(int), k=1)\n",
    "Q = upper_triangular + upper_triangular.T\n",
    "np.fill_diagonal(Q, 0)\n",
    "\n",
    "# Set up the environment\n",
    "options = {\"OutputFlag\": 1}  # OutputFlag to display output in console\n",
    "\n",
    "# Initialize Gurobi environment and model\n",
    "with gp.Env(params=options) as env:\n",
    "    with gp.Model(env=env) as model:\n",
    "        \n",
    "        # Define binary variables for knapsack items\n",
    "        x = model.addVars(num_objs, vtype=  GRB.BINARY, name=\"x\")\n",
    "        \n",
    "        # Set the objective function with quadratic terms\n",
    "        obj = gp.quicksum(values[i] * x[i] for i in range(num_objs))\n",
    "        obj += gp.quicksum(Q[i, j] * x[i] * x[j] for i in range(num_objs) for j in range(i+1, num_objs))\n",
    "        model.setObjective(obj, GRB.MAXIMIZE)\n",
    "        \n",
    "        # Add the capacity constraint\n",
    "        model.addConstr(gp.quicksum(weights[i] * x[i] for i in range(num_objs)) <= capacity, \"Capacity\")\n",
    "        \n",
    "        # Optimize the model\n",
    "        model.optimize()\n",
    "        result = np.array(model.x)"
   ]
  },
  {
   "cell_type": "code",
   "execution_count": null,
   "metadata": {},
   "outputs": [],
   "source": []
  }
 ],
 "metadata": {
  "kernelspec": {
   "display_name": "base",
   "language": "python",
   "name": "python3"
  },
  "language_info": {
   "codemirror_mode": {
    "name": "ipython",
    "version": 3
   },
   "file_extension": ".py",
   "mimetype": "text/x-python",
   "name": "python",
   "nbconvert_exporter": "python",
   "pygments_lexer": "ipython3",
   "version": "3.12.2"
  }
 },
 "nbformat": 4,
 "nbformat_minor": 2
}
