{
 "cells": [
  {
   "cell_type": "code",
   "execution_count": 29,
   "metadata": {},
   "outputs": [],
   "source": [
    "import numpy as np\n",
    "import gurobipy as gp\n",
    "from gurobipy import GRB\n",
    "import time\n",
    "import itertools\n",
    "from itertools import product\n",
    "\n",
    "\n",
    "\n",
    "options = {\n",
    " \"WLSACCESSID\":\"a4353fb7-f95b-4075-b288-ca3f60983b36\",\n",
    "\"WLSSECRET\":\"d894d460-2dac-4210-8c40-c91c68ecfb13\",\n",
    "\"LICENSEID\":2562382\n",
    "}"
   ]
  },
  {
   "cell_type": "code",
   "execution_count": 30,
   "metadata": {},
   "outputs": [],
   "source": [
    "K = 3\n",
    "lambda_star = np.array([-1,3,1])\n",
    "\n",
    "I = 20\n",
    "J = 40\n",
    "sigma = 1\n",
    "\n",
    "### generate exogenous data\n",
    "\n",
    "# np.random.seed(2)\n",
    "# φ_i_j_k = np.random.normal(0,1, size=[I,J,K])\n",
    "# eps_ij = sigma * np.random.normal(0,1, size = [I,J])\n",
    "# def φ_k(i_idx,bundles):\n",
    "#     return (φ_i_j_k[i_idx[:,None], bundles,:]).sum(1)\n",
    "\n",
    "\n",
    "\n",
    "np.random.seed(4)\n",
    "φ_i_j_k = np.random.normal(0,5, size=[I,J,K-1])\n",
    "eps_i_j = sigma * np.random.normal(0,1, size = [I,J])\n",
    "\n",
    "phi_j = np.random.normal(0,1, size=[J])**2\n",
    "t_j_j = np.random.normal(0,1, size=[J,J])**2\n",
    "t_j_sum = t_j_j.sum(1)\n",
    "def φ_k(i_idx,bundles):\n",
    "    complementarities_i_k = (phi_j[bundles] * (t_j_j[bundles[:,:,None] , bundles[:,None,:]]).sum(-1) \n",
    "                             / t_j_sum[bundles]).sum(-1)\n",
    "    \n",
    "    return np.hstack(((φ_i_j_k[i_idx[:,None], bundles,:]).sum(1), complementarities_i_k.reshape(-1, 1) ))"
   ]
  },
  {
   "cell_type": "code",
   "execution_count": 31,
   "metadata": {},
   "outputs": [
    {
     "name": "stdout",
     "output_type": "stream",
     "text": [
      "[[ 1 26  0  3 22]\n",
      " [36  8 27 11 14]]\n"
     ]
    }
   ],
   "source": [
    "bundle = np.random.choice(np.arange(J), size=[2,5], replace=False)\n",
    "print(bundle)\n",
    "# φ_k(np.array([5,7]),bundle)"
   ]
  },
  {
   "cell_type": "code",
   "execution_count": 32,
   "metadata": {},
   "outputs": [],
   "source": [
    "def grad_lovatz_extension(i_idx, z_i_j, lambda_k, eps_i_j = None) :\n",
    "    if eps_i_j is None:\n",
    "        eps_i_j = np.zeros([len(i_idx),J])              \n",
    "\n",
    "    sorted_z_id_j = z_i_j.argsort(1)[:,::-1]\n",
    "\n",
    "    grad = np.zeros([len(z_i_j),J])\n",
    "    for j in range(J):\n",
    "        grad[np.arange(len(i_idx)),sorted_z_id_j[:,j]] = (φ_k(i_idx, sorted_z_id_j[:,np.arange(j+1)] ) @ lambda_k \n",
    "                                    - φ_k(i_idx, sorted_z_id_j[:,np.arange(j)] ) @ lambda_k  \n",
    "                                    + eps_i_j[np.arange(len(i_idx)),sorted_z_id_j[:,j]])\n",
    "    \n",
    "    return grad\n",
    "\n",
    "\n",
    "def maximize_supermodular(i_idx, lambda_k, num_iterations,alpha ,eps_i_j = None):\n",
    "\n",
    "    z_t = np.ones([len(i_idx),J])/2 \n",
    "\n",
    "    z_list = []\n",
    "    iter = 0 \n",
    "    for _ in range(num_iterations):\n",
    "        grad = grad_lovatz_extension(i_idx, z_t, lambda_k, eps_i_j) \n",
    "        z_new = z_t + alpha * grad / np.linalg.norm(grad)\n",
    "        z_new = np.clip(z_new, 0, 1)\n",
    "\n",
    "        z_t = z_new\n",
    "        z_list.append(z_new)\n",
    "        iter += 1\n",
    "\n",
    "    z_star = np.array(z_list)[-int(np.floor(num_iterations)/10):,:,:].mean(0)\n",
    "    bundle_star = np.array(z_star.round(0), dtype= bool)\n",
    "\n",
    "    return bundle_star, z_star\n"
   ]
  },
  {
   "cell_type": "code",
   "execution_count": 33,
   "metadata": {},
   "outputs": [
    {
     "name": "stdout",
     "output_type": "stream",
     "text": [
      "[]\n",
      "[]\n",
      "[]\n",
      "[]\n",
      "[]\n",
      "[]\n",
      "[0.88678817]\n",
      "[]\n",
      "[]\n",
      "[]\n",
      "[0.40744177 0.11145062]\n",
      "[0.71144088]\n",
      "[]\n",
      "[]\n",
      "[]\n",
      "[]\n",
      "[]\n",
      "[]\n",
      "[]\n",
      "[]\n",
      "[[False  True  True False  True False False False False  True False False\n",
      "   True False  True False  True False False False  True  True  True  True\n",
      "  False  True  True False False False False  True  True  True  True  True\n",
      "   True  True False  True]]\n",
      "[152.45172622]\n"
     ]
    }
   ],
   "source": [
    "for i in range(I):\n",
    "    bundle_star ,  z_star = maximize_supermodular(np.array([i]),lambda_star,600,1)\n",
    "\n",
    "# print(z_star)\n",
    "\n",
    "    print(z_star[(z_star > .1) & (z_star < .9)])    \n",
    "print(bundle_star)\n",
    "print(φ_k(np.array([0]),np.where(bundle_star)[0].reshape(1,-1)) @ lambda_star)"
   ]
  },
  {
   "cell_type": "code",
   "execution_count": 34,
   "metadata": {},
   "outputs": [],
   "source": [
    "def maximize_brute_force(i, lambda_k):\n",
    "    max_value = -np.inf\n",
    "    best_array = None\n",
    "\n",
    "    # Generate all binary arrays of size J\n",
    "    for binary_array in product([0, 1], repeat=J):\n",
    "        B = np.where(np.array(binary_array, dtype=bool))[0]. reshape(1,-1)\n",
    "\n",
    "        current_value = φ_k(np.array([i]),B) @ lambda_k\n",
    "\n",
    "        # Check if the current value is less than the max_value\n",
    "        if current_value > max_value:\n",
    "            max_value = current_value\n",
    "            best_array = B\n",
    "\n",
    "    return max_value, best_array\n",
    "\n",
    "# Find the maximizer and the maximum value\n",
    "if J <= 15:\n",
    "    max_value, maximizer = maximize_brute_force(0, lambda_star)\n",
    "\n",
    "    print(\"maximum Value:\", max_value)\n",
    "    print(\"maximizer:\", maximizer)"
   ]
  },
  {
   "cell_type": "markdown",
   "metadata": {},
   "source": [
    "# Estimation"
   ]
  },
  {
   "cell_type": "markdown",
   "metadata": {},
   "source": [
    "### Generate data"
   ]
  },
  {
   "cell_type": "code",
   "execution_count": 35,
   "metadata": {},
   "outputs": [
    {
     "name": "stdout",
     "output_type": "stream",
     "text": [
      "[0.62731652 0.50514886 0.81069331 0.50536311 0.59463022 0.31087167\n",
      " 0.44158134 0.72316802 0.72812371 0.57120442]\n",
      "[-414.32504322 1529.97626092  198.54879962]\n"
     ]
    }
   ],
   "source": [
    "bundles_observed ,  z_star = maximize_supermodular(np.arange(I),lambda_star,500,1, eps_i_j)\n",
    "print(z_star[(z_star > .1) & (z_star < .9)])  \n",
    "\n",
    "phi_k_hat = 0\n",
    "for i in range(I):\n",
    "    phi_k_hat += φ_k(np.array([i]),np.where(bundles_observed[i])[0].reshape(1,-1))[0]\n",
    "\n",
    "print(phi_k_hat )"
   ]
  },
  {
   "cell_type": "code",
   "execution_count": 37,
   "metadata": {},
   "outputs": [
    {
     "name": "stdout",
     "output_type": "stream",
     "text": [
      "Set parameter WLSAccessID\n",
      "Set parameter WLSSecret\n",
      "Set parameter LicenseID to value 2562382\n",
      "Academic license 2562382 - for non-commercial use only - registered to ed___@nyu.edu\n",
      "ITER: 0, parameters: [-0.10687921  0.10297957  0.30328282]\n",
      "pricing done\n",
      "reduced cost: 16.50762957305961\n",
      "##############\n",
      "ITER: 1, parameters: [-0.01105103  0.62252431  0.47717267]\n",
      "pricing done\n",
      "reduced cost: 13.642558920582971\n",
      "##############\n",
      "ITER: 2, parameters: [-0.47532643  0.76026967 -0.1825308 ]\n",
      "pricing done\n",
      "reduced cost: 10.62444758704077\n",
      "##############\n",
      "ITER: 3, parameters: [-0.5311098   2.07126657  1.04511348]\n",
      "pricing done\n",
      "reduced cost: 7.559181153731117\n",
      "##############\n",
      "ITER: 4, parameters: [-1.72312567  5.15865247  1.80355987]\n",
      "pricing done\n",
      "reduced cost: 4.560985996689851\n",
      "##############\n",
      "ITER: 5, parameters: [-0.64952403  1.85866786  0.33002738]\n",
      "pricing done\n",
      "reduced cost: 1.3649209373719202\n",
      "##############\n",
      "ITER: 6, parameters: [-0.94329795  2.88668842  1.0050684 ]\n",
      "pricing done\n",
      "reduced cost: 0.6869027560688039\n",
      "##############\n",
      "ITER: 7, parameters: [-1.07969739  3.25351396  1.06945417]\n",
      "pricing done\n",
      "reduced cost: 5.684341886080802e-14\n"
     ]
    }
   ],
   "source": [
    "max_iters = 40\n",
    "tol = 1e-12\n",
    "\n",
    "np.random.seed(443)\n",
    "S = 30\n",
    "eps_si_j = sigma * np.random.normal(0,1, size = [S*I,J])      \n",
    "\n",
    "with gp.Env(params=options) as env:\n",
    "    with gp.Model(env=env) as model:\n",
    "        ### Initialize \n",
    "        # Create variables\n",
    "        lambda_k = model.addVars(K, lb= -GRB.INFINITY, ub = GRB.INFINITY , name=\"parameters\")\n",
    "        u_si = model.addVars(S*I, name=\"utilities\")\n",
    "\n",
    "        # Set objective\n",
    "        model.setObjective(gp.quicksum(phi_k_hat[k] * lambda_k[k] for k in range(K))\n",
    "                            - (1/S)* u_si.sum(), GRB.MAXIMIZE)\n",
    "        \n",
    "        model.addConstrs((u_si[si] >= \n",
    "                            gp.quicksum(φ_k(np.array([si // S]), np.where(bundles_observed[si // S])[0].reshape(1,-1))[0][k] *  lambda_k[k] for k in range(K))\n",
    "                            + eps_si_j[si, bundles_observed[si // S]].sum()\n",
    "                            for si in range(S*I)), name=\"constraint_batch\")\n",
    "        \n",
    "        # Optimize the model\n",
    "        model.setParam('OutputFlag', 0)\n",
    "        # model.setParam('Presolve', 0)\n",
    "        model.optimize()\n",
    "        status = model.Status\n",
    "        # Extract the solution \n",
    "        theta_solution = np.array(model.x)\n",
    "\n",
    "        ### Column Generation\n",
    "        iter = 0\n",
    "        while iter < max_iters:\n",
    "            print(f\"ITER: {iter}, parameters: {theta_solution[:K]}\")\n",
    "            ### Pricing problem\n",
    "            B_star_si = []\n",
    "            val_si = []\n",
    "            \n",
    "            for s in range(S):\n",
    "                        B_star, _ = maximize_supermodular(np.arange(I), theta_solution[:K], 500, 1, eps_si_j[s*I:(s+1)*I]) \n",
    "                        B_star_si.append(B_star)\n",
    "            \n",
    "            B_star_si = np.array(B_star_si).reshape([S*I,J])\n",
    "\n",
    "            for si in range(S*I):\n",
    "                  val_si.append(φ_k(np.array([si // S]), np.where(B_star_si[si])[0].reshape(1,-1)) @ theta_solution[:K] \n",
    "                                + eps_si_j[si, B_star_si[si]].sum() - theta_solution[K+si] )\n",
    "            val_si = np.array(val_si)\n",
    "\n",
    "            print(f\"pricing done\")\n",
    "\n",
    "            # stop if certificate holds\n",
    "            print(f\"reduced cost: {np.max(val_si)}\")\n",
    "            if np.max(val_si) <= tol:\n",
    "                primal_solutin = np.array(model.x)\n",
    "                dual_solution = np.array(model.pi)\n",
    "                break\n",
    "            \n",
    "            ### Master problem\n",
    "            # add constraints\n",
    "            model.addConstrs((u_si[si] >= \n",
    "                            gp.quicksum(φ_k(np.array([si // S]), np.where(B_star_si[si ])[0].reshape(1,-1))[0][k] *  lambda_k[k] for k in range(K))\n",
    "                            + eps_si_j[si, B_star_si[si ]].sum()\n",
    "                            for si in range(S*I)), name=f\"constraint_batch_{iter}\")\n",
    "            \n",
    "            # optimize the model\n",
    "            lambda_k.start = theta_solution[:K]\n",
    "            u_si.start = val_si + theta_solution[K:S*I +K]\n",
    "            model.optimize()\n",
    "            theta_solution = np.array(model.x)\n",
    "            iter += 1\n",
    "            print(\"##############\")\n",
    "            "
   ]
  },
  {
   "cell_type": "code",
   "execution_count": 27,
   "metadata": {},
   "outputs": [
    {
     "data": {
      "text/plain": [
       "array([-1,  3,  1])"
      ]
     },
     "execution_count": 27,
     "metadata": {},
     "output_type": "execute_result"
    }
   ],
   "source": [
    "lambda_star"
   ]
  },
  {
   "cell_type": "code",
   "execution_count": 28,
   "metadata": {},
   "outputs": [
    {
     "data": {
      "text/plain": [
       "array([-1.28414983,  4.12236884,  1.35991002])"
      ]
     },
     "execution_count": 28,
     "metadata": {},
     "output_type": "execute_result"
    }
   ],
   "source": [
    "theta_solution[:K]"
   ]
  },
  {
   "cell_type": "code",
   "execution_count": null,
   "metadata": {},
   "outputs": [],
   "source": []
  }
 ],
 "metadata": {
  "kernelspec": {
   "display_name": "Python 3",
   "language": "python",
   "name": "python3"
  },
  "language_info": {
   "codemirror_mode": {
    "name": "ipython",
    "version": 3
   },
   "file_extension": ".py",
   "mimetype": "text/x-python",
   "name": "python",
   "nbconvert_exporter": "python",
   "pygments_lexer": "ipython3",
   "version": "3.12.0"
  }
 },
 "nbformat": 4,
 "nbformat_minor": 2
}
