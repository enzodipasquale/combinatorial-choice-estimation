{
 "cells": [
  {
   "cell_type": "code",
   "execution_count": 11,
   "metadata": {},
   "outputs": [],
   "source": [
    "import numpy as np\n",
    "import gurobipy as gp\n",
    "from gurobipy import GRB\n",
    "import time\n",
    "import itertools\n",
    "from itertools import product\n",
    "\n",
    "\n",
    "\n",
    "options = {\n",
    " \"WLSACCESSID\":\"a4353fb7-f95b-4075-b288-ca3f60983b36\",\n",
    "\"WLSSECRET\":\"d894d460-2dac-4210-8c40-c91c68ecfb13\",\n",
    "\"LICENSEID\":2562382\n",
    "}"
   ]
  },
  {
   "cell_type": "code",
   "execution_count": 24,
   "metadata": {},
   "outputs": [],
   "source": [
    "K = 3\n",
    "lambda_star = np.array([0,.2,3])\n",
    "\n",
    "I = 2\n",
    "J = 5\n",
    "# sigma = 1\n",
    "\n",
    "### generate exogenous data\n",
    "\n",
    "# np.random.seed(2)\n",
    "# φ_i_j_k = np.random.normal(0,1, size=[I,J,K])\n",
    "# # eps_ij = sigma * np.random.normal(0,1, size = [I,J])\n",
    "# def φ_k(i_idx,bundles):\n",
    "#     return (φ_i_j_k[i_idx[:,None], bundles,:]).sum(1)\n",
    "\n",
    "\n",
    "\n",
    "np.random.seed(4)\n",
    "φ_i_j_k = np.random.normal(0,5, size=[I,J,K-1])\n",
    "# eps_i_j = sigma * np.random.normal(0,1, size = [I,J])\n",
    "\n",
    "phi_j = np.random.normal(0,1, size=[J])**2\n",
    "t_j_j = np.random.normal(0,1, size=[J,J])**2\n",
    "t_j_sum = t_j_j.sum(1)\n",
    "def φ_k(i_idx,bundles):\n",
    "    complementarities_i_k = (phi_j[bundles] * (t_j_j[bundles[:,:,None] , bundles[:,None,:]]).sum(-1) \n",
    "                             / t_j_sum[bundles]).sum(-1)\n",
    "    \n",
    "    return np.hstack(((φ_i_j_k[i_idx[:,None], bundles,:]).sum(1), complementarities_i_k.reshape(-1, 1) ))"
   ]
  },
  {
   "cell_type": "code",
   "execution_count": 25,
   "metadata": {},
   "outputs": [
    {
     "data": {
      "text/plain": [
       "array([[-4.72673612,  5.96774921,  0.33237689]])"
      ]
     },
     "execution_count": 25,
     "metadata": {},
     "output_type": "execute_result"
    }
   ],
   "source": [
    "φ_k(np.array([0]), np.array([[0,1]], dtype = int))"
   ]
  },
  {
   "cell_type": "code",
   "execution_count": null,
   "metadata": {},
   "outputs": [],
   "source": []
  },
  {
   "cell_type": "code",
   "execution_count": 26,
   "metadata": {},
   "outputs": [],
   "source": [
    "def grad_lovatz_extension(i_idx, z_i_j, lambda_k, eps_i_j = None) :\n",
    "    if eps_i_j is None:\n",
    "        eps_i_j = np.zeros([len(i_idx),J])              \n",
    "    # tic = time.time()\n",
    "    sorted_z_id_j = z_i_j.argsort(1)[:,::-1]\n",
    "    # toc =time.time()\n",
    "    # print(f\"sorting time {toc-tic}\")\n",
    "\n",
    "\n",
    "    # tic = time.time()\n",
    "    grad = np.zeros([len(z_i_j),J])\n",
    "    for j in range(J):\n",
    "        grad[np.arange(len(i_idx)),sorted_z_id_j[:,j]] = (φ_k(i_idx, sorted_z_id_j[:,np.arange(j+1)] ) @ lambda_k \n",
    "                                    - φ_k(i_idx, sorted_z_id_j[:,np.arange(j)] ) @ lambda_k  \n",
    "                                    + eps_i_j[np.arange(len(i_idx)),sorted_z_id_j[:,j]])\n",
    "\n",
    "    # toc = time.time()\n",
    "    # print(f\"grad: {toc - tic} seconds\")\n",
    "\n",
    "    return grad\n",
    "\n",
    "\n",
    "def maximize_supermodular(i_idx, lambda_k , num_iterations,alpha ,eps_i_j = None):\n",
    "\n",
    "    z_t = np.ones([len(i_idx),J])/2 \n",
    "\n",
    "    z_list = []\n",
    "    iter = 0 \n",
    "    for _ in range(num_iterations):\n",
    "        grad = grad_lovatz_extension(i_idx, z_t, lambda_k, eps_i_j) \n",
    "        z_new = z_t + alpha * grad / np.linalg.norm(grad)\n",
    "        z_new = np.clip(z_new, 0, 1)\n",
    "\n",
    "        z_t = z_new\n",
    "        z_list.append(z_new)\n",
    "        iter += 1\n",
    "\n",
    "    z_star = np.array(z_list)[-int(np.floor(num_iterations)/10):,:,:].mean(0)\n",
    "    bundle_star = np.array(z_star.round(0), dtype= bool)\n",
    "    print('violations of rounding in SFM: ', len(np.where((z_star > 0.2) & (z_star < 0.8))[0]))\n",
    "\n",
    "    return bundle_star, z_star"
   ]
  },
  {
   "cell_type": "code",
   "execution_count": null,
   "metadata": {},
   "outputs": [],
   "source": []
  },
  {
   "cell_type": "code",
   "execution_count": 27,
   "metadata": {},
   "outputs": [
    {
     "name": "stdout",
     "output_type": "stream",
     "text": [
      "Time taken: 0.00018596649169921875 seconds\n"
     ]
    }
   ],
   "source": [
    "num_iterations = 400\n",
    "alpha = 0.1\n",
    "tic = time.time()\n",
    "# Run maximize_supermodular for all indices in parallel\n",
    "i_idx = np.arange(I)\n",
    "# B_star_tensor, z_star_tensor = maximize_supermodular(i_idx, lambda_star, num_iterations, alpha)\n",
    "toc = time.time()\n",
    "print(f\"Time taken: {toc - tic} seconds\")"
   ]
  },
  {
   "cell_type": "code",
   "execution_count": 28,
   "metadata": {},
   "outputs": [
    {
     "name": "stdout",
     "output_type": "stream",
     "text": [
      "Time taken: 0.00131988525390625 seconds\n"
     ]
    }
   ],
   "source": [
    "i_idx = np.arange(I)\n",
    "z_t = np.random.rand(I,J)\n",
    "tic = time.time()\n",
    "grad = grad_lovatz_extension(i_idx, z_t, lambda_star, eps_i_j = None) \n",
    "toc = time.time()\n",
    "print(f\"Time taken: {toc - tic} seconds\")"
   ]
  },
  {
   "cell_type": "code",
   "execution_count": 29,
   "metadata": {},
   "outputs": [],
   "source": [
    "# def maximize_naive(i_idx, lambda_k  ,eps_i_j = None):\n",
    "#     if eps_i_j is None:\n",
    "#         eps_i_j = np.zeros([len(i_idx),J]) \n",
    "    \n",
    "#     bundle_star = (φ_i_j_k[i_idx] @ lambda_star + eps_i_j) > 1e-13\n",
    "#     print( np.max(φ_i_j_k[i_idx] @ lambda_star + eps_i_j))\n",
    "#     return bundle_star"
   ]
  },
  {
   "cell_type": "code",
   "execution_count": 55,
   "metadata": {},
   "outputs": [
    {
     "name": "stdout",
     "output_type": "stream",
     "text": [
      "Set parameter WLSAccessID\n",
      "Set parameter WLSSecret\n",
      "Set parameter LicenseID to value 2562382\n",
      "Academic license 2562382 - for non-commercial use only - registered to ed___@nyu.edu\n",
      "##############\n",
      "ITER: 0\n",
      "violations of rounding in SFM:  0\n",
      "[[1 1 1 1 1]\n",
      " [1 1 1 1 1]]\n",
      "reduced cost: 24.387440976484942\n",
      "[21.259133857563373, 24.387440976484942]\n",
      "constraints:  0\n",
      "[21.259133857563373, 24.387440976484942]\n",
      "constraints:  0\n",
      "utilities:  [0. 0. 0. 0. 0. 0. 0.]\n",
      "value of LP:  0.0\n",
      "##############\n",
      "ITER: 1\n",
      "violations of rounding in SFM:  0\n",
      "[[1 1 1 1 1]\n",
      " [1 1 1 1 1]]\n",
      "reduced cost: 24.387440976484942\n",
      "[21.259133857563373, 24.387440976484942]\n",
      "constraints:  1\n",
      "[21.259133857563373, 24.387440976484942]\n",
      "constraints:  1\n",
      "utilities:  [5. 0. 0. 0. 0. 0. 0.]\n",
      "value of LP:  5.0\n",
      "##############\n",
      "ITER: 2\n",
      "violations of rounding in SFM:  0\n",
      "[[1 1 1 1 1]\n",
      " [1 1 1 1 1]]\n",
      "reduced cost: 24.387440976484942\n",
      "[21.259133857563373, 24.387440976484942]\n",
      "constraints:  2\n",
      "[21.259133857563373, 24.387440976484942]\n",
      "constraints:  2\n",
      "utilities:  [5. 0. 0. 0. 0. 0. 0.]\n",
      "value of LP:  5.0\n",
      "##############\n",
      "ITER: 3\n",
      "violations of rounding in SFM:  0\n",
      "[[1 1 1 1 1]\n",
      " [1 1 1 1 1]]\n",
      "reduced cost: 24.387440976484942\n",
      "[21.259133857563373, 24.387440976484942]\n",
      "constraints:  3\n",
      "[21.259133857563373, 24.387440976484942]\n",
      "constraints:  3\n",
      "utilities:  [5. 0. 0. 0. 0. 0. 0.]\n",
      "value of LP:  5.0\n",
      "##############\n",
      "ITER: 4\n",
      "violations of rounding in SFM:  0\n",
      "[[1 1 1 1 1]\n",
      " [1 1 1 1 1]]\n",
      "reduced cost: 24.387440976484942\n",
      "[21.259133857563373, 24.387440976484942]\n",
      "constraints:  4\n",
      "[21.259133857563373, 24.387440976484942]\n",
      "constraints:  4\n",
      "utilities:  [5. 0. 0. 0. 0. 0. 0.]\n",
      "value of LP:  5.0\n",
      "##############\n",
      "ITER: 5\n",
      "violations of rounding in SFM:  0\n",
      "[[1 1 1 1 1]\n",
      " [1 1 1 1 1]]\n",
      "reduced cost: 24.387440976484942\n",
      "[21.259133857563373, 24.387440976484942]\n",
      "constraints:  5\n",
      "[21.259133857563373, 24.387440976484942]\n",
      "constraints:  5\n",
      "utilities:  [5. 0. 0. 0. 0. 0. 0.]\n",
      "value of LP:  5.0\n",
      "##############\n",
      "ITER: 6\n",
      "violations of rounding in SFM:  0\n",
      "[[1 1 1 1 1]\n",
      " [1 1 1 1 1]]\n",
      "reduced cost: 24.387440976484942\n",
      "[21.259133857563373, 24.387440976484942]\n",
      "constraints:  6\n",
      "[21.259133857563373, 24.387440976484942]\n",
      "constraints:  6\n",
      "utilities:  [5. 0. 0. 0. 0. 0. 0.]\n",
      "value of LP:  5.0\n",
      "##############\n",
      "ITER: 7\n",
      "violations of rounding in SFM:  0\n",
      "[[1 1 1 1 1]\n",
      " [1 1 1 1 1]]\n",
      "reduced cost: 24.387440976484942\n",
      "[21.259133857563373, 24.387440976484942]\n",
      "constraints:  7\n",
      "[21.259133857563373, 24.387440976484942]\n",
      "constraints:  7\n",
      "utilities:  [5. 0. 0. 0. 0. 0. 0.]\n",
      "value of LP:  5.0\n"
     ]
    }
   ],
   "source": [
    "max_iters = 8\n",
    "tol = 1e-12\n",
    "\n",
    "\n",
    "constraints_list = []\n",
    "\n",
    "# Create the environment with license parameters\n",
    "with gp.Env(params=options) as env:\n",
    "    # Create a Gurobi model within the environment\n",
    "    with gp.Model(env=env) as model:\n",
    "        ### Initialize \n",
    "        # Create variables\n",
    "        u_i = model.addVars(I, lb= 0 ,ub= GRB.INFINITY, name=\"utilities\")\n",
    "        p_j = model.addVars(J, lb= 0 ,ub= GRB.INFINITY, name=\"prices\")\n",
    "\n",
    "        model.setObjective( u_i.sum() + p_j.sum(), GRB.MINIMIZE)\n",
    "        # Optimize the model\n",
    "        model.setParam('OutputFlag', 0)\n",
    "        model.optimize()\n",
    "        theta_solution = np.array(model.x)\n",
    "\n",
    "        ### Column Generation\n",
    "        iter = 0\n",
    "        while iter < max_iters:\n",
    "            print(\"##############\")\n",
    "            print(f\"ITER: {iter}\")\n",
    "            ### Pricing problem\n",
    "          \n",
    "            B_star_i, _ = maximize_supermodular(np.arange(I), lambda_star, 300, 1,\n",
    "                                                - np.ones(I)[:,None] * theta_solution[None, I:]) \n",
    "            print(B_star_i*1)\n",
    "            reduced_cost_i = []\n",
    "            for i in range(I):\n",
    "                  reduced_cost_i.append(φ_k(np.array([i]), np.where(B_star_i[i])[0].reshape(1,-1))[0] @ lambda_star \n",
    "                                - theta_solution[i] - theta_solution[I + np.where(B_star_i[i])[0] ].sum() )\n",
    "            reduced_cost_i = np.array(reduced_cost_i)\n",
    "\n",
    "            # stop if certificate holds\n",
    "            print(f\"reduced cost: {np.max(reduced_cost_i)}\")\n",
    "            if np.max(reduced_cost_i) <= tol:\n",
    "                primal_solution = np.array(model.x)\n",
    "                dual_solution = np.array(model.pi)\n",
    "                print(\"DONE!\")\n",
    "                break\n",
    "            \n",
    "            ### Master problem\n",
    "\n",
    "            # model.addConstrs((u_i[i] + gp.quicksum(p_j[j] for j in np.where(B_star_i[i])[0])>= \n",
    "            #                 φ_k(np.array([i]), np.where(B_star_i[i])[0].reshape(1,-1))[0] @ lambda_star \n",
    "            #                 for i in range(I)), name=\"constraint_batch\")\n",
    "            \n",
    "            model.addConstr(u_i[0] >= 5)\n",
    "   \n",
    "            \n",
    "            print([φ_k(np.array([i]), np.where(B_star_i[i])[0].reshape(1, -1))[0] @ lambda_star for i in range(I)])\n",
    "            print('constraints: ', model.NumConstrs)\n",
    "       \n",
    "        \n",
    "\n",
    "            print( [ φ_k(np.array([i]), np.where(B_star_i[i])[0].reshape(1,-1))[0] @ lambda_star  for i in range(I)])\n",
    "            print( 'constraints: ', model.NumConstrs)\n",
    "\n",
    "       \n",
    "            # stop for 3 seconds\n",
    "            time.sleep(3)\n",
    "            constraints_list.append(B_star_i)\n",
    "            print('utilities: ', theta_solution)\n",
    "            print('value of LP: ', model.ObjVal)\n",
    "\n",
    "            # Optimize the model\n",
    "            u_i.start = reduced_cost_i + theta_solution[:I]\n",
    "            p_j.start = theta_solution[-J:]\n",
    "            model.optimize()\n",
    "            theta_solution = np.array(model.x)\n",
    "            iter += 1\n",
    "            \n",
    "            "
   ]
  },
  {
   "cell_type": "code",
   "execution_count": 31,
   "metadata": {},
   "outputs": [
    {
     "data": {
      "text/plain": [
       "array([0.        , 3.12830712, 7.77523494, 1.19285725, 8.58321771,\n",
       "       1.29936872, 2.40845524])"
      ]
     },
     "execution_count": 31,
     "metadata": {},
     "output_type": "execute_result"
    }
   ],
   "source": [
    "theta_solution"
   ]
  },
  {
   "cell_type": "markdown",
   "metadata": {},
   "source": []
  },
  {
   "cell_type": "code",
   "execution_count": 32,
   "metadata": {},
   "outputs": [],
   "source": [
    "binding_constraints = np.array(constraints_list).reshape(-1,J)[dual_solution >0]\n",
    "index = np.kron(np.ones(iter, dtype= int),np.arange(I))\n",
    "matching = np.zeros((I ,J), dtype=bool)\n",
    "matching[index[dual_solution > 0]]= binding_constraints"
   ]
  },
  {
   "cell_type": "code",
   "execution_count": 33,
   "metadata": {},
   "outputs": [
    {
     "data": {
      "text/plain": [
       "array([1, 1, 1, 1, 1])"
      ]
     },
     "execution_count": 33,
     "metadata": {},
     "output_type": "execute_result"
    }
   ],
   "source": [
    "matching.sum(0)"
   ]
  },
  {
   "cell_type": "code",
   "execution_count": 34,
   "metadata": {},
   "outputs": [
    {
     "data": {
      "text/plain": [
       "array([[False, False, False, False, False],\n",
       "       [ True,  True,  True,  True,  True]])"
      ]
     },
     "execution_count": 34,
     "metadata": {},
     "output_type": "execute_result"
    }
   ],
   "source": [
    "matching"
   ]
  },
  {
   "cell_type": "code",
   "execution_count": null,
   "metadata": {},
   "outputs": [],
   "source": []
  }
 ],
 "metadata": {
  "kernelspec": {
   "display_name": "Python 3",
   "language": "python",
   "name": "python3"
  },
  "language_info": {
   "codemirror_mode": {
    "name": "ipython",
    "version": 3
   },
   "file_extension": ".py",
   "mimetype": "text/x-python",
   "name": "python",
   "nbconvert_exporter": "python",
   "pygments_lexer": "ipython3",
   "version": "3.12.0"
  }
 },
 "nbformat": 4,
 "nbformat_minor": 2
}
