{
 "cells": [
  {
   "cell_type": "code",
   "execution_count": 1,
   "metadata": {},
   "outputs": [],
   "source": [
    "import numpy as np\n",
    "import gurobipy as gp\n",
    "from gurobipy import GRB\n",
    "import time\n",
    "import itertools\n",
    "from itertools import product\n",
    "\n",
    "\n",
    "\n",
    "options = {\n",
    " \"WLSACCESSID\":\"a4353fb7-f95b-4075-b288-ca3f60983b36\",\n",
    "\"WLSSECRET\":\"d894d460-2dac-4210-8c40-c91c68ecfb13\",\n",
    "\"LICENSEID\":2562382\n",
    "}"
   ]
  },
  {
   "cell_type": "code",
   "execution_count": 2,
   "metadata": {},
   "outputs": [],
   "source": [
    "K = 3\n",
    "lambda_star = np.array([-1,3,1])\n",
    "\n",
    "I = 25\n",
    "J = 40\n",
    "# sigma = 1\n",
    "\n",
    "### generate exogenous data\n",
    "\n",
    "# np.random.seed(2)\n",
    "# φ_i_j_k = np.random.normal(0,1, size=[I,J,K])\n",
    "# # eps_ij = sigma * np.random.normal(0,1, size = [I,J])\n",
    "# def φ_k(i_idx,bundles):\n",
    "#     return (φ_i_j_k[i_idx[:,None], bundles,:]).sum(1)\n",
    "\n",
    "\n",
    "\n",
    "np.random.seed(4)\n",
    "φ_i_j_k = np.random.normal(0,5, size=[I,J,K-1])\n",
    "# eps_i_j = sigma * np.random.normal(0,1, size = [I,J])\n",
    "\n",
    "phi_j = np.random.normal(0,1, size=[J])**2\n",
    "t_j_j = np.random.normal(0,1, size=[J,J])**2\n",
    "t_j_sum = t_j_j.sum(1)\n",
    "def φ_k(i_idx,bundles):\n",
    "    complementarities_i_k = (phi_j[bundles] * (t_j_j[bundles[:,:,None] , bundles[:,None,:]]).sum(-1) \n",
    "                             / t_j_sum[bundles]).sum(-1)\n",
    "    \n",
    "    return np.hstack(((φ_i_j_k[i_idx[:,None], bundles,:]).sum(1), complementarities_i_k.reshape(-1, 1) ))"
   ]
  },
  {
   "cell_type": "code",
   "execution_count": 3,
   "metadata": {},
   "outputs": [],
   "source": [
    "def grad_lovatz_extension(i_idx, z_i_j, lambda_k, eps_i_j = None) :\n",
    "    if eps_i_j is None:\n",
    "        eps_i_j = np.zeros([len(i_idx),J])              \n",
    "\n",
    "    sorted_z_id_j = z_i_j.argsort(1)[:,::-1]\n",
    "\n",
    "    grad = np.zeros([len(z_i_j),J])\n",
    "    for j in range(J):\n",
    "        grad[np.arange(len(i_idx)),sorted_z_id_j[:,j]] = (φ_k(i_idx, sorted_z_id_j[:,np.arange(j+1)] ) @ lambda_k \n",
    "                                    - φ_k(i_idx, sorted_z_id_j[:,np.arange(j)] ) @ lambda_k  \n",
    "                                    + eps_i_j[np.arange(len(i_idx)),sorted_z_id_j[:,j]])\n",
    "    \n",
    "    return grad\n",
    "\n",
    "\n",
    "def maximize_supermodular(i_idx, lambda_k , num_iterations,alpha ,eps_i_j = None):\n",
    "\n",
    "    z_t = np.ones([len(i_idx),J])/2 \n",
    "\n",
    "    z_list = []\n",
    "    iter = 0 \n",
    "    for _ in range(num_iterations):\n",
    "        grad = grad_lovatz_extension(i_idx, z_t, lambda_k, eps_i_j) \n",
    "        z_new = z_t + alpha * grad / np.linalg.norm(grad)\n",
    "        z_new = np.clip(z_new, 0, 1)\n",
    "\n",
    "        z_t = z_new\n",
    "        z_list.append(z_new)\n",
    "        iter += 1\n",
    "\n",
    "    z_star = np.array(z_list)[-int(np.floor(num_iterations)/10):,:,:].mean(0)\n",
    "    bundle_star = np.array(z_star.round(0), dtype= bool)\n",
    "\n",
    "    return bundle_star, z_star"
   ]
  },
  {
   "cell_type": "code",
   "execution_count": 4,
   "metadata": {},
   "outputs": [],
   "source": [
    "# def maximize_naive(i_idx, lambda_k  ,eps_i_j = None):\n",
    "#     if eps_i_j is None:\n",
    "#         eps_i_j = np.zeros([len(i_idx),J]) \n",
    "    \n",
    "#     bundle_star = (φ_i_j_k[i_idx] @ lambda_star + eps_i_j) > 1e-13\n",
    "#     print( np.max(φ_i_j_k[i_idx] @ lambda_star + eps_i_j))\n",
    "#     return bundle_star"
   ]
  },
  {
   "cell_type": "code",
   "execution_count": 5,
   "metadata": {},
   "outputs": [
    {
     "name": "stdout",
     "output_type": "stream",
     "text": [
      "Set parameter WLSAccessID\n",
      "Set parameter WLSSecret\n",
      "Set parameter LicenseID to value 2562382\n",
      "Academic license 2562382 - for non-commercial use only - registered to ed___@nyu.edu\n",
      "ITER: 0\n",
      "reduced cost: 372.4209340368052\n",
      "##############\n",
      "ITER: 1\n",
      "reduced cost: 233.84727223929275\n",
      "##############\n",
      "ITER: 2\n"
     ]
    },
    {
     "ename": "KeyboardInterrupt",
     "evalue": "",
     "output_type": "error",
     "traceback": [
      "\u001b[0;31m---------------------------------------------------------------------------\u001b[0m",
      "\u001b[0;31mKeyboardInterrupt\u001b[0m                         Traceback (most recent call last)",
      "Cell \u001b[0;32mIn[5], line 28\u001b[0m\n\u001b[1;32m     25\u001b[0m \u001b[38;5;28mprint\u001b[39m(\u001b[38;5;124mf\u001b[39m\u001b[38;5;124m\"\u001b[39m\u001b[38;5;124mITER: \u001b[39m\u001b[38;5;132;01m{\u001b[39;00m\u001b[38;5;28miter\u001b[39m\u001b[38;5;132;01m}\u001b[39;00m\u001b[38;5;124m\"\u001b[39m)\n\u001b[1;32m     26\u001b[0m \u001b[38;5;66;03m### Pricing problem\u001b[39;00m\n\u001b[0;32m---> 28\u001b[0m B_star_i, _ \u001b[38;5;241m=\u001b[39m \u001b[43mmaximize_supermodular\u001b[49m\u001b[43m(\u001b[49m\u001b[43mnp\u001b[49m\u001b[38;5;241;43m.\u001b[39;49m\u001b[43marange\u001b[49m\u001b[43m(\u001b[49m\u001b[43mI\u001b[49m\u001b[43m)\u001b[49m\u001b[43m,\u001b[49m\u001b[43m \u001b[49m\u001b[43mlambda_star\u001b[49m\u001b[43m,\u001b[49m\u001b[43m \u001b[49m\u001b[38;5;241;43m300\u001b[39;49m\u001b[43m,\u001b[49m\u001b[43m \u001b[49m\u001b[38;5;241;43m1\u001b[39;49m\u001b[43m,\u001b[49m\n\u001b[1;32m     29\u001b[0m \u001b[43m                                    \u001b[49m\u001b[38;5;241;43m-\u001b[39;49m\u001b[43m \u001b[49m\u001b[43mnp\u001b[49m\u001b[38;5;241;43m.\u001b[39;49m\u001b[43mones\u001b[49m\u001b[43m(\u001b[49m\u001b[43mI\u001b[49m\u001b[43m)\u001b[49m\u001b[43m[\u001b[49m\u001b[43m:\u001b[49m\u001b[43m,\u001b[49m\u001b[38;5;28;43;01mNone\u001b[39;49;00m\u001b[43m]\u001b[49m\u001b[43m \u001b[49m\u001b[38;5;241;43m*\u001b[39;49m\u001b[43m \u001b[49m\u001b[43mtheta_solution\u001b[49m\u001b[43m[\u001b[49m\u001b[38;5;28;43;01mNone\u001b[39;49;00m\u001b[43m,\u001b[49m\u001b[43m \u001b[49m\u001b[43mI\u001b[49m\u001b[43m:\u001b[49m\u001b[43m]\u001b[49m\u001b[43m)\u001b[49m \n\u001b[1;32m     30\u001b[0m reduced_cost_i \u001b[38;5;241m=\u001b[39m []\n\u001b[1;32m     31\u001b[0m \u001b[38;5;28;01mfor\u001b[39;00m i \u001b[38;5;129;01min\u001b[39;00m \u001b[38;5;28mrange\u001b[39m(I):\n",
      "Cell \u001b[0;32mIn[3], line 23\u001b[0m, in \u001b[0;36mmaximize_supermodular\u001b[0;34m(i_idx, lambda_k, num_iterations, alpha, eps_i_j)\u001b[0m\n\u001b[1;32m     21\u001b[0m \u001b[38;5;28miter\u001b[39m \u001b[38;5;241m=\u001b[39m \u001b[38;5;241m0\u001b[39m \n\u001b[1;32m     22\u001b[0m \u001b[38;5;28;01mfor\u001b[39;00m _ \u001b[38;5;129;01min\u001b[39;00m \u001b[38;5;28mrange\u001b[39m(num_iterations):\n\u001b[0;32m---> 23\u001b[0m     grad \u001b[38;5;241m=\u001b[39m \u001b[43mgrad_lovatz_extension\u001b[49m\u001b[43m(\u001b[49m\u001b[43mi_idx\u001b[49m\u001b[43m,\u001b[49m\u001b[43m \u001b[49m\u001b[43mz_t\u001b[49m\u001b[43m,\u001b[49m\u001b[43m \u001b[49m\u001b[43mlambda_k\u001b[49m\u001b[43m,\u001b[49m\u001b[43m \u001b[49m\u001b[43meps_i_j\u001b[49m\u001b[43m)\u001b[49m \n\u001b[1;32m     24\u001b[0m     z_new \u001b[38;5;241m=\u001b[39m z_t \u001b[38;5;241m+\u001b[39m alpha \u001b[38;5;241m*\u001b[39m grad \u001b[38;5;241m/\u001b[39m np\u001b[38;5;241m.\u001b[39mlinalg\u001b[38;5;241m.\u001b[39mnorm(grad)\n\u001b[1;32m     25\u001b[0m     z_new \u001b[38;5;241m=\u001b[39m np\u001b[38;5;241m.\u001b[39mclip(z_new, \u001b[38;5;241m0\u001b[39m, \u001b[38;5;241m1\u001b[39m)\n",
      "Cell \u001b[0;32mIn[3], line 9\u001b[0m, in \u001b[0;36mgrad_lovatz_extension\u001b[0;34m(i_idx, z_i_j, lambda_k, eps_i_j)\u001b[0m\n\u001b[1;32m      7\u001b[0m grad \u001b[38;5;241m=\u001b[39m np\u001b[38;5;241m.\u001b[39mzeros([\u001b[38;5;28mlen\u001b[39m(z_i_j),J])\n\u001b[1;32m      8\u001b[0m \u001b[38;5;28;01mfor\u001b[39;00m j \u001b[38;5;129;01min\u001b[39;00m \u001b[38;5;28mrange\u001b[39m(J):\n\u001b[0;32m----> 9\u001b[0m     grad[np\u001b[38;5;241m.\u001b[39marange(\u001b[38;5;28mlen\u001b[39m(i_idx)),sorted_z_id_j[:,j]] \u001b[38;5;241m=\u001b[39m (\u001b[43mφ_k\u001b[49m\u001b[43m(\u001b[49m\u001b[43mi_idx\u001b[49m\u001b[43m,\u001b[49m\u001b[43m \u001b[49m\u001b[43msorted_z_id_j\u001b[49m\u001b[43m[\u001b[49m\u001b[43m:\u001b[49m\u001b[43m,\u001b[49m\u001b[43mnp\u001b[49m\u001b[38;5;241;43m.\u001b[39;49m\u001b[43marange\u001b[49m\u001b[43m(\u001b[49m\u001b[43mj\u001b[49m\u001b[38;5;241;43m+\u001b[39;49m\u001b[38;5;241;43m1\u001b[39;49m\u001b[43m)\u001b[49m\u001b[43m]\u001b[49m\u001b[43m \u001b[49m\u001b[43m)\u001b[49m \u001b[38;5;241m@\u001b[39m lambda_k \n\u001b[1;32m     10\u001b[0m                                 \u001b[38;5;241m-\u001b[39m φ_k(i_idx, sorted_z_id_j[:,np\u001b[38;5;241m.\u001b[39marange(j)] ) \u001b[38;5;241m@\u001b[39m lambda_k  \n\u001b[1;32m     11\u001b[0m                                 \u001b[38;5;241m+\u001b[39m eps_i_j[np\u001b[38;5;241m.\u001b[39marange(\u001b[38;5;28mlen\u001b[39m(i_idx)),sorted_z_id_j[:,j]])\n\u001b[1;32m     13\u001b[0m \u001b[38;5;28;01mreturn\u001b[39;00m grad\n",
      "Cell \u001b[0;32mIn[2], line 26\u001b[0m, in \u001b[0;36mφ_k\u001b[0;34m(i_idx, bundles)\u001b[0m\n\u001b[1;32m     25\u001b[0m \u001b[38;5;28;01mdef\u001b[39;00m \u001b[38;5;21mφ_k\u001b[39m(i_idx,bundles):\n\u001b[0;32m---> 26\u001b[0m     complementarities_i_k \u001b[38;5;241m=\u001b[39m (phi_j[bundles] \u001b[38;5;241m*\u001b[39m \u001b[43m(\u001b[49m\u001b[43mt_j_j\u001b[49m\u001b[43m[\u001b[49m\u001b[43mbundles\u001b[49m\u001b[43m[\u001b[49m\u001b[43m:\u001b[49m\u001b[43m,\u001b[49m\u001b[43m:\u001b[49m\u001b[43m,\u001b[49m\u001b[38;5;28;43;01mNone\u001b[39;49;00m\u001b[43m]\u001b[49m\u001b[43m \u001b[49m\u001b[43m,\u001b[49m\u001b[43m \u001b[49m\u001b[43mbundles\u001b[49m\u001b[43m[\u001b[49m\u001b[43m:\u001b[49m\u001b[43m,\u001b[49m\u001b[38;5;28;43;01mNone\u001b[39;49;00m\u001b[43m,\u001b[49m\u001b[43m:\u001b[49m\u001b[43m]\u001b[49m\u001b[43m]\u001b[49m\u001b[43m)\u001b[49m\u001b[38;5;241;43m.\u001b[39;49m\u001b[43msum\u001b[49m\u001b[43m(\u001b[49m\u001b[38;5;241;43m-\u001b[39;49m\u001b[38;5;241;43m1\u001b[39;49m\u001b[43m)\u001b[49m \n\u001b[1;32m     27\u001b[0m                              \u001b[38;5;241m/\u001b[39m t_j_sum[bundles])\u001b[38;5;241m.\u001b[39msum(\u001b[38;5;241m-\u001b[39m\u001b[38;5;241m1\u001b[39m)\n\u001b[1;32m     29\u001b[0m     \u001b[38;5;28;01mreturn\u001b[39;00m np\u001b[38;5;241m.\u001b[39mhstack(((φ_i_j_k[i_idx[:,\u001b[38;5;28;01mNone\u001b[39;00m], bundles,:])\u001b[38;5;241m.\u001b[39msum(\u001b[38;5;241m1\u001b[39m), complementarities_i_k\u001b[38;5;241m.\u001b[39mreshape(\u001b[38;5;241m-\u001b[39m\u001b[38;5;241m1\u001b[39m, \u001b[38;5;241m1\u001b[39m) ))\n",
      "File \u001b[0;32m/Library/Frameworks/Python.framework/Versions/3.12/lib/python3.12/site-packages/numpy/core/_methods.py:49\u001b[0m, in \u001b[0;36m_sum\u001b[0;34m(a, axis, dtype, out, keepdims, initial, where)\u001b[0m\n\u001b[1;32m     47\u001b[0m \u001b[38;5;28;01mdef\u001b[39;00m \u001b[38;5;21m_sum\u001b[39m(a, axis\u001b[38;5;241m=\u001b[39m\u001b[38;5;28;01mNone\u001b[39;00m, dtype\u001b[38;5;241m=\u001b[39m\u001b[38;5;28;01mNone\u001b[39;00m, out\u001b[38;5;241m=\u001b[39m\u001b[38;5;28;01mNone\u001b[39;00m, keepdims\u001b[38;5;241m=\u001b[39m\u001b[38;5;28;01mFalse\u001b[39;00m,\n\u001b[1;32m     48\u001b[0m          initial\u001b[38;5;241m=\u001b[39m_NoValue, where\u001b[38;5;241m=\u001b[39m\u001b[38;5;28;01mTrue\u001b[39;00m):\n\u001b[0;32m---> 49\u001b[0m     \u001b[38;5;28;01mreturn\u001b[39;00m \u001b[43mumr_sum\u001b[49m\u001b[43m(\u001b[49m\u001b[43ma\u001b[49m\u001b[43m,\u001b[49m\u001b[43m \u001b[49m\u001b[43maxis\u001b[49m\u001b[43m,\u001b[49m\u001b[43m \u001b[49m\u001b[43mdtype\u001b[49m\u001b[43m,\u001b[49m\u001b[43m \u001b[49m\u001b[43mout\u001b[49m\u001b[43m,\u001b[49m\u001b[43m \u001b[49m\u001b[43mkeepdims\u001b[49m\u001b[43m,\u001b[49m\u001b[43m \u001b[49m\u001b[43minitial\u001b[49m\u001b[43m,\u001b[49m\u001b[43m \u001b[49m\u001b[43mwhere\u001b[49m\u001b[43m)\u001b[49m\n",
      "\u001b[0;31mKeyboardInterrupt\u001b[0m: "
     ]
    }
   ],
   "source": [
    "max_iters = 100\n",
    "tol = 1e-12\n",
    "\n",
    "\n",
    "constraints_list = []\n",
    "\n",
    "# Create the environment with license parameters\n",
    "with gp.Env(params=options) as env:\n",
    "    # Create a Gurobi model within the environment\n",
    "    with gp.Model(env=env) as model:\n",
    "        ### Initialize \n",
    "        # Create variables\n",
    "        u_i = model.addVars(I, lb= 0 ,ub= GRB.INFINITY, name=\"utilities\")\n",
    "        p_j = model.addVars(J, lb= 0 ,ub= GRB.INFINITY, name=\"prices\")\n",
    "\n",
    "        model.setObjective( u_i.sum() + p_j.sum(), GRB.MINIMIZE)\n",
    "        # Optimize the model\n",
    "        model.setParam('OutputFlag', 0)\n",
    "        model.optimize()\n",
    "        theta_solution = np.array(model.x)\n",
    "\n",
    "        ### Column Generation\n",
    "        iter = 0\n",
    "        while iter < max_iters:\n",
    "            print(f\"ITER: {iter}\")\n",
    "            ### Pricing problem\n",
    "          \n",
    "            B_star_i, _ = maximize_supermodular(np.arange(I), lambda_star, 300, 1,\n",
    "                                                - np.ones(I)[:,None] * theta_solution[None, I:]) \n",
    "            reduced_cost_i = []\n",
    "            for i in range(I):\n",
    "                  reduced_cost_i.append(φ_k(np.array([i]), np.where(B_star_i[i])[0].reshape(1,-1))[0] @ lambda_star \n",
    "                                - theta_solution[i] - theta_solution[I + np.where(B_star_i[i])[0] ].sum() )\n",
    "            reduced_cost_i = np.array(reduced_cost_i)\n",
    "\n",
    "            # stop if certificate holds\n",
    "            print(f\"reduced cost: {np.max(reduced_cost_i)}\")\n",
    "            if np.max(reduced_cost_i) <= tol:\n",
    "                primal_solution = np.array(model.x)\n",
    "                dual_solution = np.array(model.pi)\n",
    "                print(\"DONE!\")\n",
    "                break\n",
    "            \n",
    "            ### Master problem\n",
    "\n",
    "            model.addConstrs((u_i[i] + gp.quicksum(p_j[j] for j in np.where(B_star_i[i])[0])>= \n",
    "                            φ_k(np.array([i]), np.where(B_star_i[i])[0].reshape(1,-1))[0] @ lambda_star \n",
    "                            for i in range(I)), name=\"constraint_batch\")\n",
    "            \n",
    "            constraints_list.append(B_star_i)\n",
    "\n",
    "            # Optimize the model\n",
    "            u_i.start = reduced_cost_i + theta_solution[:I]\n",
    "            p_j.start = theta_solution[-J:]\n",
    "            model.optimize()\n",
    "            theta_solution = np.array(model.x)\n",
    "            iter += 1\n",
    "            print(\"##############\")\n",
    "            "
   ]
  },
  {
   "cell_type": "code",
   "execution_count": 6,
   "metadata": {},
   "outputs": [
    {
     "data": {
      "text/plain": [
       "array([ 0.        ,  0.        ,  0.        ,  9.83181225,  0.        ,\n",
       "        0.        ,  4.30370916,  0.        ,  0.        ,  0.        ,\n",
       "        0.        ,  0.        ,  0.        ,  0.        ,  1.96030218,\n",
       "        8.40897528,  5.49174899,  0.        ,  0.        , 12.33122507,\n",
       "        0.        ,  0.        ,  0.        ,  0.        ,  0.        ])"
      ]
     },
     "execution_count": 6,
     "metadata": {},
     "output_type": "execute_result"
    }
   ],
   "source": [
    "theta_solution[:I]"
   ]
  },
  {
   "cell_type": "code",
   "execution_count": 7,
   "metadata": {},
   "outputs": [],
   "source": [
    "binding_constraints = np.array(constraints_list).reshape(-1,J)[dual_solution >0]\n",
    "index = np.kron(np.ones(iter, dtype= int),np.arange(I))\n",
    "matching = np.zeros((I ,J), dtype=bool)\n",
    "matching[index[dual_solution > 0]]= binding_constraints"
   ]
  },
  {
   "cell_type": "code",
   "execution_count": 8,
   "metadata": {},
   "outputs": [
    {
     "data": {
      "text/plain": [
       "array([1, 1, 1, 1, 1, 1, 1, 1, 1, 1, 1, 1, 1, 1, 1, 1, 1, 1, 1, 1, 1, 1,\n",
       "       1, 1, 1, 1, 1, 1, 1, 1, 1, 1, 1, 1, 1, 1, 1, 1, 1, 1])"
      ]
     },
     "execution_count": 8,
     "metadata": {},
     "output_type": "execute_result"
    }
   ],
   "source": [
    "matching.sum(0)"
   ]
  },
  {
   "cell_type": "code",
   "execution_count": null,
   "metadata": {},
   "outputs": [],
   "source": []
  }
 ],
 "metadata": {
  "kernelspec": {
   "display_name": "Python 3",
   "language": "python",
   "name": "python3"
  },
  "language_info": {
   "codemirror_mode": {
    "name": "ipython",
    "version": 3
   },
   "file_extension": ".py",
   "mimetype": "text/x-python",
   "name": "python",
   "nbconvert_exporter": "python",
   "pygments_lexer": "ipython3",
   "version": "3.12.0"
  }
 },
 "nbformat": 4,
 "nbformat_minor": 2
}
