{
 "cells": [
  {
   "cell_type": "code",
   "execution_count": 1,
   "metadata": {},
   "outputs": [],
   "source": [
    "import numpy as np\n",
    "from scipy.optimize import linprog\n",
    "# import scipy.sparse as spr\n",
    "import itertools\n",
    "# from scipy.linalg import sqrtm\n",
    "# from jax.scipy.optimize import minimize\n",
    "# import jax.numpy as jnp\n",
    "# import jax\n",
    "\n"
   ]
  },
  {
   "cell_type": "markdown",
   "metadata": {},
   "source": [
    "# Bundled choice "
   ]
  },
  {
   "cell_type": "markdown",
   "metadata": {},
   "source": [
    "$$ \\begin{align*}\n",
    "    \\min_{\\lambda, u} & \\sum_i u_i  - \\sum_{ik} \\phi_{i\\hat{B}_i,k} \\lambda_k \\\\\n",
    "    s.t. & \\quad u_i \\geq  \\phi_{iB0} + \\sum_k \\phi_{iB,k} \\lambda_k \\quad \\text{for all } iB \\in I \\times 2^Y\n",
    "\\end{align*}$$\n",
    "Since typically $ \\phi_{i\\emptyset k}=0 $ for each $k \\in [0,K]$ (i.e. the outside option is normilized to zero) we have $u_i \\geq 0.$ We also **assume** that $\\lambda \\geq 0 .$"
   ]
  },
  {
   "cell_type": "markdown",
   "metadata": {},
   "source": [
    "Since \n",
    "\n",
    "$$ \\begin{align*}\n",
    "    \\min_{(\\lambda, u)\\geq 0} & \\sum_i u_i  - \\sum_k \\phi_{i\\hat{B}_i,k} \\lambda_k \\\\\n",
    "    s.t. & \\quad u_i - \\phi_{iB0} - \\sum_k \\phi_{iB,k} \\lambda_k - s_{iB} = 0  \\quad \\text{for all } iB \\in \\mathcal{C} \n",
    "\\end{align*}$$\n",
    "\n",
    "In standard form we have the problem\n",
    "$$ \\begin{align*}\n",
    "    \\min_{x \\geq 0} & \\quad c ^\\top x\\\\\n",
    "    s.t. & \\quad  A x = b \n",
    "\\end{align*}$$\n",
    "where\n",
    "*  $b = \\phi^{\\mathcal{C}}_{0},$\n",
    "* $c = ( -\\hat{\\phi}, \\bm{1}_{I}, \\bm{0}_{|\\mathcal{C}|} ) $ with $ \\hat{\\phi}_k = \\phi_{i\\hat{B}_i,k}$ \n",
    "* $A = \\begin{pmatrix} \\Phi^{\\mathcal{C}} & \\delta^{\\mathcal{C}+} & \\bm{I}_{|\\mathcal{C}|} \\end{pmatrix}$ where $\\delta^{\\mathcal{C}+}_{iB, \\ell}  = \\bm{1}_{i = \\ell}$  is the out-incidence matrix of $\\mathcal{C}.$\n",
    "\n",
    "\n",
    "This problem has $K +I+ |\\mathcal{C}| $ variables and $ |\\mathcal{C}|$ equality constraints."
   ]
  },
  {
   "cell_type": "markdown",
   "metadata": {},
   "source": [
    "### Gross-Substitutes"
   ]
  },
  {
   "cell_type": "code",
   "execution_count": 2,
   "metadata": {},
   "outputs": [],
   "source": [
    "K = 4\n",
    "lambda_k = np.array([4,4,4,2])\n",
    "\n",
    "I = 30\n",
    "Y = 100\n",
    "sigma = 1\n",
    "\n",
    "### generate exogenous data\n",
    "\n",
    "np.random.seed(1)\n",
    "# φ_i_y_0 =  np.random.normal(0,1, size = [I,Y]) \n",
    "φ_i_y_0 =  np.random.normal(1,1, size = [I])[:,None] * np.random.normal(0,1, size = [Y])[None, :]\n",
    "φ_i_y_k = np.random.normal(1,1, size=[I,Y,K-1])\n",
    "# φ_i_y_k = np.ones(I)[:,None,None] * np.random.normal(1,1, size=[Y,K-1])[None,:,:]\n",
    "# φ_i_y_k[:,:,0] = np.random.normal(1,1, size=[I])[:,None] * np.ones(Y)[None,:]\n",
    "\n",
    "eps_iy = sigma * np.random.normal(0,1, size = [I,Y])\n",
    "\n",
    "def φ_k(i,B):\n",
    "    return np.concatenate( (φ_i_y_k[i,B,:].sum(0), [ - np.sum(B)**(1.5)]))\n",
    "\n",
    "def Φ_scalar(i,B, lambda_k):\n",
    "    \n",
    "    φ_k = np.concatenate( (φ_i_y_k[i,B,:].sum(0), [ - np.sum(B)**(1.5)]))\n",
    "\n",
    "    return φ_i_y_0[i,B].sum() + np.dot(φ_k, lambda_k)"
   ]
  },
  {
   "cell_type": "code",
   "execution_count": 3,
   "metadata": {},
   "outputs": [],
   "source": [
    "### greedy\n",
    "def greedy(i,lambda_k, p_y = np.zeros(Y)):\n",
    "    B_k =  np.zeros(Y, dtype=bool)\n",
    "    val = Φ_scalar(i,B_k, lambda_k)\n",
    "    k = 0 \n",
    "    while k < Y:\n",
    "        y_k = None\n",
    "        max_add_y =  - np.inf\n",
    "        for y in np.where(1-B_k)[0]:\n",
    "            val_add_y = Φ_scalar(i,B_k+ np.eye(1,Y,y,dtype=bool)[0] , lambda_k)   - p_y[y] - p_y[B_k].sum() - val\n",
    "            if val_add_y > max_add_y:\n",
    "                y_k = y\n",
    "                max_add_y = val_add_y\n",
    "            \n",
    "        if y_k is None or max_add_y < 0:\n",
    "            break\n",
    "        val += max_add_y \n",
    "        B_k[y_k] = 1\n",
    "        k += 1\n",
    "    return B_k , val"
   ]
  },
  {
   "cell_type": "code",
   "execution_count": 4,
   "metadata": {},
   "outputs": [
    {
     "name": "stdout",
     "output_type": "stream",
     "text": [
      "29.2\n",
      "1.973153144926499\n",
      "33\n",
      "25\n"
     ]
    }
   ],
   "source": [
    "B_hat_i = np.zeros([I,Y], dtype= bool)\n",
    "for i in range(I):\n",
    "    B_hat_i[i] = greedy(i, lambda_k, - eps_iy[i] )[0]  \n",
    "print(np.mean(B_hat_i.sum(1)))\n",
    "print(np.std(B_hat_i.sum(1)))\n",
    "print(np.max(np.sum(B_hat_i,1)))\n",
    "print(np.min(np.sum(B_hat_i,1)))"
   ]
  },
  {
   "cell_type": "markdown",
   "metadata": {},
   "source": [
    "Estimation"
   ]
  },
  {
   "cell_type": "markdown",
   "metadata": {},
   "source": [
    "$$ \\begin{align*}\n",
    "    \\min_{x \\geq 0} & \\quad c ^\\top x\\\\\n",
    "    s.t. & \\quad  A x \\geq b \n",
    "\\end{align*}$$\n",
    "* $c = \\begin{pmatrix} -  \\phi_{i\\hat{B}_i 0}  \\\\ \\bm{1}_I \\end{pmatrix}$\n",
    "* $A = \\begin{pmatrix} -\\phi & \\bm{I}_I \\otimes \\bm{1}_{2^Y}  \\end{pmatrix}$ \n",
    "* $ b =  \\phi_0$\n"
   ]
  },
  {
   "cell_type": "code",
   "execution_count": 5,
   "metadata": {},
   "outputs": [],
   "source": [
    "# ### brute force\n",
    "\n",
    "# ### Cost\n",
    "\n",
    "# c = np.ones([K+I])\n",
    "\n",
    "\n",
    "# phi_hat = 0\n",
    "\n",
    "# φ_hat_k = np.zeros([I,K])\n",
    "# for i in range(I):\n",
    "#     φ_hat_k[i] = φ_k(i,B_hat_i[i])\n",
    "\n",
    "# phi_hat =  φ_hat_k.sum(0) \n",
    "\n",
    "# c[:K] =  - phi_hat\n",
    "\n",
    "# ### Constraints\n",
    "# all_bundles = np.array([np.array(seq) for seq in itertools.product([0, 1], repeat= Y)], dtype = bool)\n",
    "\n",
    "# phi = np.zeros([I,2 ** Y , K])\n",
    "# for i in range(I):\n",
    "#     for id , B in enumerate(all_bundles[1:]):\n",
    "#         phi[i, id , :] = φ_k(i, B)\n",
    "\n",
    "\n",
    "# A_all = np.block([- phi.reshape( I * (2**Y ), K) ,  np.kron(np.eye(I), np.ones((2**Y ,1)) ) ])\n",
    "\n",
    "\n",
    "# phi_0 = np.zeros([I,2 ** Y ] )\n",
    "# for i in range(I):\n",
    "#     for id, B in enumerate(all_bundles[1:]):\n",
    "#         phi_0[i, id] = φ_i_y_0[i,B].sum()\n",
    "\n",
    "# b_all = phi_0.reshape([I * (2 ** Y )])\n",
    "\n",
    "# print(\"starting estimation...\")\n",
    "\n",
    "# res = linprog(c, A_ub = - A_all, b_ub =  - b_all, bounds=(None,None), method='highs')\n",
    "# # print(res)\n",
    "# print(res.status)\n",
    "# print(res.x[:K])\n",
    "# print(res.fun)"
   ]
  },
  {
   "cell_type": "markdown",
   "metadata": {},
   "source": [
    "### Column generation:"
   ]
  },
  {
   "cell_type": "markdown",
   "metadata": {},
   "source": [
    "I start with columns $\\mathcal{C} = \\{i \\hat{B}_i\\}_i$"
   ]
  },
  {
   "cell_type": "code",
   "execution_count": 6,
   "metadata": {},
   "outputs": [],
   "source": [
    "φ_hat_k = np.array([φ_k(i,B_hat_i[i]) for i in range(I)])"
   ]
  },
  {
   "cell_type": "code",
   "execution_count": 7,
   "metadata": {},
   "outputs": [],
   "source": [
    "def minimax_regret(φ_hat_k,B_hat_i, φ_i_y_0, iters):\n",
    "    c = np.ones([K+I])\n",
    "    c[:K] =  - φ_hat_k.sum(0)\n",
    "    b_t = np.array([φ_i_y_0[i,B_hat_i[i]].sum() for i in range(I)])\n",
    "    A_t =  np.block([- φ_hat_k,np.eye(I)])\n",
    "\n",
    "    res = linprog(c, A_ub = -A_t, b_ub = -b_t, bounds=(None,None), method='highs')\n",
    "    # print(res.x)\n",
    "    iter = 0\n",
    "    for _ in range(iters):\n",
    "        B_star_i = []\n",
    "        val_i = []\n",
    "        for i in range(I):\n",
    "            B_star, val = greedy(i,lambda_k= res.x[:K])\n",
    "            B_star_i.append(B_star)\n",
    "            val_i.append(val - res.x[  K+ i] ) \n",
    "        print(np.max(val_i) )\n",
    "        if np.max(val_i) < 1e-12:\n",
    "            print(f\"solution found! Iterations: {iter}\")\n",
    "            print(res.fun)\n",
    "            break\n",
    "        \n",
    "        # add to C\n",
    "        rows_to_add = np.block([ - np.array([φ_k(i,B_star_i[i]) for i in range(I)]),\n",
    "                                np.eye(I) ])\n",
    "        A_t = np.block([[A_t],\n",
    "                        [ rows_to_add] ])\n",
    "        b_t = np.concatenate((b_t, np.array([φ_i_y_0[i,B_star_i[i]].sum() for i in range(I)])))\n",
    "\n",
    "        res = linprog(c, A_ub = - A_t, b_ub = - b_t, bounds=(None,None), method='highs')\n",
    "        # print(res.x[:K] )\n",
    "        iter += 1\n",
    "    return res.x[:K]"
   ]
  },
  {
   "cell_type": "code",
   "execution_count": 8,
   "metadata": {},
   "outputs": [
    {
     "name": "stdout",
     "output_type": "stream",
     "text": [
      "80.14927862181396\n",
      "227.30133972409988\n",
      "47.467384812326586\n",
      "80.16534351088887\n",
      "33.57574769967226\n",
      "97.5638047820172\n",
      "75.76837177953854\n",
      "51.276598008318146\n",
      "19.735573380187674\n",
      "25.07966341695763\n",
      "19.44070820478987\n",
      "6.097340521208707\n",
      "12.182426108205163\n",
      "3.756099555660626\n",
      "1.9074235352605342\n",
      "0.8145196434290085\n",
      "0.5378708452659282\n",
      "0.024069308112387944\n",
      "5.684341886080802e-14\n",
      "solution found! Iterations: 18\n",
      "358.547312897078\n",
      "[2.98746049 2.91446381 3.04615907 1.49251838]\n",
      "[4 4 4 2]\n"
     ]
    }
   ],
   "source": [
    "print(minimax_regret(φ_hat_k,B_hat_i, φ_i_y_0, 30))\n",
    "print(lambda_k)"
   ]
  },
  {
   "cell_type": "markdown",
   "metadata": {},
   "source": [
    "### GMM by simulation"
   ]
  },
  {
   "cell_type": "code",
   "execution_count": 9,
   "metadata": {},
   "outputs": [],
   "source": [
    "S = 30\n",
    "# sigma = 1\n",
    "np.random.seed(987)\n",
    "eps_is_y = sigma * np.random.normal(0,1, size = [I * S,Y]) \n"
   ]
  },
  {
   "cell_type": "code",
   "execution_count": 10,
   "metadata": {},
   "outputs": [
    {
     "name": "stdout",
     "output_type": "stream",
     "text": [
      "101.48086959899956\n",
      "177.97762298013654\n",
      "59.407877729151934\n",
      "60.98859701290192\n",
      "41.576814462548896\n",
      "19.709989458403328\n",
      "115.47077729332659\n",
      "16.317935543460578\n",
      "7.417036596322134\n",
      "3.3944149746825474\n",
      "1.4432814361450141\n",
      "0.7091017305302785\n",
      "0.21100899632415349\n",
      "0.056309175907756526\n",
      "1.7053025658242404e-13\n",
      "solution found! Iterations: 14\n",
      "452.3399653073508\n",
      "[3.97414917 4.002409   4.04904016 1.99472451]\n",
      "[4 4 4 2]\n"
     ]
    }
   ],
   "source": [
    "iters =  50\n",
    "\n",
    "φ_hat_k = np.array([φ_k(i, B_hat_i[i]) for i in range(I)])\n",
    "c = np.ones([ K + I * S])/S\n",
    "c[:K] =  - φ_hat_k.sum(0)\n",
    "\n",
    "b_t = np.array([φ_i_y_0[i_s // S,B_hat_i[i_s // S]].sum() \n",
    "                + eps_is_y[i_s, B_hat_i[i_s // S]].sum()\n",
    "                for i_s in range(I * S)])\n",
    "A_t =  np.block([- np.kron(φ_hat_k, np.ones((S, 1))) , np.eye(I * S)])\n",
    "\n",
    "res = linprog(c, A_ub = -A_t, b_ub = -b_t, bounds=(None,None), method='highs')\n",
    "\n",
    "iter = 0\n",
    "for _ in range(iters):\n",
    "    ### Pricing Problem\n",
    "    B_star_is = []\n",
    "    val_is = []\n",
    "    for i_s in range(I * S):\n",
    "        B_star, val = greedy(i_s // S , lambda_k = res.x[:K], p_y =  - eps_is_y[i_s])\n",
    "        B_star_is.append(B_star)\n",
    "        val_is.append(val - res.x[K + i_s] ) \n",
    "    print(np.max(val_is) )\n",
    "    if np.max(val_is) < 1e-12:\n",
    "        print(f\"solution found! Iterations: {iter}\")\n",
    "        print(res.fun)\n",
    "        break\n",
    "    ### Master Problem\n",
    "    rows_to_add = np.block([ - np.array([φ_k(i_s // S ,B_star_is[i_s]) for i_s in range(I * S)]),\n",
    "                                np.eye(I * S) ])\n",
    "    A_t = np.block([[A_t],\n",
    "                    [rows_to_add] ])\n",
    "    b_t = np.concatenate((b_t, \n",
    "                        np.array([φ_i_y_0[i_s // S , B_star_is[i_s]].sum() \n",
    "                                  + eps_is_y[i_s, B_star_is[i_s]].sum() \n",
    "                                for i_s in range(I * S)])))\n",
    "\n",
    "    res = linprog(c, A_ub = - A_t, b_ub = - b_t, bounds=(None,None), method='highs')\n",
    "\n",
    "    iter += 1\n",
    "\n",
    "print(res.x[:K])\n",
    "print(lambda_k)"
   ]
  }
 ],
 "metadata": {
  "kernelspec": {
   "display_name": "Python 3",
   "language": "python",
   "name": "python3"
  },
  "language_info": {
   "codemirror_mode": {
    "name": "ipython",
    "version": 3
   },
   "file_extension": ".py",
   "mimetype": "text/x-python",
   "name": "python",
   "nbconvert_exporter": "python",
   "pygments_lexer": "ipython3",
   "version": "3.12.0"
  }
 },
 "nbformat": 4,
 "nbformat_minor": 2
}
