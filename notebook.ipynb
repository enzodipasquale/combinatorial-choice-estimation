{
 "cells": [
  {
   "cell_type": "code",
   "execution_count": 1,
   "metadata": {},
   "outputs": [
    {
     "name": "stdout",
     "output_type": "stream",
     "text": [
      "Set parameter TSPort to value 61954\n",
      "Set parameter TokenServer to value \"10.0.1.1\"\n",
      "Set parameter Method to value 0\n"
     ]
    }
   ],
   "source": [
    "import gurobipy as gp\n",
    "import numpy as np\n",
    "\n",
    "model = gp.Model()\n",
    "model.setParam('Method', 0)\n",
    "\n",
    "x_j = model.addMVar(2, lb=0)\n",
    "\n",
    "# Objective\n",
    "model.setObjective(x_j[0] + x_j[1], gp.GRB.MAXIMIZE)\n",
    "\n",
    "# Constraints\n",
    "model.addConstr(2 * x_j[0] + x_j[1] <= 2, \"c0\")\n",
    "model.addConstr(x_j[0] + 2 * x_j[1] <= 2, \"c1\")\n",
    "\n",
    "model.update()\n",
    "# constraints = model.getConstrs()\n",
    "\n",
    "# constraints[0].CBasis = - 1\n",
    "# constraints[1].CBasis = - 1\n",
    "\n",
    "# # x_j.VBasis = [0, 0]\n",
    "# variables = model.getVars()\n",
    "# variables[0].VBasis = 0\n",
    "# variables[1].VBasis = 0\n",
    "\n",
    "\n",
    "# model.optimize()"
   ]
  },
  {
   "cell_type": "markdown",
   "metadata": {},
   "source": [
    "# Using .sol"
   ]
  },
  {
   "cell_type": "code",
   "execution_count": 2,
   "metadata": {},
   "outputs": [
    {
     "name": "stdout",
     "output_type": "stream",
     "text": [
      "Set parameter Method to value 0\n",
      "Gurobi Optimizer version 12.0.0 build v12.0.0rc1 (linux64 - \"Ubuntu 24.04.1 LTS\")\n",
      "\n",
      "CPU model: Intel(R) Xeon(R) Platinum 8268 CPU @ 2.90GHz, instruction set [SSE2|AVX|AVX2|AVX512]\n",
      "Thread count: 48 physical cores, 48 logical processors, using up to 32 threads\n",
      "\n",
      "Non-default parameters:\n",
      "Method  0\n",
      "TSPort  61954\n",
      "\n",
      "Optimize a model with 2 rows, 2 columns and 4 nonzeros\n",
      "Model fingerprint: 0xf17fe891\n",
      "Coefficient statistics:\n",
      "  Matrix range     [1e+00, 2e+00]\n",
      "  Objective range  [1e+00, 1e+00]\n",
      "  Bounds range     [0e+00, 0e+00]\n",
      "  RHS range        [2e+00, 2e+00]\n",
      "Presolve time: 0.01s\n",
      "Presolved: 2 rows, 2 columns, 4 nonzeros\n",
      "\n",
      "Iteration    Objective       Primal Inf.    Dual Inf.      Time\n",
      "       0   -0.0000000e+00   0.000000e+00   2.000000e+00      0s\n",
      "       2    1.3333333e+00   0.000000e+00   0.000000e+00      0s\n",
      "\n",
      "Solved in 2 iterations and 0.01 seconds (0.00 work units)\n",
      "Optimal objective  1.333333333e+00\n",
      "[0.6666666666666666, 0.6666666666666667]\n"
     ]
    }
   ],
   "source": [
    "import gurobipy as gp\n",
    "import numpy as np\n",
    "\n",
    "model = gp.Model()\n",
    "model.setParam('Method', 0)\n",
    "\n",
    "x_j = model.addMVar(2, lb=0)\n",
    "\n",
    "# Objective\n",
    "model.setObjective(x_j[0] + x_j[1], gp.GRB.MAXIMIZE)\n",
    "\n",
    "# Constraints\n",
    "model.addConstr(2 * x_j[0] + x_j[1] <= 2, \"c0\")\n",
    "model.addConstr(x_j[0] + 2 * x_j[1] <= 2, \"c1\")\n",
    "\n",
    "model.optimize()\n",
    "\n",
    "\n",
    "model.write('test.sol')\n",
    "\n",
    "# Save model\n",
    "model.write('test.mps')\n",
    "model.write('test.bas')\n",
    "\n",
    "print(model.x)"
   ]
  },
  {
   "cell_type": "code",
   "execution_count": 3,
   "metadata": {},
   "outputs": [
    {
     "name": "stdout",
     "output_type": "stream",
     "text": [
      "Gurobi Optimizer version 12.0.0 build v12.0.0rc1 (linux64 - \"Ubuntu 24.04.1 LTS\")\n",
      "\n",
      "CPU model: Intel(R) Xeon(R) Platinum 8268 CPU @ 2.90GHz, instruction set [SSE2|AVX|AVX2|AVX512]\n",
      "Thread count: 48 physical cores, 48 logical processors, using up to 32 threads\n",
      "\n",
      "Non-default parameters:\n",
      "Method  0\n",
      "TSPort  61954\n",
      "\n",
      "Optimize a model with 3 rows, 2 columns and 6 nonzeros\n",
      "Coefficient statistics:\n",
      "  Matrix range     [1e+00, 5e+00]\n",
      "  Objective range  [1e+00, 1e+00]\n",
      "  Bounds range     [0e+00, 0e+00]\n",
      "  RHS range        [2e+00, 2e+00]\n",
      "LP warm-start: use basis\n",
      "\n",
      "Iteration    Objective       Primal Inf.    Dual Inf.      Time\n",
      "       0    1.3333333e+00   2.500000e-01   7.499993e+05      0s\n",
      "       1    1.1111111e+00   0.000000e+00   0.000000e+00      0s\n",
      "\n",
      "Solved in 1 iterations and 0.01 seconds (0.00 work units)\n",
      "Optimal objective  1.111111111e+00\n"
     ]
    }
   ],
   "source": [
    "model.addConstr(x_j[0] + 5* x_j[1] <= 2, \"c3\")\n",
    "model.optimize()"
   ]
  },
  {
   "cell_type": "code",
   "execution_count": 4,
   "metadata": {},
   "outputs": [
    {
     "name": "stdout",
     "output_type": "stream",
     "text": [
      "Read MPS format model from file test.mps\n",
      "Reading time = 0.00 seconds\n",
      ": 2 rows, 2 columns, 4 nonzeros\n",
      "Read basis from file test.bas\n"
     ]
    }
   ],
   "source": [
    "model = gp.read('test.mps')\n",
    "x_j = model.getVars()\n",
    "model.addConstr(x_j[0] + 5* x_j[1] <= 2, \"c3\")\n",
    "model.update()\n",
    "model.read('test.bas')\n",
    "# model.optimize()\n",
    "# print(model.x)"
   ]
  },
  {
   "cell_type": "code",
   "execution_count": 5,
   "metadata": {},
   "outputs": [
    {
     "name": "stdout",
     "output_type": "stream",
     "text": [
      "0\n",
      "0\n"
     ]
    }
   ],
   "source": [
    "print(model.getVars()[0].VBasis)\n",
    "print(model.getConstrs()[2].CBasis)"
   ]
  },
  {
   "cell_type": "markdown",
   "metadata": {},
   "source": [
    "# Master pb"
   ]
  },
  {
   "cell_type": "code",
   "execution_count": 108,
   "metadata": {},
   "outputs": [
    {
     "name": "stdout",
     "output_type": "stream",
     "text": [
      "Read MPS format model from file GMM_quad_v1-50/output/master_pb.mps\n",
      "Reading time = 0.02 seconds\n",
      "GMM_pb: 12752 rows, 13248 columns, 49902 nonzeros\n",
      "Set parameter Method to value 0\n"
     ]
    },
    {
     "name": "stdout",
     "output_type": "stream",
     "text": [
      "Read basis from file GMM_quad_v1-50/output/master_pb.bas\n"
     ]
    }
   ],
   "source": [
    "path = 'GMM_quad_v1-50/output/'\n",
    "\n",
    "master_pb = gp.read(path + 'master_pb.mps')\n",
    "master_pb.setParam('Method', 0)\n",
    "\n",
    "lambda_k = gp.tupledict({k: master_pb.getVarByName(f\"parameters[{k}]\") for k in range(5)})\n",
    "master_pb.addConstr(lambda_k[0] + lambda_k[1] <= 1)\n",
    "master_pb.update()\n",
    "\n",
    "master_pb.read(path +'master_pb.bas')\n",
    "# master_pb.update()"
   ]
  },
  {
   "cell_type": "code",
   "execution_count": 109,
   "metadata": {},
   "outputs": [
    {
     "name": "stdout",
     "output_type": "stream",
     "text": [
      "Gurobi Optimizer version 12.0.0 build v12.0.0rc1 (linux64 - \"Ubuntu 24.04.1 LTS\")\n",
      "\n",
      "CPU model: Intel(R) Xeon(R) Platinum 8268 CPU @ 2.90GHz, instruction set [SSE2|AVX|AVX2|AVX512]\n",
      "Thread count: 48 physical cores, 48 logical processors, using up to 32 threads\n",
      "\n",
      "Non-default parameters:\n",
      "Method  0\n",
      "TSPort  61954\n",
      "\n",
      "Optimize a model with 12753 rows, 13248 columns and 49904 nonzeros\n",
      "Coefficient statistics:\n",
      "  Matrix range     [1e-05, 5e+03]\n",
      "  Objective range  [2e-02, 6e+03]\n",
      "  Bounds range     [1e+09, 1e+09]\n",
      "  RHS range        [2e-03, 2e+01]\n",
      "LP warm-start: use basis\n",
      "\n",
      "Iteration    Objective       Primal Inf.    Dual Inf.      Time\n",
      "       0   -2.4353834e+00   3.166705e+02   1.129660e+08      0s\n",
      "     647   -1.0211789e+01   0.000000e+00   0.000000e+00      0s\n",
      "\n",
      "Solved in 647 iterations and 0.06 seconds (0.07 work units)\n",
      "Optimal objective -1.021178911e+01\n",
      "[0.11893582344055176, 0.8810641765594482, 8.606916785240173, 3827.849734067917, 0.0]\n"
     ]
    }
   ],
   "source": [
    "master_pb.optimize()\n",
    "print(master_pb.x[:5])"
   ]
  },
  {
   "cell_type": "code",
   "execution_count": 41,
   "metadata": {},
   "outputs": [],
   "source": [
    "basic = [var for var in master_pb.getVars() if var.VBasis == 0]\n",
    "non_basic = [var for var in master_pb.getVars() if var.VBasis == -1]"
   ]
  },
  {
   "cell_type": "code",
   "execution_count": 42,
   "metadata": {},
   "outputs": [
    {
     "data": {
      "text/plain": [
       "12752"
      ]
     },
     "execution_count": 42,
     "metadata": {},
     "output_type": "execute_result"
    }
   ],
   "source": [
    "len(basic) "
   ]
  },
  {
   "cell_type": "code",
   "execution_count": null,
   "metadata": {},
   "outputs": [],
   "source": []
  }
 ],
 "metadata": {
  "kernelspec": {
   "display_name": "Python 3 (ipykernel)",
   "language": "python",
   "name": "python3"
  },
  "language_info": {
   "codemirror_mode": {
    "name": "ipython",
    "version": 3
   },
   "file_extension": ".py",
   "mimetype": "text/x-python",
   "name": "python",
   "nbconvert_exporter": "python",
   "pygments_lexer": "ipython3",
   "version": "3.12.8"
  }
 },
 "nbformat": 4,
 "nbformat_minor": 2
}
