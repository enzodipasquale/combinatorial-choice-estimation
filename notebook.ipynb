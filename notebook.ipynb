{
 "cells": [
  {
   "cell_type": "code",
   "execution_count": 1,
   "metadata": {},
   "outputs": [
    {
     "name": "stdout",
     "output_type": "stream",
     "text": [
      "Set parameter TSPort to value 61954\n",
      "Set parameter TokenServer to value \"10.0.1.1\"\n",
      "Set parameter Method to value 0\n"
     ]
    }
   ],
   "source": [
    "import gurobipy as gp\n",
    "import numpy as np\n",
    "\n",
    "model = gp.Model()\n",
    "model.setParam('Method', 0)\n",
    "\n",
    "x_j = model.addMVar(2, lb=0)\n",
    "\n",
    "# Objective\n",
    "model.setObjective(x_j[0] + x_j[1], gp.GRB.MAXIMIZE)\n",
    "\n",
    "# Constraints\n",
    "model.addConstr(2 * x_j[0] + x_j[1] <= 2, \"c0\")\n",
    "model.addConstr(x_j[0] + 2 * x_j[1] <= 2, \"c1\")\n",
    "\n",
    "model.update()\n",
    "# constraints = model.getConstrs()\n",
    "\n",
    "# constraints[0].CBasis = - 1\n",
    "# constraints[1].CBasis = - 1\n",
    "\n",
    "# # x_j.VBasis = [0, 0]\n",
    "# variables = model.getVars()\n",
    "# variables[0].VBasis = 0\n",
    "# variables[1].VBasis = 0\n",
    "\n",
    "\n",
    "# model.optimize()"
   ]
  },
  {
   "cell_type": "markdown",
   "metadata": {},
   "source": [
    "# Using .sol"
   ]
  },
  {
   "cell_type": "code",
   "execution_count": 2,
   "metadata": {},
   "outputs": [
    {
     "name": "stdout",
     "output_type": "stream",
     "text": [
      "Set parameter Method to value 0\n",
      "Gurobi Optimizer version 12.0.0 build v12.0.0rc1 (linux64 - \"Ubuntu 24.04.1 LTS\")\n",
      "\n",
      "CPU model: Intel(R) Xeon(R) Platinum 8268 CPU @ 2.90GHz, instruction set [SSE2|AVX|AVX2|AVX512]\n",
      "Thread count: 48 physical cores, 48 logical processors, using up to 32 threads\n",
      "\n",
      "Non-default parameters:\n",
      "Method  0\n",
      "TSPort  61954\n",
      "\n",
      "Optimize a model with 2 rows, 2 columns and 4 nonzeros\n",
      "Model fingerprint: 0xf17fe891\n",
      "Coefficient statistics:\n",
      "  Matrix range     [1e+00, 2e+00]\n",
      "  Objective range  [1e+00, 1e+00]\n",
      "  Bounds range     [0e+00, 0e+00]\n",
      "  RHS range        [2e+00, 2e+00]\n",
      "Presolve time: 0.01s\n",
      "Presolved: 2 rows, 2 columns, 4 nonzeros\n",
      "\n",
      "Iteration    Objective       Primal Inf.    Dual Inf.      Time\n",
      "       0   -0.0000000e+00   0.000000e+00   2.000000e+00      0s\n",
      "       2    1.3333333e+00   0.000000e+00   0.000000e+00      0s\n",
      "\n",
      "Solved in 2 iterations and 0.01 seconds (0.00 work units)\n",
      "Optimal objective  1.333333333e+00\n",
      "[0.6666666666666666, 0.6666666666666667]\n"
     ]
    }
   ],
   "source": [
    "import gurobipy as gp\n",
    "import numpy as np\n",
    "\n",
    "model = gp.Model()\n",
    "model.setParam('Method', 0)\n",
    "\n",
    "x_j = model.addMVar(2, lb=0)\n",
    "\n",
    "# Objective\n",
    "model.setObjective(x_j[0] + x_j[1], gp.GRB.MAXIMIZE)\n",
    "\n",
    "# Constraints\n",
    "model.addConstr(2 * x_j[0] + x_j[1] <= 2, \"c0\")\n",
    "model.addConstr(x_j[0] + 2 * x_j[1] <= 2, \"c1\")\n",
    "\n",
    "model.optimize()\n",
    "\n",
    "\n",
    "model.write('test.sol')\n",
    "\n",
    "# Save model\n",
    "model.write('test.mps')\n",
    "model.write('test.bas')\n",
    "\n",
    "print(model.x)"
   ]
  },
  {
   "cell_type": "code",
   "execution_count": 3,
   "metadata": {},
   "outputs": [
    {
     "name": "stdout",
     "output_type": "stream",
     "text": [
      "Gurobi Optimizer version 12.0.0 build v12.0.0rc1 (linux64 - \"Ubuntu 24.04.1 LTS\")\n",
      "\n",
      "CPU model: Intel(R) Xeon(R) Platinum 8268 CPU @ 2.90GHz, instruction set [SSE2|AVX|AVX2|AVX512]\n",
      "Thread count: 48 physical cores, 48 logical processors, using up to 32 threads\n",
      "\n",
      "Non-default parameters:\n",
      "Method  0\n",
      "TSPort  61954\n",
      "\n",
      "Optimize a model with 3 rows, 2 columns and 6 nonzeros\n",
      "Coefficient statistics:\n",
      "  Matrix range     [1e+00, 5e+00]\n",
      "  Objective range  [1e+00, 1e+00]\n",
      "  Bounds range     [0e+00, 0e+00]\n",
      "  RHS range        [2e+00, 2e+00]\n",
      "LP warm-start: use basis\n",
      "\n",
      "Iteration    Objective       Primal Inf.    Dual Inf.      Time\n",
      "       0    1.3333333e+00   2.500000e-01   7.499993e+05      0s\n",
      "       1    1.1111111e+00   0.000000e+00   0.000000e+00      0s\n",
      "\n",
      "Solved in 1 iterations and 0.01 seconds (0.00 work units)\n",
      "Optimal objective  1.111111111e+00\n"
     ]
    }
   ],
   "source": [
    "model.addConstr(x_j[0] + 5* x_j[1] <= 2, \"c3\")\n",
    "model.optimize()"
   ]
  },
  {
   "cell_type": "code",
   "execution_count": 4,
   "metadata": {},
   "outputs": [
    {
     "name": "stdout",
     "output_type": "stream",
     "text": [
      "Read MPS format model from file test.mps\n",
      "Reading time = 0.00 seconds\n",
      ": 2 rows, 2 columns, 4 nonzeros\n",
      "Read basis from file test.bas\n"
     ]
    }
   ],
   "source": [
    "model = gp.read('test.mps')\n",
    "x_j = model.getVars()\n",
    "model.addConstr(x_j[0] + 5* x_j[1] <= 2, \"c3\")\n",
    "model.update()\n",
    "model.read('test.bas')\n",
    "# model.optimize()\n",
    "# print(model.x)"
   ]
  },
  {
   "cell_type": "code",
   "execution_count": 5,
   "metadata": {},
   "outputs": [
    {
     "name": "stdout",
     "output_type": "stream",
     "text": [
      "0\n",
      "0\n"
     ]
    }
   ],
   "source": [
    "print(model.getVars()[0].VBasis)\n",
    "print(model.getConstrs()[2].CBasis)"
   ]
  },
  {
   "cell_type": "markdown",
   "metadata": {},
   "source": [
    "# Master pb"
   ]
  },
  {
   "cell_type": "code",
   "execution_count": 4,
   "metadata": {},
   "outputs": [
    {
     "name": "stdout",
     "output_type": "stream",
     "text": [
      "Read MPS format model from file GMM_quad_v1-100/output/master_pb.mps\n",
      "Reading time = 1.45 seconds\n",
      "GMM_pb: 347052 rows, 25998 columns, 5682491 nonzeros\n",
      "Read basis from file GMM_quad_v1-100/output/master_pb.bas\n"
     ]
    }
   ],
   "source": [
    "import gurobipy as gp\n",
    "path = 'GMM_quad_v1-100/output/'\n",
    "\n",
    "master_pb = gp.read(path + 'master_pb.mps')\n",
    "master_pb.read(path +'master_pb.bas')"
   ]
  },
  {
   "cell_type": "code",
   "execution_count": 5,
   "metadata": {},
   "outputs": [
    {
     "name": "stdout",
     "output_type": "stream",
     "text": [
      "17054 8944\n",
      "329998 17054\n"
     ]
    }
   ],
   "source": [
    "basic = [var for var in master_pb.getVars() if var.VBasis == 0]\n",
    "non_basic = [var for var in master_pb.getVars() if var.VBasis == -1]\n",
    "print(len(basic), len(non_basic))\n",
    "\n",
    "slack = [constr for constr in master_pb.getConstrs() if constr.CBasis == 0]\n",
    "non_slack = [constr for constr in master_pb.getConstrs() if constr.CBasis == -1]\n",
    "print(len(slack), len(non_slack))"
   ]
  },
  {
   "cell_type": "code",
   "execution_count": null,
   "metadata": {},
   "outputs": [],
   "source": [
    "# master_pb.optimize()\n",
    "\n",
    "# basic = [var for var in master_pb.getVars() if var.VBasis == 0]\n",
    "# non_basic = [var for var in master_pb.getVars() if var.VBasis == -1]\n",
    "# print(len(basic), len(non_basic))\n",
    "\n",
    "# slack = [constr for constr in master_pb.getConstrs() if constr.CBasis == 0]\n",
    "# non_slack = [constr for constr in master_pb.getConstrs() if constr.CBasis == -1]\n",
    "# print(len(slack), len(non_slack))\n"
   ]
  },
  {
   "cell_type": "code",
   "execution_count": 29,
   "metadata": {},
   "outputs": [
    {
     "ename": "",
     "evalue": "",
     "output_type": "error",
     "traceback": [
      "\u001b[1;31mThe Kernel crashed while executing code in the current cell or a previous cell. \n",
      "\u001b[1;31mPlease review the code in the cell(s) to identify a possible cause of the failure. \n",
      "\u001b[1;31mClick <a href='https://aka.ms/vscodeJupyterKernelCrash'>here</a> for more info. \n",
      "\u001b[1;31mView Jupyter <a href='command:jupyter.viewOutput'>log</a> for further details."
     ]
    },
    {
     "ename": "",
     "evalue": "",
     "output_type": "error",
     "traceback": [
      "\u001b[1;31mCanceled future for execute_request message before replies were done"
     ]
    },
    {
     "ename": "",
     "evalue": "",
     "output_type": "error",
     "traceback": [
      "\u001b[1;31mCanceled future for execute_request message before replies were done. \n",
      "\u001b[1;31mView Jupyter <a href='command:jupyter.viewOutput'>log</a> for further details."
     ]
    }
   ],
   "source": [
    "A = master_pb.getA()[:,5:]\n",
    "\n",
    "# transform into scipy sparse matrix\n",
    "from scipy.sparse import csr_matrix\n",
    "A = csr_matrix(A)\n",
    "\n",
    "from scipy.sparse.linalg import svds\n",
    "\n",
    "# Perform Singular Value Decomposition (SVD) and determine rank\n",
    "U, s, Vh = svds(A, k=min(A.shape)-1)  # k=shape-1 ensures full SVD\n",
    "rank = (s > 1e-10).sum()  # Count significant singular values\n",
    "print(f\"The rank of the sparse matrix is: {rank}\")"
   ]
  },
  {
   "cell_type": "code",
   "execution_count": null,
   "metadata": {},
   "outputs": [],
   "source": []
  },
  {
   "cell_type": "markdown",
   "metadata": {},
   "source": [
    "Dual solution"
   ]
  },
  {
   "cell_type": "code",
   "execution_count": 38,
   "metadata": {},
   "outputs": [],
   "source": [
    "import numpy as np\n",
    "dual_solutions_master_pb = np.load('/scratch/ed2189/JMP/GMM_quad_v1-100/output/dual_solution_master_pb.npy')"
   ]
  },
  {
   "cell_type": "markdown",
   "metadata": {},
   "source": [
    "# Pricing"
   ]
  },
  {
   "cell_type": "code",
   "execution_count": 1,
   "metadata": {},
   "outputs": [],
   "source": [
    "import numpy as np\n",
    "import gurobipy as gp"
   ]
  },
  {
   "cell_type": "code",
   "execution_count": 9,
   "metadata": {},
   "outputs": [],
   "source": [
    "num_items = 50\n",
    "\n",
    "values_j = np.random.randint(0,100,num_items)*1.0\n",
    "\n",
    "values_j *= np.random.choice([-1e10,1], num_items, p=[.2, .8])\n",
    "\n",
    "\n",
    "\n",
    "density = .1\n",
    "Q_j_j = np.random.choice([0,1], (num_items,num_items), p=[1-density, density])\n"
   ]
  },
  {
   "cell_type": "code",
   "execution_count": 12,
   "metadata": {},
   "outputs": [
    {
     "name": "stdout",
     "output_type": "stream",
     "text": [
      "Gurobi Optimizer version 12.0.0 build v12.0.0rc1 (linux64 - \"Ubuntu 24.04.1 LTS\")\n",
      "\n",
      "CPU model: Intel(R) Xeon(R) Platinum 8268 CPU @ 2.90GHz, instruction set [SSE2|AVX|AVX2|AVX512]\n",
      "Thread count: 48 physical cores, 48 logical processors, using up to 32 threads\n",
      "\n",
      "Non-default parameters:\n",
      "TSPort  61954\n",
      "\n",
      "Optimize a model with 0 rows, 50 columns and 0 nonzeros\n",
      "Model fingerprint: 0x9d67683c\n",
      "Model has 223 quadratic objective terms\n",
      "Variable types: 0 continuous, 50 integer (50 binary)\n",
      "Coefficient statistics:\n",
      "  Matrix range     [0e+00, 0e+00]\n",
      "  Objective range  [1e+00, 8e+11]\n",
      "  QObjective range [2e+00, 4e+00]\n",
      "  Bounds range     [1e+00, 1e+00]\n",
      "  RHS range        [0e+00, 0e+00]\n",
      "Warning: Model contains large objective coefficients\n",
      "         Consider reformulating model or setting NumericFocus parameter\n",
      "         to avoid numerical issues.\n",
      "Found heuristic solution: objective -0.0000000\n",
      "Found heuristic solution: objective 1909.0000000\n",
      "Presolve removed 0 rows and 50 columns\n",
      "Presolve time: 0.00s\n",
      "Presolve: All rows and columns removed\n",
      "\n",
      "Explored 0 nodes (0 simplex iterations) in 0.01 seconds (0.00 work units)\n",
      "Thread count was 1 (of 48 available processors)\n",
      "\n",
      "Solution count 2: 1909 -0 \n",
      "\n",
      "Optimal solution found (tolerance 1.00e-04)\n",
      "Best objective 1.909000000000e+03, best bound 1.909000000000e+03, gap 0.0000%\n"
     ]
    }
   ],
   "source": [
    "model = gp.Model()\n",
    "\n",
    "x_j = model.addMVar(num_items, lb=0, ub=1, vtype=gp.GRB.BINARY)\n",
    "\n",
    "# Objective\n",
    "model.setObjective(values_j @ x_j + x_j @ Q_j_j @ x_j, gp.GRB.MAXIMIZE)\n",
    "\n",
    "model.optimize()"
   ]
  },
  {
   "cell_type": "code",
   "execution_count": null,
   "metadata": {},
   "outputs": [],
   "source": []
  }
 ],
 "metadata": {
  "kernelspec": {
   "display_name": "Python 3 (ipykernel)",
   "language": "python",
   "name": "python3"
  },
  "language_info": {
   "codemirror_mode": {
    "name": "ipython",
    "version": 3
   },
   "file_extension": ".py",
   "mimetype": "text/x-python",
   "name": "python",
   "nbconvert_exporter": "python",
   "pygments_lexer": "ipython3",
   "version": "3.12.8"
  }
 },
 "nbformat": 4,
 "nbformat_minor": 2
}
