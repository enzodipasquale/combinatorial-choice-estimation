{
 "cells": [
  {
   "cell_type": "code",
   "execution_count": 1,
   "metadata": {},
   "outputs": [
    {
     "name": "stdout",
     "output_type": "stream",
     "text": [
      "Set parameter TSPort to value 61954\n",
      "Set parameter TokenServer to value \"10.0.1.1\"\n",
      "Set parameter Method to value 0\n"
     ]
    }
   ],
   "source": [
    "import gurobipy as gp\n",
    "import numpy as np\n",
    "\n",
    "model = gp.Model()\n",
    "model.setParam('Method', 0)\n",
    "\n",
    "x_j = model.addMVar(2, lb=0)\n",
    "\n",
    "# Objective\n",
    "model.setObjective(x_j[0] + x_j[1], gp.GRB.MAXIMIZE)\n",
    "\n",
    "# Constraints\n",
    "model.addConstr(2 * x_j[0] + x_j[1] <= 2, \"c0\")\n",
    "model.addConstr(x_j[0] + 2 * x_j[1] <= 2, \"c1\")\n",
    "\n",
    "model.update()\n",
    "# constraints = model.getConstrs()\n",
    "\n",
    "# constraints[0].CBasis = - 1\n",
    "# constraints[1].CBasis = - 1\n",
    "\n",
    "# # x_j.VBasis = [0, 0]\n",
    "# variables = model.getVars()\n",
    "# variables[0].VBasis = 0\n",
    "# variables[1].VBasis = 0\n",
    "\n",
    "\n",
    "# model.optimize()"
   ]
  },
  {
   "cell_type": "markdown",
   "metadata": {},
   "source": [
    "# Using .sol"
   ]
  },
  {
   "cell_type": "code",
   "execution_count": 2,
   "metadata": {},
   "outputs": [
    {
     "name": "stdout",
     "output_type": "stream",
     "text": [
      "Set parameter Method to value 0\n",
      "Gurobi Optimizer version 12.0.0 build v12.0.0rc1 (linux64 - \"Ubuntu 24.04.1 LTS\")\n",
      "\n",
      "CPU model: Intel(R) Xeon(R) Platinum 8268 CPU @ 2.90GHz, instruction set [SSE2|AVX|AVX2|AVX512]\n",
      "Thread count: 48 physical cores, 48 logical processors, using up to 32 threads\n",
      "\n",
      "Non-default parameters:\n",
      "Method  0\n",
      "TSPort  61954\n",
      "\n",
      "Optimize a model with 2 rows, 2 columns and 4 nonzeros\n",
      "Model fingerprint: 0xf17fe891\n",
      "Coefficient statistics:\n",
      "  Matrix range     [1e+00, 2e+00]\n",
      "  Objective range  [1e+00, 1e+00]\n",
      "  Bounds range     [0e+00, 0e+00]\n",
      "  RHS range        [2e+00, 2e+00]\n",
      "Presolve time: 0.01s\n",
      "Presolved: 2 rows, 2 columns, 4 nonzeros\n",
      "\n",
      "Iteration    Objective       Primal Inf.    Dual Inf.      Time\n",
      "       0   -0.0000000e+00   0.000000e+00   2.000000e+00      0s\n",
      "       2    1.3333333e+00   0.000000e+00   0.000000e+00      0s\n",
      "\n",
      "Solved in 2 iterations and 0.01 seconds (0.00 work units)\n",
      "Optimal objective  1.333333333e+00\n",
      "[0.6666666666666666, 0.6666666666666667]\n"
     ]
    }
   ],
   "source": [
    "import gurobipy as gp\n",
    "import numpy as np\n",
    "\n",
    "model = gp.Model()\n",
    "model.setParam('Method', 0)\n",
    "\n",
    "x_j = model.addMVar(2, lb=0)\n",
    "\n",
    "# Objective\n",
    "model.setObjective(x_j[0] + x_j[1], gp.GRB.MAXIMIZE)\n",
    "\n",
    "# Constraints\n",
    "model.addConstr(2 * x_j[0] + x_j[1] <= 2, \"c0\")\n",
    "model.addConstr(x_j[0] + 2 * x_j[1] <= 2, \"c1\")\n",
    "\n",
    "model.optimize()\n",
    "\n",
    "\n",
    "model.write('test.sol')\n",
    "\n",
    "# Save model\n",
    "model.write('test.mps')\n",
    "model.write('test.bas')\n",
    "\n",
    "print(model.x)"
   ]
  },
  {
   "cell_type": "code",
   "execution_count": 3,
   "metadata": {},
   "outputs": [
    {
     "name": "stdout",
     "output_type": "stream",
     "text": [
      "Gurobi Optimizer version 12.0.0 build v12.0.0rc1 (linux64 - \"Ubuntu 24.04.1 LTS\")\n",
      "\n",
      "CPU model: Intel(R) Xeon(R) Platinum 8268 CPU @ 2.90GHz, instruction set [SSE2|AVX|AVX2|AVX512]\n",
      "Thread count: 48 physical cores, 48 logical processors, using up to 32 threads\n",
      "\n",
      "Non-default parameters:\n",
      "Method  0\n",
      "TSPort  61954\n",
      "\n",
      "Optimize a model with 3 rows, 2 columns and 6 nonzeros\n",
      "Coefficient statistics:\n",
      "  Matrix range     [1e+00, 5e+00]\n",
      "  Objective range  [1e+00, 1e+00]\n",
      "  Bounds range     [0e+00, 0e+00]\n",
      "  RHS range        [2e+00, 2e+00]\n",
      "LP warm-start: use basis\n",
      "\n",
      "Iteration    Objective       Primal Inf.    Dual Inf.      Time\n",
      "       0    1.3333333e+00   2.500000e-01   7.499993e+05      0s\n",
      "       1    1.1111111e+00   0.000000e+00   0.000000e+00      0s\n",
      "\n",
      "Solved in 1 iterations and 0.01 seconds (0.00 work units)\n",
      "Optimal objective  1.111111111e+00\n"
     ]
    }
   ],
   "source": [
    "model.addConstr(x_j[0] + 5* x_j[1] <= 2, \"c3\")\n",
    "model.optimize()"
   ]
  },
  {
   "cell_type": "code",
   "execution_count": 4,
   "metadata": {},
   "outputs": [
    {
     "name": "stdout",
     "output_type": "stream",
     "text": [
      "Read MPS format model from file test.mps\n",
      "Reading time = 0.00 seconds\n",
      ": 2 rows, 2 columns, 4 nonzeros\n",
      "Read basis from file test.bas\n"
     ]
    }
   ],
   "source": [
    "model = gp.read('test.mps')\n",
    "x_j = model.getVars()\n",
    "model.addConstr(x_j[0] + 5* x_j[1] <= 2, \"c3\")\n",
    "model.update()\n",
    "model.read('test.bas')\n",
    "# model.optimize()\n",
    "# print(model.x)"
   ]
  },
  {
   "cell_type": "code",
   "execution_count": 5,
   "metadata": {},
   "outputs": [
    {
     "name": "stdout",
     "output_type": "stream",
     "text": [
      "0\n",
      "0\n"
     ]
    }
   ],
   "source": [
    "print(model.getVars()[0].VBasis)\n",
    "print(model.getConstrs()[2].CBasis)"
   ]
  },
  {
   "cell_type": "markdown",
   "metadata": {},
   "source": [
    "# Master pb"
   ]
  },
  {
   "cell_type": "code",
   "execution_count": 1,
   "metadata": {},
   "outputs": [
    {
     "name": "stdout",
     "output_type": "stream",
     "text": [
      "Set parameter TSPort to value 61954\n",
      "Set parameter TokenServer to value \"10.0.1.1\"\n",
      "Read MPS format model from file GMM_quad_new/output/master_pb.mps\n",
      "Reading time = 1.13 seconds\n",
      "GMM_pb: 12753 rows, 13248 columns, 6362203 nonzeros\n",
      "Read basis from file GMM_quad_new/output/master_pb.bas\n",
      "Set parameter LPWarmStart to value 2\n",
      "Gurobi Optimizer version 12.0.0 build v12.0.0rc1 (linux64 - \"Ubuntu 24.04.1 LTS\")\n",
      "\n",
      "CPU model: Intel(R) Xeon(R) Platinum 8268 CPU @ 2.90GHz, instruction set [SSE2|AVX|AVX2|AVX512]\n",
      "Thread count: 48 physical cores, 48 logical processors, using up to 32 threads\n",
      "\n",
      "Non-default parameters:\n",
      "LPWarmStart  2\n",
      "TSPort  61954\n",
      "\n",
      "Optimize a model with 12753 rows, 13248 columns and 6362203 nonzeros\n",
      "Coefficient statistics:\n",
      "  Matrix range     [1e-04, 1e+00]\n",
      "  Objective range  [2e-02, 1e+00]\n",
      "  Bounds range     [1e+09, 1e+09]\n",
      "  RHS range        [4e-03, 1e+02]\n",
      "LP warm-start: use basis\n",
      "Presolve time: 0.94s\n",
      "Presolved: 12750 rows, 12756 columns, 89200 nonzeros\n",
      "\n",
      "LP warm-start: get start vectors from basis, then crush them\n",
      "\n",
      "Solved in 0 iterations and 1.22 seconds (2.53 work units)\n",
      "Optimal objective -3.029681932e+01\n"
     ]
    }
   ],
   "source": [
    "import gurobipy as gp\n",
    "import numpy as np\n",
    "\n",
    "path = 'GMM_quad_new/'\n",
    "\n",
    "master_pb = gp.read(path + \"output/master_pb.mps\")\n",
    "master_pb.read(path + 'output/master_pb.bas')\n",
    "master_pb.setParam('LPWarmStart',2)\n",
    "master_pb.optimize()\n",
    "solution_master_pb = np.array(master_pb.x)\n",
    "\n",
    "# Initialize slack counter\n",
    "slack_counter = {constr.ConstrName: 1 if constr.Slack > 0 else 0 for constr in master_pb.getConstrs()}"
   ]
  },
  {
   "cell_type": "code",
   "execution_count": 8,
   "metadata": {},
   "outputs": [],
   "source": [
    "num_characteristics = 5\n",
    "num_objects = 493"
   ]
  },
  {
   "cell_type": "code",
   "execution_count": null,
   "metadata": {},
   "outputs": [],
   "source": [
    "all_vars = master_pb.getVars()\n",
    "lambda_k, u_si, p_j = all_vars[:num_characteristics], all_vars[num_characteristics: -num_objects] , all_vars[-num_objects:]\n"
   ]
  },
  {
   "cell_type": "code",
   "execution_count": 10,
   "metadata": {},
   "outputs": [
    {
     "data": {
      "text/plain": [
       "list"
      ]
     },
     "execution_count": 10,
     "metadata": {},
     "output_type": "execute_result"
    }
   ],
   "source": [
    "type(master_pb.getAttr('X',lambda_k))"
   ]
  },
  {
   "cell_type": "code",
   "execution_count": 4,
   "metadata": {},
   "outputs": [
    {
     "data": {
      "text/plain": [
       "list"
      ]
     },
     "execution_count": 4,
     "metadata": {},
     "output_type": "execute_result"
    }
   ],
   "source": [
    "type(master_pb.x)"
   ]
  },
  {
   "cell_type": "code",
   "execution_count": 14,
   "metadata": {},
   "outputs": [
    {
     "name": "stdout",
     "output_type": "stream",
     "text": [
      "171.1333864927292\n",
      "0\n"
     ]
    }
   ],
   "source": [
    "def func(model):\n",
    "    print(model.getVars()[0].x )\n",
    "    print(model.getConstrs()[2].CBasis)\n",
    "func(master_pb)"
   ]
  },
  {
   "cell_type": "code",
   "execution_count": 2,
   "metadata": {},
   "outputs": [
    {
     "name": "stdout",
     "output_type": "stream",
     "text": [
      "8636 4612\n",
      "124877 8636\n"
     ]
    }
   ],
   "source": [
    "basic = [var for var in master_pb.getVars() if var.VBasis == 0]\n",
    "non_basic = [var for var in master_pb.getVars() if var.VBasis == -1]\n",
    "print(len(basic), len(non_basic))\n",
    "\n",
    "slack = [constr for constr in master_pb.getConstrs() if constr.CBasis == 0]\n",
    "non_slack = [constr for constr in master_pb.getConstrs() if constr.CBasis == -1]\n",
    "print(len(slack), len(non_slack))"
   ]
  },
  {
   "cell_type": "code",
   "execution_count": null,
   "metadata": {},
   "outputs": [
    {
     "ename": "TypeError",
     "evalue": "'dict_values' object is not subscriptable",
     "output_type": "error",
     "traceback": [
      "\u001b[0;31m---------------------------------------------------------------------------\u001b[0m",
      "\u001b[0;31mTypeError\u001b[0m                                 Traceback (most recent call last)",
      "Cell \u001b[0;32mIn[11], line 1\u001b[0m\n\u001b[0;32m----> 1\u001b[0m \u001b[38;5;28mprint\u001b[39m(\u001b[38;5;124m'\u001b[39m\u001b[38;5;124mMax value in slack_counter:\u001b[39m\u001b[38;5;124m'\u001b[39m, \u001b[38;5;28;43mmax\u001b[39;49m\u001b[43m(\u001b[49m\u001b[43mslack_counter\u001b[49m\n\u001b[1;32m      2\u001b[0m \u001b[43m                                             \u001b[49m\u001b[43m,\u001b[49m\u001b[43m \u001b[49m\u001b[43mkey\u001b[49m\u001b[43m \u001b[49m\u001b[38;5;241;43m=\u001b[39;49m\u001b[43m \u001b[49m\u001b[38;5;28;43;01mlambda\u001b[39;49;00m\u001b[43m \u001b[49m\u001b[43mx\u001b[49m\u001b[43m:\u001b[49m\u001b[43m \u001b[49m\u001b[43mslack_counter\u001b[49m\u001b[38;5;241;43m.\u001b[39;49m\u001b[43mvalues\u001b[49m\u001b[43m(\u001b[49m\u001b[43m)\u001b[49m\u001b[43m[\u001b[49m\u001b[43mx\u001b[49m\u001b[43m]\u001b[49m\u001b[43m)\u001b[49m)\n",
      "Cell \u001b[0;32mIn[11], line 2\u001b[0m, in \u001b[0;36m<lambda>\u001b[0;34m(x)\u001b[0m\n\u001b[1;32m      1\u001b[0m \u001b[38;5;28mprint\u001b[39m(\u001b[38;5;124m'\u001b[39m\u001b[38;5;124mMax value in slack_counter:\u001b[39m\u001b[38;5;124m'\u001b[39m, \u001b[38;5;28mmax\u001b[39m(slack_counter\n\u001b[0;32m----> 2\u001b[0m                                              , key \u001b[38;5;241m=\u001b[39m \u001b[38;5;28;01mlambda\u001b[39;00m x: \u001b[43mslack_counter\u001b[49m\u001b[38;5;241;43m.\u001b[39;49m\u001b[43mvalues\u001b[49m\u001b[43m(\u001b[49m\u001b[43m)\u001b[49m\u001b[43m[\u001b[49m\u001b[43mx\u001b[49m\u001b[43m]\u001b[49m))\n",
      "\u001b[0;31mTypeError\u001b[0m: 'dict_values' object is not subscriptable"
     ]
    }
   ],
   "source": [
    "\n"
   ]
  },
  {
   "cell_type": "code",
   "execution_count": 3,
   "metadata": {},
   "outputs": [
    {
     "name": "stdout",
     "output_type": "stream",
     "text": [
      "Gurobi Optimizer version 12.0.0 build v12.0.0rc1 (linux64 - \"Ubuntu 24.04.1 LTS\")\n",
      "\n",
      "CPU model: Intel(R) Xeon(R) Platinum 8268 CPU @ 2.90GHz, instruction set [SSE2|AVX|AVX2|AVX512]\n",
      "Thread count: 48 physical cores, 48 logical processors, using up to 32 threads\n",
      "\n",
      "Non-default parameters:\n",
      "TSPort  61954\n",
      "\n",
      "Optimize a model with 133513 rows, 13248 columns and 8299569 nonzeros\n",
      "Coefficient statistics:\n",
      "  Matrix range     [1e-08, 1e+00]\n",
      "  Objective range  [2e-02, 1e+00]\n",
      "  Bounds range     [1e+09, 1e+09]\n",
      "  RHS range        [3e-04, 2e+02]\n",
      "LP warm-start: use basis\n",
      "\n",
      "Iteration    Objective       Primal Inf.    Dual Inf.      Time\n",
      "       0   -1.0917949e+03   0.000000e+00   0.000000e+00      1s\n",
      "\n",
      "Solved in 0 iterations and 1.09 seconds (0.42 work units)\n",
      "Optimal objective -1.091794857e+03\n"
     ]
    }
   ],
   "source": [
    "master_pb.optimize()\n",
    "\n",
    "# basic = [var for var in master_pb.getVars() if var.VBasis == 0]\n",
    "# non_basic = [var for var in master_pb.getVars() if var.VBasis == -1]\n",
    "# print(len(basic), len(non_basic))\n",
    "\n",
    "# slack = [constr for constr in master_pb.getConstrs() if constr.CBasis == 0]\n",
    "# non_slack = [constr for constr in master_pb.getConstrs() if constr.CBasis == -1]\n",
    "# print(len(slack), len(non_slack))\n"
   ]
  },
  {
   "cell_type": "code",
   "execution_count": 4,
   "metadata": {},
   "outputs": [],
   "source": [
    "solution_master_pb = master_pb.x"
   ]
  },
  {
   "cell_type": "markdown",
   "metadata": {},
   "source": [
    "Dual solution"
   ]
  },
  {
   "cell_type": "markdown",
   "metadata": {},
   "source": [
    "# Pricing"
   ]
  },
  {
   "cell_type": "code",
   "execution_count": 5,
   "metadata": {},
   "outputs": [],
   "source": [
    "import numpy as np\n",
    "\n",
    "quadratic_j_j_k = np.load(path + 'data/quadratic_characteristic_j_j_k.npy')\n",
    "weight_j = np.load(path + 'data/weight_j.npy')\n",
    "modular_i_j_k = np.load(path + 'data/modular_characteristics_i_j_k.npy')\n",
    "capacity_i = np.load(path + 'data/capacity_i.npy')\n",
    "epsilon_si_j = np.load(path + 'data/epsilon_si_j.npy')"
   ]
  },
  {
   "cell_type": "code",
   "execution_count": 15,
   "metadata": {},
   "outputs": [],
   "source": [
    "from pricing_notebook import pricing"
   ]
  },
  {
   "cell_type": "code",
   "execution_count": null,
   "metadata": {},
   "outputs": [
    {
     "name": "stdout",
     "output_type": "stream",
     "text": [
      "90\n",
      "91\n",
      "92\n",
      "93\n",
      "94\n",
      "95\n",
      "96\n",
      "97\n",
      "98\n",
      "Warning: Gap is too high 4.919898253480149\n",
      "99\n",
      "\n",
      "Interrupt request received\n",
      "100\n"
     ]
    },
    {
     "name": "stdout",
     "output_type": "stream",
     "text": [
      "\n",
      "Interrupt request received\n",
      "Warning: Gap is too high inf\n",
      "101\n"
     ]
    }
   ],
   "source": [
    "for i in range(90,255):\n",
    "    print(i)\n",
    "    modular = np.concatenate([epsilon_si_j[i][:,None]  ,modular_i_j_k[i]], axis = 1)\n",
    "    results_pricing = pricing(modular, quadratic_j_j_k, weight_j, capacity_i[i], solution_master_pb, OutputFlag = False)"
   ]
  },
  {
   "cell_type": "code",
   "execution_count": 25,
   "metadata": {},
   "outputs": [
    {
     "data": {
      "text/plain": [
       "np.float64(38.0)"
      ]
     },
     "execution_count": 25,
     "metadata": {},
     "output_type": "execute_result"
    }
   ],
   "source": [
    "results_pricing[7:].sum()"
   ]
  },
  {
   "cell_type": "code",
   "execution_count": null,
   "metadata": {},
   "outputs": [],
   "source": []
  }
 ],
 "metadata": {
  "kernelspec": {
   "display_name": "Python 3 (ipykernel)",
   "language": "python",
   "name": "python3"
  },
  "language_info": {
   "codemirror_mode": {
    "name": "ipython",
    "version": 3
   },
   "file_extension": ".py",
   "mimetype": "text/x-python",
   "name": "python",
   "nbconvert_exporter": "python",
   "pygments_lexer": "ipython3",
   "version": "3.12.8"
  }
 },
 "nbformat": 4,
 "nbformat_minor": 2
}
