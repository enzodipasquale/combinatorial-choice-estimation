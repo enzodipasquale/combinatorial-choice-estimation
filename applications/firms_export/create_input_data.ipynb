{
 "cells": [
  {
   "cell_type": "code",
   "execution_count": 88,
   "id": "d320290c",
   "metadata": {},
   "outputs": [],
   "source": [
    "import pandas as pd\n",
    "import numpy as np"
   ]
  },
  {
   "cell_type": "code",
   "execution_count": 92,
   "id": "dfaabc5c",
   "metadata": {},
   "outputs": [],
   "source": [
    "sample_size = 40000\n",
    "num_agents = 34334\n",
    "sample_size = min(sample_size, num_agents)\n",
    "random_agents = np.random.choice(num_agents, sample_size, replace=False)"
   ]
  },
  {
   "cell_type": "code",
   "execution_count": null,
   "id": "7a0a9622",
   "metadata": {},
   "outputs": [
    {
     "name": "stdout",
     "output_type": "stream",
     "text": [
      "(34334, 20)\n",
      "(34334, 20)\n"
     ]
    }
   ],
   "source": [
    "revenue_i_j = np.load('./revenue_i_j.npy') /1000\n",
    "print(revenue_i_j.shape)\n",
    "assert num_agents = revenue_i_j.shape[0]\n",
    "\n",
    "modular_i_j_k = []\n",
    "revenue_i_j = revenue_i_j[random_agents, :]\n",
    "modular_i_j_k.append(revenue_i_j)\n",
    "\n",
    "np.save('./input_data/modular_i_j_k.npy', revenue_i_j[:,:,None])\n",
    "print(revenue_i_j.shape)"
   ]
  },
  {
   "cell_type": "code",
   "execution_count": 90,
   "id": "65febbdf",
   "metadata": {},
   "outputs": [
    {
     "name": "stdout",
     "output_type": "stream",
     "text": [
      "(21, 21)\n"
     ]
    }
   ],
   "source": [
    "distance_c_c = np.load('./distance_j_j.npy')\n",
    "print(distance_c_c.shape)\n",
    "distance_j_j = distance_c_c[1:,1:]\n",
    "distance_hj = distance_c_c[1:,0]\n",
    "modular_j_k = np.stack((-np.ones_like(distance_hj), -distance_hj), axis=1) /100\n",
    "np.save('./input_data/modular_j_k.npy', modular_j_k)\n",
    "\n",
    "beta = 3\n",
    "exp_d_j_j = np.exp(-beta * distance_j_j)\n",
    "np.fill_diagonal(exp_d_j_j, 0)\n",
    "\n",
    "quadratic_feat = []\n",
    "quadratic_feat.append(exp_d_j_j)\n",
    "quadratic_feat.append(exp_d_j_j * distance_hj[None,:])\n",
    "quadratic_j_j_k = np.stack(quadratic_feat, axis=2) \n",
    "\n",
    "np.save('./input_data/quadratic_j_j_k.npy', quadratic_j_j_k)"
   ]
  },
  {
   "cell_type": "code",
   "execution_count": 91,
   "id": "53369234",
   "metadata": {},
   "outputs": [
    {
     "name": "stdout",
     "output_type": "stream",
     "text": [
      "(34334, 20)\n",
      "(34334, 20)\n"
     ]
    }
   ],
   "source": [
    "obs_bundles = np.load('./obs_bundles.npy')\n",
    "print(obs_bundles.shape)\n",
    "obs_bundles = obs_bundles[random_agents, :]\n",
    "np.save('./input_data/obs_bundles.npy', obs_bundles)\n",
    "print(obs_bundles.shape)"
   ]
  }
 ],
 "metadata": {
  "kernelspec": {
   "display_name": ".bundle",
   "language": "python",
   "name": "python3"
  },
  "language_info": {
   "codemirror_mode": {
    "name": "ipython",
    "version": 3
   },
   "file_extension": ".py",
   "mimetype": "text/x-python",
   "name": "python",
   "nbconvert_exporter": "python",
   "pygments_lexer": "ipython3",
   "version": "3.11.12"
  }
 },
 "nbformat": 4,
 "nbformat_minor": 5
}
