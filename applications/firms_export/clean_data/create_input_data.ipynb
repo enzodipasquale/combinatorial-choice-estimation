{
 "cells": [
  {
   "cell_type": "code",
   "execution_count": 221,
   "id": "68c841e3",
   "metadata": {},
   "outputs": [],
   "source": [
    "import os\n",
    "import numpy as np\n",
    "import pandas as pd"
   ]
  },
  {
   "cell_type": "code",
   "execution_count": 222,
   "id": "1de35bd6",
   "metadata": {},
   "outputs": [],
   "source": [
    "# Load the dataset\n",
    "# country_to_load = 'MEX' \n",
    "country_to_load = 'BGR' \n",
    "\n",
    "dataframe = pd.read_stata('datasets/'+ country_to_load + '.dta')"
   ]
  },
  {
   "cell_type": "markdown",
   "id": "043abf6d",
   "metadata": {},
   "source": [
    "# Clean data"
   ]
  },
  {
   "cell_type": "code",
   "execution_count": 223,
   "id": "71b40a44",
   "metadata": {},
   "outputs": [
    {
     "name": "stdout",
     "output_type": "stream",
     "text": [
      "Number of firms: 13229\n",
      "Number of destinations: 50\n"
     ]
    }
   ],
   "source": [
    "keep_top = 50\n",
    "year = 2006\n",
    "\n",
    "# Filter and clean the dataset\n",
    "dataframe = dataframe.drop(columns=['q', 'c'])\n",
    "dataframe = dataframe[(dataframe['y'] == year) & (dataframe['d'] != 'OTH')].drop(columns=['y'])\n",
    "top_d = dataframe['d'].value_counts().nlargest(keep_top).index\n",
    "dataframe = dataframe[dataframe['d'].isin(top_d)]\n",
    "\n",
    "\n",
    "revenue_df = dataframe.pivot_table(index='f', columns='d', values='v', aggfunc='sum', fill_value=0)   \n",
    "\n",
    "firms = list(revenue_df.index)\n",
    "destinations = list(revenue_df.columns)\n",
    "\n",
    "print(f\"Number of firms: {len(firms)}\")\n",
    "print(f\"Number of destinations: {len(destinations)}\")"
   ]
  },
  {
   "cell_type": "markdown",
   "id": "8acb6993",
   "metadata": {},
   "source": [
    "### Poisson regression"
   ]
  },
  {
   "cell_type": "code",
   "execution_count": 224,
   "id": "0ea363df",
   "metadata": {},
   "outputs": [
    {
     "data": {
      "text/plain": [
       "[48]"
      ]
     },
     "execution_count": 224,
     "metadata": {},
     "output_type": "execute_result"
    }
   ],
   "source": [
    "[i for i, country in enumerate(destinations) if country == 'USA']"
   ]
  },
  {
   "cell_type": "code",
   "execution_count": 225,
   "id": "d5c257bb",
   "metadata": {},
   "outputs": [
    {
     "name": "stdout",
     "output_type": "stream",
     "text": [
      "Converged after 2 iterations\n"
     ]
    }
   ],
   "source": [
    "from scipy.special import logsumexp\n",
    "\n",
    "def my_poisson(y_i_j):\n",
    "    num_i, num_j = y_i_j.shape\n",
    "    alpha_i = np.zeros(num_i)\n",
    "    beta_j = np.zeros(num_j)\n",
    "\n",
    "    log_marg_i = np.log(y_i_j.sum(axis=1))\n",
    "    log_marg_j = np.log(y_i_j.sum(axis=0))\n",
    "\n",
    "    iters = 0\n",
    "    while True:\n",
    "        iters += 1\n",
    "        alpha_i_new = log_marg_i - logsumexp(beta_j)\n",
    "        beta_j_new = log_marg_j - logsumexp(alpha_i_new)\n",
    "        if (np.allclose(alpha_i, alpha_i_new, rtol=1e-13, atol=1e-13) and \n",
    "            np.allclose(beta_j, beta_j_new, rtol=1e-13, atol=1e-13)):\n",
    "            print(f'Converged after {iters} iterations')\n",
    "            break\n",
    "        alpha_i, beta_j = alpha_i_new, beta_j_new\n",
    "        # print(alpha_i_new[0])\n",
    "    \n",
    "    return np.exp(alpha_i[:, None] + beta_j[None, :])\n",
    "\n",
    "revenue_i_j = revenue_df.values\n",
    "expected_revenue_i_j = my_poisson(revenue_i_j)"
   ]
  },
  {
   "cell_type": "markdown",
   "id": "abff3d97",
   "metadata": {},
   "source": [
    "### Distance matrix"
   ]
  },
  {
   "cell_type": "code",
   "execution_count": 226,
   "id": "1feacd1b",
   "metadata": {},
   "outputs": [
    {
     "name": "stdout",
     "output_type": "stream",
     "text": [
      "Missing countries: []\n"
     ]
    }
   ],
   "source": [
    "from geopy.distance import geodesic\n",
    "from itertools import product\n",
    "\n",
    "countries = [\"MEX\"] + destinations \n",
    "\n",
    "url = 'https://gist.githubusercontent.com/tadast/8827699/raw/countries_codes_and_coordinates.csv'\n",
    "coordinates_df = pd.read_csv(url)\n",
    "\n",
    "coordinates_df.columns = coordinates_df.columns.str.strip()\n",
    "coordinates_df = coordinates_df.astype(str).apply(lambda col: col.str.replace('\"', '').str.strip())\n",
    "coordinates_df = coordinates_df.rename(columns={\n",
    "    'Alpha-3 code': 'ISO3',\n",
    "    'Latitude (average)': 'Lat',\n",
    "    'Longitude (average)': 'Lon'\n",
    "})\n",
    "\n",
    "coordinates_df = coordinates_df.drop_duplicates(subset='ISO3')\n",
    "\n",
    "coords_dict = coordinates_df.set_index('ISO3')[['Lat', 'Lon']].T.to_dict('list')\n",
    "\n",
    "# Filter countries you already defined\n",
    "valid_countries = [code for code in countries if code in coords_dict]\n",
    "missing = [code for code in countries if code not in coords_dict]\n",
    "print(f\"Missing countries: {missing}\")\n",
    "\n",
    "\n",
    "distance_df = pd.DataFrame(index=valid_countries, columns=valid_countries, dtype=float)\n",
    "for c1, c2 in product(valid_countries, repeat=2):\n",
    "    distance_df.loc[c1, c2] = geodesic(coords_dict[c1], coords_dict[c2]).kilometers / 1000  # Convert to thousands kilometers"
   ]
  },
  {
   "cell_type": "code",
   "execution_count": 227,
   "id": "0aee04a2",
   "metadata": {},
   "outputs": [
    {
     "name": "stdout",
     "output_type": "stream",
     "text": [
      "True\n",
      "True\n"
     ]
    }
   ],
   "source": [
    "print(np.all(distance_df.index[1:] == revenue_df.columns))\n",
    "print(np.all(distance_df.columns[1:] == revenue_df.columns))"
   ]
  },
  {
   "cell_type": "markdown",
   "id": "969a6646",
   "metadata": {},
   "source": [
    "# Create input data"
   ]
  },
  {
   "cell_type": "code",
   "execution_count": 228,
   "id": "a6d0e280",
   "metadata": {},
   "outputs": [],
   "source": [
    "sample_size = 10000000\n",
    "num_agents = len(firms)\n",
    "np.random.seed(49)  \n",
    "if num_agents < sample_size:\n",
    "    random_agents = np.arange(num_agents)\n",
    "else:\n",
    "    random_agents = np.random.choice(num_agents, sample_size, replace=False)\n",
    "\n",
    "beta = 3\n",
    "add_fixed_effects = False"
   ]
  },
  {
   "cell_type": "code",
   "execution_count": 229,
   "id": "551cf444",
   "metadata": {},
   "outputs": [],
   "source": [
    "os.makedirs('../input_data', exist_ok=True)\n"
   ]
  },
  {
   "cell_type": "markdown",
   "id": "ede6a751",
   "metadata": {},
   "source": [
    "Modular agent specific"
   ]
  },
  {
   "cell_type": "code",
   "execution_count": 230,
   "id": "0bb31dd9",
   "metadata": {},
   "outputs": [
    {
     "name": "stdout",
     "output_type": "stream",
     "text": [
      "(13229, 50, 1)\n",
      "min: 2.2001476614732414e-11\n",
      "max: 199.72324863940617\n"
     ]
    }
   ],
   "source": [
    "exp_revenue_i_j= expected_revenue_i_j/ 1_000_000\n",
    "# exp_revenue_i_j= exp_revenue_df.to_numpy() /1_000\n",
    "\n",
    "assert num_agents == exp_revenue_i_j.shape[0]\n",
    "\n",
    "modular_i_j_k = []\n",
    "modular_i_j_k.append(exp_revenue_i_j)\n",
    "\n",
    "if country_to_load == 'MEX':\n",
    "    exp_revenue_i_j_nafta = exp_revenue_i_j * np.isin(revenue_df.columns, ['USA', 'CAN'])\n",
    "    modular_i_j_k.append(exp_revenue_i_j_nafta)\n",
    "\n",
    "    # nafta_FE = np.isin(revenue_df.columns, ['USA', 'CAN'])[None,:].repeat(num_agents, axis=0)\n",
    "    # modular_i_j_k.append(nafta_FE)\n",
    "\n",
    "\n",
    "# Stack and save\n",
    "modular_i_j_k = np.stack(modular_i_j_k, axis=2)\n",
    "modular_i_j_k = modular_i_j_k[random_agents, :, :]\n",
    "np.save('../input_data/modular_i_j_k.npy', modular_i_j_k)\n",
    "print(modular_i_j_k.shape)\n",
    "print(\"min:\", modular_i_j_k[modular_i_j_k>0].min())\n",
    "print(\"max:\", modular_i_j_k.max())"
   ]
  },
  {
   "cell_type": "markdown",
   "id": "40cdaee1",
   "metadata": {},
   "source": [
    "Modular agent independent"
   ]
  },
  {
   "cell_type": "code",
   "execution_count": 231,
   "id": "60fe9f3c",
   "metadata": {},
   "outputs": [
    {
     "name": "stdout",
     "output_type": "stream",
     "text": [
      "(50, 2)\n",
      "min: -16.264341545892467\n",
      "max: -1.0\n"
     ]
    }
   ],
   "source": [
    "distance_c_c = distance_df.to_numpy()\n",
    "distance_j_j = distance_c_c[1:,1:]\n",
    "np.save('../input_data/distance_j_j.npy', distance_j_j)\n",
    "distance_hj = distance_c_c[1:,0]\n",
    "\n",
    "modular_j_k = []\n",
    "if add_fixed_effects:\n",
    "    for j in range(exp_revenue_i_j.shape[1]):\n",
    "        dummy_j = np.zeros(exp_revenue_i_j.shape[1])\n",
    "        dummy_j[j] = 1\n",
    "        modular_j_k.append(dummy_j)\n",
    "else:\n",
    "    modular_j_k.append(-np.ones_like(distance_hj))\n",
    "    modular_j_k.append(-distance_hj)\n",
    "\n",
    "\n",
    "# Stack and save\n",
    "modular_j_k = np.stack(modular_j_k, axis=1)\n",
    "np.save('../input_data/modular_j_k.npy', modular_j_k)\n",
    "print(modular_j_k.shape)\n",
    "print(\"min:\", modular_j_k.min())\n",
    "print(\"max:\", modular_j_k.max())"
   ]
  },
  {
   "cell_type": "markdown",
   "id": "3bba4cb2",
   "metadata": {},
   "source": [
    "Quadratic agent-independant"
   ]
  },
  {
   "cell_type": "code",
   "execution_count": 232,
   "id": "f8cb1c45",
   "metadata": {},
   "outputs": [
    {
     "name": "stdout",
     "output_type": "stream",
     "text": [
      "(50, 50, 2)\n",
      "min: 1.5789021724014102e-24\n",
      "max: 7.5225905629642895\n"
     ]
    }
   ],
   "source": [
    "exp_d_j_j = np.exp(-beta * distance_j_j)\n",
    "np.fill_diagonal(exp_d_j_j, 0)\n",
    "quadratic_feat = []\n",
    "quadratic_feat.append(exp_d_j_j)\n",
    "quadratic_feat.append(exp_d_j_j * distance_hj[None,:])\n",
    "\n",
    "# Stack and save\n",
    "quadratic_j_j_k = np.stack(quadratic_feat, axis=2) \n",
    "np.save('../input_data/quadratic_j_j_k.npy', quadratic_j_j_k)\n",
    "print(quadratic_j_j_k.shape)\n",
    "print(\"min:\", quadratic_j_j_k[quadratic_j_j_k>0].min())\n",
    "print(\"max:\", quadratic_j_j_k.max())"
   ]
  },
  {
   "cell_type": "code",
   "execution_count": 233,
   "id": "a29dff1d",
   "metadata": {},
   "outputs": [],
   "source": [
    "# a = quadratic_j_j_k[:,:, 0].copy()\n",
    "# b = quadratic_j_j_k[:,:, 1].copy()\n",
    "\n",
    "# np.fill_diagonal(a, 1)\n",
    "# np.fill_diagonal(b, 200000)\n",
    "\n",
    "# (b/a).min()"
   ]
  },
  {
   "cell_type": "code",
   "execution_count": 234,
   "id": "b3616e76",
   "metadata": {},
   "outputs": [],
   "source": [
    "# np.all((quadratic_j_j_k[:,:, 1] - 1.487189 * quadratic_j_j_k[:,:, 0] )>=0 )"
   ]
  },
  {
   "cell_type": "code",
   "execution_count": 235,
   "id": "f6fdb8f0",
   "metadata": {},
   "outputs": [],
   "source": [
    "# (quadratic_j_j_k  @ np.array([-1.5,1])).min()"
   ]
  },
  {
   "cell_type": "code",
   "execution_count": 236,
   "id": "2de81f40",
   "metadata": {},
   "outputs": [
    {
     "data": {
      "text/plain": [
       "5"
      ]
     },
     "execution_count": 236,
     "metadata": {},
     "output_type": "execute_result"
    }
   ],
   "source": [
    "modular_j_k.shape[-1] + modular_i_j_k.shape[-1] + quadratic_j_j_k.shape[-1]"
   ]
  },
  {
   "cell_type": "markdown",
   "id": "2ed32709",
   "metadata": {},
   "source": [
    "Observed bundles\n"
   ]
  },
  {
   "cell_type": "code",
   "execution_count": 237,
   "id": "16e8e4da",
   "metadata": {},
   "outputs": [
    {
     "name": "stdout",
     "output_type": "stream",
     "text": [
      "(13229, 50)\n"
     ]
    }
   ],
   "source": [
    "obs_bundles = revenue_i_j > 0\n",
    "obs_bundles = obs_bundles[random_agents, :]\n",
    "np.save('../input_data/obs_bundles.npy', obs_bundles)\n",
    "print(obs_bundles.shape)"
   ]
  },
  {
   "cell_type": "code",
   "execution_count": 238,
   "id": "2ef172a4",
   "metadata": {},
   "outputs": [],
   "source": [
    "# import matplotlib.pyplot as plt\n",
    "# count = obs_bundles.sum(1)\n",
    "# plt.hist(count, bins=50, alpha=0.5, color='blue', label='observed')\n",
    "\n",
    "# plt.yscale('log') \n",
    "# plt.xlabel(\"Number of destinations\")\n",
    "# plt.ylabel(\"Count (log scale)\")\n",
    "# plt.legend()\n",
    "# plt.grid(True, which=\"both\", linestyle=\"--\", linewidth=0.5)\n",
    "# plt.tight_layout()\n",
    "# plt.show()"
   ]
  },
  {
   "cell_type": "markdown",
   "id": "1604f427",
   "metadata": {},
   "source": [
    "Errors"
   ]
  },
  {
   "cell_type": "code",
   "execution_count": 239,
   "id": "d270a597",
   "metadata": {},
   "outputs": [],
   "source": [
    "rho_0 = .16\n",
    "rho_d = .82\n",
    "sigmasq = 18\n",
    "\n",
    "Covariance = sigmasq * rho_0 * np.exp(- rho_d * distance_j_j)\n",
    "from scipy.linalg import sqrtm\n",
    "A_sqrt = sqrtm(Covariance)"
   ]
  },
  {
   "cell_type": "code",
   "execution_count": null,
   "id": "b9454316",
   "metadata": {},
   "outputs": [],
   "source": []
  }
 ],
 "metadata": {
  "kernelspec": {
   "display_name": ".bundle",
   "language": "python",
   "name": "python3"
  },
  "language_info": {
   "codemirror_mode": {
    "name": "ipython",
    "version": 3
   },
   "file_extension": ".py",
   "mimetype": "text/x-python",
   "name": "python",
   "nbconvert_exporter": "python",
   "pygments_lexer": "ipython3",
   "version": "3.11.12"
  }
 },
 "nbformat": 4,
 "nbformat_minor": 5
}
